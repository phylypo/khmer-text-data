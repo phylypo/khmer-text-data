{
  "nbformat": 4,
  "nbformat_minor": 0,
  "metadata": {
    "colab": {
      "name": "Transformer-Trax.ipynb",
      "provenance": [],
      "collapsed_sections": [
        "gs07LYwPFmBy",
        "JJ8bCTEHOE70",
        "SKKOUZWZFp47",
        "FvM2XPyRPRmt"
      ],
      "toc_visible": true,
      "mount_file_id": "1RDPUiIuP9nW-vVYfzfv6hj1GhYTnqMQN",
      "authorship_tag": "ABX9TyO53iWYitvNQ9F0jVrdReKy",
      "include_colab_link": true
    },
    "kernelspec": {
      "name": "python3",
      "display_name": "Python 3"
    },
    "accelerator": "GPU",
    "widgets": {
      "application/vnd.jupyter.widget-state+json": {
        "116656e797bc428ca57c53f62bffc162": {
          "model_module": "@jupyter-widgets/controls",
          "model_name": "HBoxModel",
          "state": {
            "_view_name": "HBoxView",
            "_dom_classes": [],
            "_model_name": "HBoxModel",
            "_view_module": "@jupyter-widgets/controls",
            "_model_module_version": "1.5.0",
            "_view_count": null,
            "_view_module_version": "1.5.0",
            "box_style": "",
            "layout": "IPY_MODEL_a655702f7540458eb656770692424363",
            "_model_module": "@jupyter-widgets/controls",
            "children": [
              "IPY_MODEL_a0a1893a99c44cc08c574ef91b286223",
              "IPY_MODEL_8b9a0db71f57430dbc02c43f3019619e"
            ]
          }
        },
        "a655702f7540458eb656770692424363": {
          "model_module": "@jupyter-widgets/base",
          "model_name": "LayoutModel",
          "state": {
            "_view_name": "LayoutView",
            "grid_template_rows": null,
            "right": null,
            "justify_content": null,
            "_view_module": "@jupyter-widgets/base",
            "overflow": null,
            "_model_module_version": "1.2.0",
            "_view_count": null,
            "flex_flow": null,
            "width": null,
            "min_width": null,
            "border": null,
            "align_items": null,
            "bottom": null,
            "_model_module": "@jupyter-widgets/base",
            "top": null,
            "grid_column": null,
            "overflow_y": null,
            "overflow_x": null,
            "grid_auto_flow": null,
            "grid_area": null,
            "grid_template_columns": null,
            "flex": null,
            "_model_name": "LayoutModel",
            "justify_items": null,
            "grid_row": null,
            "max_height": null,
            "align_content": null,
            "visibility": null,
            "align_self": null,
            "height": null,
            "min_height": null,
            "padding": null,
            "grid_auto_rows": null,
            "grid_gap": null,
            "max_width": null,
            "order": null,
            "_view_module_version": "1.2.0",
            "grid_template_areas": null,
            "object_position": null,
            "object_fit": null,
            "grid_auto_columns": null,
            "margin": null,
            "display": null,
            "left": null
          }
        },
        "a0a1893a99c44cc08c574ef91b286223": {
          "model_module": "@jupyter-widgets/controls",
          "model_name": "FloatProgressModel",
          "state": {
            "_view_name": "ProgressView",
            "style": "IPY_MODEL_c778348c12264021b843d4fae3ee8f99",
            "_dom_classes": [],
            "description": "Dl Completed...: 100%",
            "_model_name": "FloatProgressModel",
            "bar_style": "success",
            "max": 1,
            "_view_module": "@jupyter-widgets/controls",
            "_model_module_version": "1.5.0",
            "value": 1,
            "_view_count": null,
            "_view_module_version": "1.5.0",
            "orientation": "horizontal",
            "min": 0,
            "description_tooltip": null,
            "_model_module": "@jupyter-widgets/controls",
            "layout": "IPY_MODEL_25ddbbeb32a44ecea46d56684dec98a7"
          }
        },
        "8b9a0db71f57430dbc02c43f3019619e": {
          "model_module": "@jupyter-widgets/controls",
          "model_name": "HTMLModel",
          "state": {
            "_view_name": "HTMLView",
            "style": "IPY_MODEL_ac9ec0f2442e451f924f6b7a15d18523",
            "_dom_classes": [],
            "description": "",
            "_model_name": "HTMLModel",
            "placeholder": "​",
            "_view_module": "@jupyter-widgets/controls",
            "_model_module_version": "1.5.0",
            "value": " 5/5 [01:21&lt;00:00, 16.36s/ url]",
            "_view_count": null,
            "_view_module_version": "1.5.0",
            "description_tooltip": null,
            "_model_module": "@jupyter-widgets/controls",
            "layout": "IPY_MODEL_5845b9d512b84de38ef40609eac15165"
          }
        },
        "c778348c12264021b843d4fae3ee8f99": {
          "model_module": "@jupyter-widgets/controls",
          "model_name": "ProgressStyleModel",
          "state": {
            "_view_name": "StyleView",
            "_model_name": "ProgressStyleModel",
            "description_width": "initial",
            "_view_module": "@jupyter-widgets/base",
            "_model_module_version": "1.5.0",
            "_view_count": null,
            "_view_module_version": "1.2.0",
            "bar_color": null,
            "_model_module": "@jupyter-widgets/controls"
          }
        },
        "25ddbbeb32a44ecea46d56684dec98a7": {
          "model_module": "@jupyter-widgets/base",
          "model_name": "LayoutModel",
          "state": {
            "_view_name": "LayoutView",
            "grid_template_rows": null,
            "right": null,
            "justify_content": null,
            "_view_module": "@jupyter-widgets/base",
            "overflow": null,
            "_model_module_version": "1.2.0",
            "_view_count": null,
            "flex_flow": null,
            "width": null,
            "min_width": null,
            "border": null,
            "align_items": null,
            "bottom": null,
            "_model_module": "@jupyter-widgets/base",
            "top": null,
            "grid_column": null,
            "overflow_y": null,
            "overflow_x": null,
            "grid_auto_flow": null,
            "grid_area": null,
            "grid_template_columns": null,
            "flex": null,
            "_model_name": "LayoutModel",
            "justify_items": null,
            "grid_row": null,
            "max_height": null,
            "align_content": null,
            "visibility": null,
            "align_self": null,
            "height": null,
            "min_height": null,
            "padding": null,
            "grid_auto_rows": null,
            "grid_gap": null,
            "max_width": null,
            "order": null,
            "_view_module_version": "1.2.0",
            "grid_template_areas": null,
            "object_position": null,
            "object_fit": null,
            "grid_auto_columns": null,
            "margin": null,
            "display": null,
            "left": null
          }
        },
        "ac9ec0f2442e451f924f6b7a15d18523": {
          "model_module": "@jupyter-widgets/controls",
          "model_name": "DescriptionStyleModel",
          "state": {
            "_view_name": "StyleView",
            "_model_name": "DescriptionStyleModel",
            "description_width": "",
            "_view_module": "@jupyter-widgets/base",
            "_model_module_version": "1.5.0",
            "_view_count": null,
            "_view_module_version": "1.2.0",
            "_model_module": "@jupyter-widgets/controls"
          }
        },
        "5845b9d512b84de38ef40609eac15165": {
          "model_module": "@jupyter-widgets/base",
          "model_name": "LayoutModel",
          "state": {
            "_view_name": "LayoutView",
            "grid_template_rows": null,
            "right": null,
            "justify_content": null,
            "_view_module": "@jupyter-widgets/base",
            "overflow": null,
            "_model_module_version": "1.2.0",
            "_view_count": null,
            "flex_flow": null,
            "width": null,
            "min_width": null,
            "border": null,
            "align_items": null,
            "bottom": null,
            "_model_module": "@jupyter-widgets/base",
            "top": null,
            "grid_column": null,
            "overflow_y": null,
            "overflow_x": null,
            "grid_auto_flow": null,
            "grid_area": null,
            "grid_template_columns": null,
            "flex": null,
            "_model_name": "LayoutModel",
            "justify_items": null,
            "grid_row": null,
            "max_height": null,
            "align_content": null,
            "visibility": null,
            "align_self": null,
            "height": null,
            "min_height": null,
            "padding": null,
            "grid_auto_rows": null,
            "grid_gap": null,
            "max_width": null,
            "order": null,
            "_view_module_version": "1.2.0",
            "grid_template_areas": null,
            "object_position": null,
            "object_fit": null,
            "grid_auto_columns": null,
            "margin": null,
            "display": null,
            "left": null
          }
        },
        "5c349bdff7c74fcc8d21ccbf750d3ead": {
          "model_module": "@jupyter-widgets/controls",
          "model_name": "HBoxModel",
          "state": {
            "_view_name": "HBoxView",
            "_dom_classes": [],
            "_model_name": "HBoxModel",
            "_view_module": "@jupyter-widgets/controls",
            "_model_module_version": "1.5.0",
            "_view_count": null,
            "_view_module_version": "1.5.0",
            "box_style": "",
            "layout": "IPY_MODEL_b98f9c40e1ed4435ae88b8fa23e9b5b9",
            "_model_module": "@jupyter-widgets/controls",
            "children": [
              "IPY_MODEL_ac644cd1239241c9a5d8bdb58f11b7ea",
              "IPY_MODEL_cdbb3335ec844c339fc0d01c5b877217"
            ]
          }
        },
        "b98f9c40e1ed4435ae88b8fa23e9b5b9": {
          "model_module": "@jupyter-widgets/base",
          "model_name": "LayoutModel",
          "state": {
            "_view_name": "LayoutView",
            "grid_template_rows": null,
            "right": null,
            "justify_content": null,
            "_view_module": "@jupyter-widgets/base",
            "overflow": null,
            "_model_module_version": "1.2.0",
            "_view_count": null,
            "flex_flow": null,
            "width": null,
            "min_width": null,
            "border": null,
            "align_items": null,
            "bottom": null,
            "_model_module": "@jupyter-widgets/base",
            "top": null,
            "grid_column": null,
            "overflow_y": null,
            "overflow_x": null,
            "grid_auto_flow": null,
            "grid_area": null,
            "grid_template_columns": null,
            "flex": null,
            "_model_name": "LayoutModel",
            "justify_items": null,
            "grid_row": null,
            "max_height": null,
            "align_content": null,
            "visibility": null,
            "align_self": null,
            "height": null,
            "min_height": null,
            "padding": null,
            "grid_auto_rows": null,
            "grid_gap": null,
            "max_width": null,
            "order": null,
            "_view_module_version": "1.2.0",
            "grid_template_areas": null,
            "object_position": null,
            "object_fit": null,
            "grid_auto_columns": null,
            "margin": null,
            "display": null,
            "left": null
          }
        },
        "ac644cd1239241c9a5d8bdb58f11b7ea": {
          "model_module": "@jupyter-widgets/controls",
          "model_name": "FloatProgressModel",
          "state": {
            "_view_name": "ProgressView",
            "style": "IPY_MODEL_30f9364c600d4b459edd6afe830a78c3",
            "_dom_classes": [],
            "description": "Dl Size...: ",
            "_model_name": "FloatProgressModel",
            "bar_style": "success",
            "max": 1,
            "_view_module": "@jupyter-widgets/controls",
            "_model_module_version": "1.5.0",
            "value": 1,
            "_view_count": null,
            "_view_module_version": "1.5.0",
            "orientation": "horizontal",
            "min": 0,
            "description_tooltip": null,
            "_model_module": "@jupyter-widgets/controls",
            "layout": "IPY_MODEL_dec0527bf04240ee862ba50c18aad480"
          }
        },
        "cdbb3335ec844c339fc0d01c5b877217": {
          "model_module": "@jupyter-widgets/controls",
          "model_name": "HTMLModel",
          "state": {
            "_view_name": "HTMLView",
            "style": "IPY_MODEL_6088621ff1b9461186f3acf31dc78603",
            "_dom_classes": [],
            "description": "",
            "_model_name": "HTMLModel",
            "placeholder": "​",
            "_view_module": "@jupyter-widgets/controls",
            "_model_module_version": "1.5.0",
            "value": " 557/? [01:21&lt;00:00,  6.81 MiB/s]",
            "_view_count": null,
            "_view_module_version": "1.5.0",
            "description_tooltip": null,
            "_model_module": "@jupyter-widgets/controls",
            "layout": "IPY_MODEL_a3096fd8fed64de7a67b77ca6dff2ae5"
          }
        },
        "30f9364c600d4b459edd6afe830a78c3": {
          "model_module": "@jupyter-widgets/controls",
          "model_name": "ProgressStyleModel",
          "state": {
            "_view_name": "StyleView",
            "_model_name": "ProgressStyleModel",
            "description_width": "initial",
            "_view_module": "@jupyter-widgets/base",
            "_model_module_version": "1.5.0",
            "_view_count": null,
            "_view_module_version": "1.2.0",
            "bar_color": null,
            "_model_module": "@jupyter-widgets/controls"
          }
        },
        "dec0527bf04240ee862ba50c18aad480": {
          "model_module": "@jupyter-widgets/base",
          "model_name": "LayoutModel",
          "state": {
            "_view_name": "LayoutView",
            "grid_template_rows": null,
            "right": null,
            "justify_content": null,
            "_view_module": "@jupyter-widgets/base",
            "overflow": null,
            "_model_module_version": "1.2.0",
            "_view_count": null,
            "flex_flow": null,
            "width": null,
            "min_width": null,
            "border": null,
            "align_items": null,
            "bottom": null,
            "_model_module": "@jupyter-widgets/base",
            "top": null,
            "grid_column": null,
            "overflow_y": null,
            "overflow_x": null,
            "grid_auto_flow": null,
            "grid_area": null,
            "grid_template_columns": null,
            "flex": null,
            "_model_name": "LayoutModel",
            "justify_items": null,
            "grid_row": null,
            "max_height": null,
            "align_content": null,
            "visibility": null,
            "align_self": null,
            "height": null,
            "min_height": null,
            "padding": null,
            "grid_auto_rows": null,
            "grid_gap": null,
            "max_width": null,
            "order": null,
            "_view_module_version": "1.2.0",
            "grid_template_areas": null,
            "object_position": null,
            "object_fit": null,
            "grid_auto_columns": null,
            "margin": null,
            "display": null,
            "left": null
          }
        },
        "6088621ff1b9461186f3acf31dc78603": {
          "model_module": "@jupyter-widgets/controls",
          "model_name": "DescriptionStyleModel",
          "state": {
            "_view_name": "StyleView",
            "_model_name": "DescriptionStyleModel",
            "description_width": "",
            "_view_module": "@jupyter-widgets/base",
            "_model_module_version": "1.5.0",
            "_view_count": null,
            "_view_module_version": "1.2.0",
            "_model_module": "@jupyter-widgets/controls"
          }
        },
        "a3096fd8fed64de7a67b77ca6dff2ae5": {
          "model_module": "@jupyter-widgets/base",
          "model_name": "LayoutModel",
          "state": {
            "_view_name": "LayoutView",
            "grid_template_rows": null,
            "right": null,
            "justify_content": null,
            "_view_module": "@jupyter-widgets/base",
            "overflow": null,
            "_model_module_version": "1.2.0",
            "_view_count": null,
            "flex_flow": null,
            "width": null,
            "min_width": null,
            "border": null,
            "align_items": null,
            "bottom": null,
            "_model_module": "@jupyter-widgets/base",
            "top": null,
            "grid_column": null,
            "overflow_y": null,
            "overflow_x": null,
            "grid_auto_flow": null,
            "grid_area": null,
            "grid_template_columns": null,
            "flex": null,
            "_model_name": "LayoutModel",
            "justify_items": null,
            "grid_row": null,
            "max_height": null,
            "align_content": null,
            "visibility": null,
            "align_self": null,
            "height": null,
            "min_height": null,
            "padding": null,
            "grid_auto_rows": null,
            "grid_gap": null,
            "max_width": null,
            "order": null,
            "_view_module_version": "1.2.0",
            "grid_template_areas": null,
            "object_position": null,
            "object_fit": null,
            "grid_auto_columns": null,
            "margin": null,
            "display": null,
            "left": null
          }
        },
        "a4cf82fe72d646a096cb41a939a6f8d7": {
          "model_module": "@jupyter-widgets/controls",
          "model_name": "HBoxModel",
          "state": {
            "_view_name": "HBoxView",
            "_dom_classes": [],
            "_model_name": "HBoxModel",
            "_view_module": "@jupyter-widgets/controls",
            "_model_module_version": "1.5.0",
            "_view_count": null,
            "_view_module_version": "1.5.0",
            "box_style": "",
            "layout": "IPY_MODEL_90b20baaf7cf42e3992e86251ad1fd8a",
            "_model_module": "@jupyter-widgets/controls",
            "children": [
              "IPY_MODEL_c584e22915f44c73bbf60c0d4ec4b975",
              "IPY_MODEL_d9e7e03b5d4e46be8a9f256a63034b95"
            ]
          }
        },
        "90b20baaf7cf42e3992e86251ad1fd8a": {
          "model_module": "@jupyter-widgets/base",
          "model_name": "LayoutModel",
          "state": {
            "_view_name": "LayoutView",
            "grid_template_rows": null,
            "right": null,
            "justify_content": null,
            "_view_module": "@jupyter-widgets/base",
            "overflow": null,
            "_model_module_version": "1.2.0",
            "_view_count": null,
            "flex_flow": null,
            "width": null,
            "min_width": null,
            "border": null,
            "align_items": null,
            "bottom": null,
            "_model_module": "@jupyter-widgets/base",
            "top": null,
            "grid_column": null,
            "overflow_y": null,
            "overflow_x": null,
            "grid_auto_flow": null,
            "grid_area": null,
            "grid_template_columns": null,
            "flex": null,
            "_model_name": "LayoutModel",
            "justify_items": null,
            "grid_row": null,
            "max_height": null,
            "align_content": null,
            "visibility": null,
            "align_self": null,
            "height": null,
            "min_height": null,
            "padding": null,
            "grid_auto_rows": null,
            "grid_gap": null,
            "max_width": null,
            "order": null,
            "_view_module_version": "1.2.0",
            "grid_template_areas": null,
            "object_position": null,
            "object_fit": null,
            "grid_auto_columns": null,
            "margin": null,
            "display": null,
            "left": null
          }
        },
        "c584e22915f44c73bbf60c0d4ec4b975": {
          "model_module": "@jupyter-widgets/controls",
          "model_name": "FloatProgressModel",
          "state": {
            "_view_name": "ProgressView",
            "style": "IPY_MODEL_ac9bc06e41904401a8d719b29353212b",
            "_dom_classes": [],
            "description": "Extraction completed...: 100%",
            "_model_name": "FloatProgressModel",
            "bar_style": "success",
            "max": 1,
            "_view_module": "@jupyter-widgets/controls",
            "_model_module_version": "1.5.0",
            "value": 1,
            "_view_count": null,
            "_view_module_version": "1.5.0",
            "orientation": "horizontal",
            "min": 0,
            "description_tooltip": null,
            "_model_module": "@jupyter-widgets/controls",
            "layout": "IPY_MODEL_62708cd70e094dd8a60137c63ad559a9"
          }
        },
        "d9e7e03b5d4e46be8a9f256a63034b95": {
          "model_module": "@jupyter-widgets/controls",
          "model_name": "HTMLModel",
          "state": {
            "_view_name": "HTMLView",
            "style": "IPY_MODEL_bf9c11d1ea0449a3a612172e4183f5dd",
            "_dom_classes": [],
            "description": "",
            "_model_name": "HTMLModel",
            "placeholder": "​",
            "_view_module": "@jupyter-widgets/controls",
            "_model_module_version": "1.5.0",
            "value": " 2/2 [01:21&lt;00:00, 40.88s/ file]",
            "_view_count": null,
            "_view_module_version": "1.5.0",
            "description_tooltip": null,
            "_model_module": "@jupyter-widgets/controls",
            "layout": "IPY_MODEL_e8ee3ed2d4344df88de0c758c757ddf0"
          }
        },
        "ac9bc06e41904401a8d719b29353212b": {
          "model_module": "@jupyter-widgets/controls",
          "model_name": "ProgressStyleModel",
          "state": {
            "_view_name": "StyleView",
            "_model_name": "ProgressStyleModel",
            "description_width": "initial",
            "_view_module": "@jupyter-widgets/base",
            "_model_module_version": "1.5.0",
            "_view_count": null,
            "_view_module_version": "1.2.0",
            "bar_color": null,
            "_model_module": "@jupyter-widgets/controls"
          }
        },
        "62708cd70e094dd8a60137c63ad559a9": {
          "model_module": "@jupyter-widgets/base",
          "model_name": "LayoutModel",
          "state": {
            "_view_name": "LayoutView",
            "grid_template_rows": null,
            "right": null,
            "justify_content": null,
            "_view_module": "@jupyter-widgets/base",
            "overflow": null,
            "_model_module_version": "1.2.0",
            "_view_count": null,
            "flex_flow": null,
            "width": null,
            "min_width": null,
            "border": null,
            "align_items": null,
            "bottom": null,
            "_model_module": "@jupyter-widgets/base",
            "top": null,
            "grid_column": null,
            "overflow_y": null,
            "overflow_x": null,
            "grid_auto_flow": null,
            "grid_area": null,
            "grid_template_columns": null,
            "flex": null,
            "_model_name": "LayoutModel",
            "justify_items": null,
            "grid_row": null,
            "max_height": null,
            "align_content": null,
            "visibility": null,
            "align_self": null,
            "height": null,
            "min_height": null,
            "padding": null,
            "grid_auto_rows": null,
            "grid_gap": null,
            "max_width": null,
            "order": null,
            "_view_module_version": "1.2.0",
            "grid_template_areas": null,
            "object_position": null,
            "object_fit": null,
            "grid_auto_columns": null,
            "margin": null,
            "display": null,
            "left": null
          }
        },
        "bf9c11d1ea0449a3a612172e4183f5dd": {
          "model_module": "@jupyter-widgets/controls",
          "model_name": "DescriptionStyleModel",
          "state": {
            "_view_name": "StyleView",
            "_model_name": "DescriptionStyleModel",
            "description_width": "",
            "_view_module": "@jupyter-widgets/base",
            "_model_module_version": "1.5.0",
            "_view_count": null,
            "_view_module_version": "1.2.0",
            "_model_module": "@jupyter-widgets/controls"
          }
        },
        "e8ee3ed2d4344df88de0c758c757ddf0": {
          "model_module": "@jupyter-widgets/base",
          "model_name": "LayoutModel",
          "state": {
            "_view_name": "LayoutView",
            "grid_template_rows": null,
            "right": null,
            "justify_content": null,
            "_view_module": "@jupyter-widgets/base",
            "overflow": null,
            "_model_module_version": "1.2.0",
            "_view_count": null,
            "flex_flow": null,
            "width": null,
            "min_width": null,
            "border": null,
            "align_items": null,
            "bottom": null,
            "_model_module": "@jupyter-widgets/base",
            "top": null,
            "grid_column": null,
            "overflow_y": null,
            "overflow_x": null,
            "grid_auto_flow": null,
            "grid_area": null,
            "grid_template_columns": null,
            "flex": null,
            "_model_name": "LayoutModel",
            "justify_items": null,
            "grid_row": null,
            "max_height": null,
            "align_content": null,
            "visibility": null,
            "align_self": null,
            "height": null,
            "min_height": null,
            "padding": null,
            "grid_auto_rows": null,
            "grid_gap": null,
            "max_width": null,
            "order": null,
            "_view_module_version": "1.2.0",
            "grid_template_areas": null,
            "object_position": null,
            "object_fit": null,
            "grid_auto_columns": null,
            "margin": null,
            "display": null,
            "left": null
          }
        },
        "bafcda98ed4d41efa95053a4af0bb1d0": {
          "model_module": "@jupyter-widgets/controls",
          "model_name": "HBoxModel",
          "state": {
            "_view_name": "HBoxView",
            "_dom_classes": [],
            "_model_name": "HBoxModel",
            "_view_module": "@jupyter-widgets/controls",
            "_model_module_version": "1.5.0",
            "_view_count": null,
            "_view_module_version": "1.5.0",
            "box_style": "",
            "layout": "IPY_MODEL_5c1688afb990498f930391b2020295f8",
            "_model_module": "@jupyter-widgets/controls",
            "children": [
              "IPY_MODEL_d96e91967be94e97b296c5d3442d3fee",
              "IPY_MODEL_0b44eae2faba4257b7f880b029612641"
            ]
          }
        },
        "5c1688afb990498f930391b2020295f8": {
          "model_module": "@jupyter-widgets/base",
          "model_name": "LayoutModel",
          "state": {
            "_view_name": "LayoutView",
            "grid_template_rows": null,
            "right": null,
            "justify_content": null,
            "_view_module": "@jupyter-widgets/base",
            "overflow": null,
            "_model_module_version": "1.2.0",
            "_view_count": null,
            "flex_flow": null,
            "width": null,
            "min_width": null,
            "border": null,
            "align_items": null,
            "bottom": null,
            "_model_module": "@jupyter-widgets/base",
            "top": null,
            "grid_column": null,
            "overflow_y": null,
            "overflow_x": null,
            "grid_auto_flow": null,
            "grid_area": null,
            "grid_template_columns": null,
            "flex": null,
            "_model_name": "LayoutModel",
            "justify_items": null,
            "grid_row": null,
            "max_height": null,
            "align_content": null,
            "visibility": null,
            "align_self": null,
            "height": null,
            "min_height": null,
            "padding": null,
            "grid_auto_rows": null,
            "grid_gap": null,
            "max_width": null,
            "order": null,
            "_view_module_version": "1.2.0",
            "grid_template_areas": null,
            "object_position": null,
            "object_fit": null,
            "grid_auto_columns": null,
            "margin": null,
            "display": null,
            "left": null
          }
        },
        "d96e91967be94e97b296c5d3442d3fee": {
          "model_module": "@jupyter-widgets/controls",
          "model_name": "FloatProgressModel",
          "state": {
            "_view_name": "ProgressView",
            "style": "IPY_MODEL_c172764110d74183a2550ec68e80f467",
            "_dom_classes": [],
            "description": "Generating splits...: 100%",
            "_model_name": "FloatProgressModel",
            "bar_style": "",
            "max": 3,
            "_view_module": "@jupyter-widgets/controls",
            "_model_module_version": "1.5.0",
            "value": 3,
            "_view_count": null,
            "_view_module_version": "1.5.0",
            "orientation": "horizontal",
            "min": 0,
            "description_tooltip": null,
            "_model_module": "@jupyter-widgets/controls",
            "layout": "IPY_MODEL_cc5a646b389d4e95baf088b3884b0a1c"
          }
        },
        "0b44eae2faba4257b7f880b029612641": {
          "model_module": "@jupyter-widgets/controls",
          "model_name": "HTMLModel",
          "state": {
            "_view_name": "HTMLView",
            "style": "IPY_MODEL_d53f382787474484be78f7aabaac19cf",
            "_dom_classes": [],
            "description": "",
            "_model_name": "HTMLModel",
            "placeholder": "​",
            "_view_module": "@jupyter-widgets/controls",
            "_model_module_version": "1.5.0",
            "value": " 3/3 [03:26&lt;00:00, 97.76s/ splits]",
            "_view_count": null,
            "_view_module_version": "1.5.0",
            "description_tooltip": null,
            "_model_module": "@jupyter-widgets/controls",
            "layout": "IPY_MODEL_0cb0b8c6f01642f29247bb8b20355b30"
          }
        },
        "c172764110d74183a2550ec68e80f467": {
          "model_module": "@jupyter-widgets/controls",
          "model_name": "ProgressStyleModel",
          "state": {
            "_view_name": "StyleView",
            "_model_name": "ProgressStyleModel",
            "description_width": "initial",
            "_view_module": "@jupyter-widgets/base",
            "_model_module_version": "1.5.0",
            "_view_count": null,
            "_view_module_version": "1.2.0",
            "bar_color": null,
            "_model_module": "@jupyter-widgets/controls"
          }
        },
        "cc5a646b389d4e95baf088b3884b0a1c": {
          "model_module": "@jupyter-widgets/base",
          "model_name": "LayoutModel",
          "state": {
            "_view_name": "LayoutView",
            "grid_template_rows": null,
            "right": null,
            "justify_content": null,
            "_view_module": "@jupyter-widgets/base",
            "overflow": null,
            "_model_module_version": "1.2.0",
            "_view_count": null,
            "flex_flow": null,
            "width": null,
            "min_width": null,
            "border": null,
            "align_items": null,
            "bottom": null,
            "_model_module": "@jupyter-widgets/base",
            "top": null,
            "grid_column": null,
            "overflow_y": null,
            "overflow_x": null,
            "grid_auto_flow": null,
            "grid_area": null,
            "grid_template_columns": null,
            "flex": null,
            "_model_name": "LayoutModel",
            "justify_items": null,
            "grid_row": null,
            "max_height": null,
            "align_content": null,
            "visibility": null,
            "align_self": null,
            "height": null,
            "min_height": null,
            "padding": null,
            "grid_auto_rows": null,
            "grid_gap": null,
            "max_width": null,
            "order": null,
            "_view_module_version": "1.2.0",
            "grid_template_areas": null,
            "object_position": null,
            "object_fit": null,
            "grid_auto_columns": null,
            "margin": null,
            "display": null,
            "left": null
          }
        },
        "d53f382787474484be78f7aabaac19cf": {
          "model_module": "@jupyter-widgets/controls",
          "model_name": "DescriptionStyleModel",
          "state": {
            "_view_name": "StyleView",
            "_model_name": "DescriptionStyleModel",
            "description_width": "",
            "_view_module": "@jupyter-widgets/base",
            "_model_module_version": "1.5.0",
            "_view_count": null,
            "_view_module_version": "1.2.0",
            "_model_module": "@jupyter-widgets/controls"
          }
        },
        "0cb0b8c6f01642f29247bb8b20355b30": {
          "model_module": "@jupyter-widgets/base",
          "model_name": "LayoutModel",
          "state": {
            "_view_name": "LayoutView",
            "grid_template_rows": null,
            "right": null,
            "justify_content": null,
            "_view_module": "@jupyter-widgets/base",
            "overflow": null,
            "_model_module_version": "1.2.0",
            "_view_count": null,
            "flex_flow": null,
            "width": null,
            "min_width": null,
            "border": null,
            "align_items": null,
            "bottom": null,
            "_model_module": "@jupyter-widgets/base",
            "top": null,
            "grid_column": null,
            "overflow_y": null,
            "overflow_x": null,
            "grid_auto_flow": null,
            "grid_area": null,
            "grid_template_columns": null,
            "flex": null,
            "_model_name": "LayoutModel",
            "justify_items": null,
            "grid_row": null,
            "max_height": null,
            "align_content": null,
            "visibility": null,
            "align_self": null,
            "height": null,
            "min_height": null,
            "padding": null,
            "grid_auto_rows": null,
            "grid_gap": null,
            "max_width": null,
            "order": null,
            "_view_module_version": "1.2.0",
            "grid_template_areas": null,
            "object_position": null,
            "object_fit": null,
            "grid_auto_columns": null,
            "margin": null,
            "display": null,
            "left": null
          }
        },
        "083206173bed4e3bbf36a505df5563c6": {
          "model_module": "@jupyter-widgets/controls",
          "model_name": "HBoxModel",
          "state": {
            "_view_name": "HBoxView",
            "_dom_classes": [],
            "_model_name": "HBoxModel",
            "_view_module": "@jupyter-widgets/controls",
            "_model_module_version": "1.5.0",
            "_view_count": null,
            "_view_module_version": "1.5.0",
            "box_style": "",
            "layout": "IPY_MODEL_74a118a1be294555b4436c2d797ee54a",
            "_model_module": "@jupyter-widgets/controls",
            "children": [
              "IPY_MODEL_4fa117db47684a6eaaf169e9f3e9d9fd",
              "IPY_MODEL_bf1296e5da09408dbb58c9c8a8186a51"
            ]
          }
        },
        "74a118a1be294555b4436c2d797ee54a": {
          "model_module": "@jupyter-widgets/base",
          "model_name": "LayoutModel",
          "state": {
            "_view_name": "LayoutView",
            "grid_template_rows": null,
            "right": null,
            "justify_content": null,
            "_view_module": "@jupyter-widgets/base",
            "overflow": null,
            "_model_module_version": "1.2.0",
            "_view_count": null,
            "flex_flow": null,
            "width": null,
            "min_width": null,
            "border": null,
            "align_items": null,
            "bottom": null,
            "_model_module": "@jupyter-widgets/base",
            "top": null,
            "grid_column": null,
            "overflow_y": null,
            "overflow_x": null,
            "grid_auto_flow": null,
            "grid_area": null,
            "grid_template_columns": null,
            "flex": null,
            "_model_name": "LayoutModel",
            "justify_items": null,
            "grid_row": null,
            "max_height": null,
            "align_content": null,
            "visibility": null,
            "align_self": null,
            "height": null,
            "min_height": null,
            "padding": null,
            "grid_auto_rows": null,
            "grid_gap": null,
            "max_width": null,
            "order": null,
            "_view_module_version": "1.2.0",
            "grid_template_areas": null,
            "object_position": null,
            "object_fit": null,
            "grid_auto_columns": null,
            "margin": null,
            "display": null,
            "left": null
          }
        },
        "4fa117db47684a6eaaf169e9f3e9d9fd": {
          "model_module": "@jupyter-widgets/controls",
          "model_name": "FloatProgressModel",
          "state": {
            "_view_name": "ProgressView",
            "style": "IPY_MODEL_285ccf067d6e452eb9d5e1e564700e89",
            "_dom_classes": [],
            "description": "Generating train examples...: 100%",
            "_model_name": "FloatProgressModel",
            "bar_style": "",
            "max": 287113,
            "_view_module": "@jupyter-widgets/controls",
            "_model_module_version": "1.5.0",
            "value": 287113,
            "_view_count": null,
            "_view_module_version": "1.5.0",
            "orientation": "horizontal",
            "min": 0,
            "description_tooltip": null,
            "_model_module": "@jupyter-widgets/controls",
            "layout": "IPY_MODEL_18057fab327744cab2acb5860e960010"
          }
        },
        "bf1296e5da09408dbb58c9c8a8186a51": {
          "model_module": "@jupyter-widgets/controls",
          "model_name": "HTMLModel",
          "state": {
            "_view_name": "HTMLView",
            "style": "IPY_MODEL_a0392ee8b28a406db0b55bb29f9c929b",
            "_dom_classes": [],
            "description": "",
            "_model_name": "HTMLModel",
            "placeholder": "​",
            "_view_module": "@jupyter-widgets/controls",
            "_model_module_version": "1.5.0",
            "value": " 287113/287113 [03:05&lt;00:00, 812.71 examples/s]",
            "_view_count": null,
            "_view_module_version": "1.5.0",
            "description_tooltip": null,
            "_model_module": "@jupyter-widgets/controls",
            "layout": "IPY_MODEL_914a303e8a944709a6623609f66628f2"
          }
        },
        "285ccf067d6e452eb9d5e1e564700e89": {
          "model_module": "@jupyter-widgets/controls",
          "model_name": "ProgressStyleModel",
          "state": {
            "_view_name": "StyleView",
            "_model_name": "ProgressStyleModel",
            "description_width": "initial",
            "_view_module": "@jupyter-widgets/base",
            "_model_module_version": "1.5.0",
            "_view_count": null,
            "_view_module_version": "1.2.0",
            "bar_color": null,
            "_model_module": "@jupyter-widgets/controls"
          }
        },
        "18057fab327744cab2acb5860e960010": {
          "model_module": "@jupyter-widgets/base",
          "model_name": "LayoutModel",
          "state": {
            "_view_name": "LayoutView",
            "grid_template_rows": null,
            "right": null,
            "justify_content": null,
            "_view_module": "@jupyter-widgets/base",
            "overflow": null,
            "_model_module_version": "1.2.0",
            "_view_count": null,
            "flex_flow": null,
            "width": null,
            "min_width": null,
            "border": null,
            "align_items": null,
            "bottom": null,
            "_model_module": "@jupyter-widgets/base",
            "top": null,
            "grid_column": null,
            "overflow_y": null,
            "overflow_x": null,
            "grid_auto_flow": null,
            "grid_area": null,
            "grid_template_columns": null,
            "flex": null,
            "_model_name": "LayoutModel",
            "justify_items": null,
            "grid_row": null,
            "max_height": null,
            "align_content": null,
            "visibility": null,
            "align_self": null,
            "height": null,
            "min_height": null,
            "padding": null,
            "grid_auto_rows": null,
            "grid_gap": null,
            "max_width": null,
            "order": null,
            "_view_module_version": "1.2.0",
            "grid_template_areas": null,
            "object_position": null,
            "object_fit": null,
            "grid_auto_columns": null,
            "margin": null,
            "display": null,
            "left": null
          }
        },
        "a0392ee8b28a406db0b55bb29f9c929b": {
          "model_module": "@jupyter-widgets/controls",
          "model_name": "DescriptionStyleModel",
          "state": {
            "_view_name": "StyleView",
            "_model_name": "DescriptionStyleModel",
            "description_width": "",
            "_view_module": "@jupyter-widgets/base",
            "_model_module_version": "1.5.0",
            "_view_count": null,
            "_view_module_version": "1.2.0",
            "_model_module": "@jupyter-widgets/controls"
          }
        },
        "914a303e8a944709a6623609f66628f2": {
          "model_module": "@jupyter-widgets/base",
          "model_name": "LayoutModel",
          "state": {
            "_view_name": "LayoutView",
            "grid_template_rows": null,
            "right": null,
            "justify_content": null,
            "_view_module": "@jupyter-widgets/base",
            "overflow": null,
            "_model_module_version": "1.2.0",
            "_view_count": null,
            "flex_flow": null,
            "width": null,
            "min_width": null,
            "border": null,
            "align_items": null,
            "bottom": null,
            "_model_module": "@jupyter-widgets/base",
            "top": null,
            "grid_column": null,
            "overflow_y": null,
            "overflow_x": null,
            "grid_auto_flow": null,
            "grid_area": null,
            "grid_template_columns": null,
            "flex": null,
            "_model_name": "LayoutModel",
            "justify_items": null,
            "grid_row": null,
            "max_height": null,
            "align_content": null,
            "visibility": null,
            "align_self": null,
            "height": null,
            "min_height": null,
            "padding": null,
            "grid_auto_rows": null,
            "grid_gap": null,
            "max_width": null,
            "order": null,
            "_view_module_version": "1.2.0",
            "grid_template_areas": null,
            "object_position": null,
            "object_fit": null,
            "grid_auto_columns": null,
            "margin": null,
            "display": null,
            "left": null
          }
        },
        "f183c35929cc4d0eb16a068af04ccf2b": {
          "model_module": "@jupyter-widgets/controls",
          "model_name": "HBoxModel",
          "state": {
            "_view_name": "HBoxView",
            "_dom_classes": [],
            "_model_name": "HBoxModel",
            "_view_module": "@jupyter-widgets/controls",
            "_model_module_version": "1.5.0",
            "_view_count": null,
            "_view_module_version": "1.5.0",
            "box_style": "",
            "layout": "IPY_MODEL_0b1ab8d6b58743748e5e1895502370b0",
            "_model_module": "@jupyter-widgets/controls",
            "children": [
              "IPY_MODEL_f2ada4a661bb495f9204a37bc508636a",
              "IPY_MODEL_4b99d9f5142c4b56879068ee484327e4"
            ]
          }
        },
        "0b1ab8d6b58743748e5e1895502370b0": {
          "model_module": "@jupyter-widgets/base",
          "model_name": "LayoutModel",
          "state": {
            "_view_name": "LayoutView",
            "grid_template_rows": null,
            "right": null,
            "justify_content": null,
            "_view_module": "@jupyter-widgets/base",
            "overflow": null,
            "_model_module_version": "1.2.0",
            "_view_count": null,
            "flex_flow": null,
            "width": null,
            "min_width": null,
            "border": null,
            "align_items": null,
            "bottom": null,
            "_model_module": "@jupyter-widgets/base",
            "top": null,
            "grid_column": null,
            "overflow_y": null,
            "overflow_x": null,
            "grid_auto_flow": null,
            "grid_area": null,
            "grid_template_columns": null,
            "flex": null,
            "_model_name": "LayoutModel",
            "justify_items": null,
            "grid_row": null,
            "max_height": null,
            "align_content": null,
            "visibility": null,
            "align_self": null,
            "height": null,
            "min_height": null,
            "padding": null,
            "grid_auto_rows": null,
            "grid_gap": null,
            "max_width": null,
            "order": null,
            "_view_module_version": "1.2.0",
            "grid_template_areas": null,
            "object_position": null,
            "object_fit": null,
            "grid_auto_columns": null,
            "margin": null,
            "display": null,
            "left": null
          }
        },
        "f2ada4a661bb495f9204a37bc508636a": {
          "model_module": "@jupyter-widgets/controls",
          "model_name": "FloatProgressModel",
          "state": {
            "_view_name": "ProgressView",
            "style": "IPY_MODEL_30d06245060e4107a5fcca28db365af8",
            "_dom_classes": [],
            "description": "Shuffling cnn_dailymail-train.tfrecord...: 100%",
            "_model_name": "FloatProgressModel",
            "bar_style": "",
            "max": 287113,
            "_view_module": "@jupyter-widgets/controls",
            "_model_module_version": "1.5.0",
            "value": 287113,
            "_view_count": null,
            "_view_module_version": "1.5.0",
            "orientation": "horizontal",
            "min": 0,
            "description_tooltip": null,
            "_model_module": "@jupyter-widgets/controls",
            "layout": "IPY_MODEL_c77f85e550bf467e8f1505748d7422a3"
          }
        },
        "4b99d9f5142c4b56879068ee484327e4": {
          "model_module": "@jupyter-widgets/controls",
          "model_name": "HTMLModel",
          "state": {
            "_view_name": "HTMLView",
            "style": "IPY_MODEL_27567f2493bd40a8b8e8b7994b8e817d",
            "_dom_classes": [],
            "description": "",
            "_model_name": "HTMLModel",
            "placeholder": "​",
            "_view_module": "@jupyter-widgets/controls",
            "_model_module_version": "1.5.0",
            "value": " 287113/287113 [00:06&lt;00:00, 46559.77 examples/s]",
            "_view_count": null,
            "_view_module_version": "1.5.0",
            "description_tooltip": null,
            "_model_module": "@jupyter-widgets/controls",
            "layout": "IPY_MODEL_428dc6da8afb4d929ce25a7eb5bea68f"
          }
        },
        "30d06245060e4107a5fcca28db365af8": {
          "model_module": "@jupyter-widgets/controls",
          "model_name": "ProgressStyleModel",
          "state": {
            "_view_name": "StyleView",
            "_model_name": "ProgressStyleModel",
            "description_width": "initial",
            "_view_module": "@jupyter-widgets/base",
            "_model_module_version": "1.5.0",
            "_view_count": null,
            "_view_module_version": "1.2.0",
            "bar_color": null,
            "_model_module": "@jupyter-widgets/controls"
          }
        },
        "c77f85e550bf467e8f1505748d7422a3": {
          "model_module": "@jupyter-widgets/base",
          "model_name": "LayoutModel",
          "state": {
            "_view_name": "LayoutView",
            "grid_template_rows": null,
            "right": null,
            "justify_content": null,
            "_view_module": "@jupyter-widgets/base",
            "overflow": null,
            "_model_module_version": "1.2.0",
            "_view_count": null,
            "flex_flow": null,
            "width": null,
            "min_width": null,
            "border": null,
            "align_items": null,
            "bottom": null,
            "_model_module": "@jupyter-widgets/base",
            "top": null,
            "grid_column": null,
            "overflow_y": null,
            "overflow_x": null,
            "grid_auto_flow": null,
            "grid_area": null,
            "grid_template_columns": null,
            "flex": null,
            "_model_name": "LayoutModel",
            "justify_items": null,
            "grid_row": null,
            "max_height": null,
            "align_content": null,
            "visibility": null,
            "align_self": null,
            "height": null,
            "min_height": null,
            "padding": null,
            "grid_auto_rows": null,
            "grid_gap": null,
            "max_width": null,
            "order": null,
            "_view_module_version": "1.2.0",
            "grid_template_areas": null,
            "object_position": null,
            "object_fit": null,
            "grid_auto_columns": null,
            "margin": null,
            "display": null,
            "left": null
          }
        },
        "27567f2493bd40a8b8e8b7994b8e817d": {
          "model_module": "@jupyter-widgets/controls",
          "model_name": "DescriptionStyleModel",
          "state": {
            "_view_name": "StyleView",
            "_model_name": "DescriptionStyleModel",
            "description_width": "",
            "_view_module": "@jupyter-widgets/base",
            "_model_module_version": "1.5.0",
            "_view_count": null,
            "_view_module_version": "1.2.0",
            "_model_module": "@jupyter-widgets/controls"
          }
        },
        "428dc6da8afb4d929ce25a7eb5bea68f": {
          "model_module": "@jupyter-widgets/base",
          "model_name": "LayoutModel",
          "state": {
            "_view_name": "LayoutView",
            "grid_template_rows": null,
            "right": null,
            "justify_content": null,
            "_view_module": "@jupyter-widgets/base",
            "overflow": null,
            "_model_module_version": "1.2.0",
            "_view_count": null,
            "flex_flow": null,
            "width": null,
            "min_width": null,
            "border": null,
            "align_items": null,
            "bottom": null,
            "_model_module": "@jupyter-widgets/base",
            "top": null,
            "grid_column": null,
            "overflow_y": null,
            "overflow_x": null,
            "grid_auto_flow": null,
            "grid_area": null,
            "grid_template_columns": null,
            "flex": null,
            "_model_name": "LayoutModel",
            "justify_items": null,
            "grid_row": null,
            "max_height": null,
            "align_content": null,
            "visibility": null,
            "align_self": null,
            "height": null,
            "min_height": null,
            "padding": null,
            "grid_auto_rows": null,
            "grid_gap": null,
            "max_width": null,
            "order": null,
            "_view_module_version": "1.2.0",
            "grid_template_areas": null,
            "object_position": null,
            "object_fit": null,
            "grid_auto_columns": null,
            "margin": null,
            "display": null,
            "left": null
          }
        },
        "82e19b23b1374c45b6f860eacc7e5c5c": {
          "model_module": "@jupyter-widgets/controls",
          "model_name": "HBoxModel",
          "state": {
            "_view_name": "HBoxView",
            "_dom_classes": [],
            "_model_name": "HBoxModel",
            "_view_module": "@jupyter-widgets/controls",
            "_model_module_version": "1.5.0",
            "_view_count": null,
            "_view_module_version": "1.5.0",
            "box_style": "",
            "layout": "IPY_MODEL_70b2c38dcff748bfae8b0785791ce007",
            "_model_module": "@jupyter-widgets/controls",
            "children": [
              "IPY_MODEL_f81924aec9454167ae5d365c25c3b4e2",
              "IPY_MODEL_6b401335b1204bb6a9613a1c0804d2b9"
            ]
          }
        },
        "70b2c38dcff748bfae8b0785791ce007": {
          "model_module": "@jupyter-widgets/base",
          "model_name": "LayoutModel",
          "state": {
            "_view_name": "LayoutView",
            "grid_template_rows": null,
            "right": null,
            "justify_content": null,
            "_view_module": "@jupyter-widgets/base",
            "overflow": null,
            "_model_module_version": "1.2.0",
            "_view_count": null,
            "flex_flow": null,
            "width": null,
            "min_width": null,
            "border": null,
            "align_items": null,
            "bottom": null,
            "_model_module": "@jupyter-widgets/base",
            "top": null,
            "grid_column": null,
            "overflow_y": null,
            "overflow_x": null,
            "grid_auto_flow": null,
            "grid_area": null,
            "grid_template_columns": null,
            "flex": null,
            "_model_name": "LayoutModel",
            "justify_items": null,
            "grid_row": null,
            "max_height": null,
            "align_content": null,
            "visibility": null,
            "align_self": null,
            "height": null,
            "min_height": null,
            "padding": null,
            "grid_auto_rows": null,
            "grid_gap": null,
            "max_width": null,
            "order": null,
            "_view_module_version": "1.2.0",
            "grid_template_areas": null,
            "object_position": null,
            "object_fit": null,
            "grid_auto_columns": null,
            "margin": null,
            "display": null,
            "left": null
          }
        },
        "f81924aec9454167ae5d365c25c3b4e2": {
          "model_module": "@jupyter-widgets/controls",
          "model_name": "FloatProgressModel",
          "state": {
            "_view_name": "ProgressView",
            "style": "IPY_MODEL_1aec32420abd4569ba89210f592c0a93",
            "_dom_classes": [],
            "description": "Generating validation examples...: 100%",
            "_model_name": "FloatProgressModel",
            "bar_style": "",
            "max": 13368,
            "_view_module": "@jupyter-widgets/controls",
            "_model_module_version": "1.5.0",
            "value": 13368,
            "_view_count": null,
            "_view_module_version": "1.5.0",
            "orientation": "horizontal",
            "min": 0,
            "description_tooltip": null,
            "_model_module": "@jupyter-widgets/controls",
            "layout": "IPY_MODEL_3c46d5cac12741cb9a751ed6ddb3d820"
          }
        },
        "6b401335b1204bb6a9613a1c0804d2b9": {
          "model_module": "@jupyter-widgets/controls",
          "model_name": "HTMLModel",
          "state": {
            "_view_name": "HTMLView",
            "style": "IPY_MODEL_5270064c01f6459f923a2d33aec55833",
            "_dom_classes": [],
            "description": "",
            "_model_name": "HTMLModel",
            "placeholder": "​",
            "_view_module": "@jupyter-widgets/controls",
            "_model_module_version": "1.5.0",
            "value": " 13368/13368 [00:08&lt;00:00, 1607.09 examples/s]",
            "_view_count": null,
            "_view_module_version": "1.5.0",
            "description_tooltip": null,
            "_model_module": "@jupyter-widgets/controls",
            "layout": "IPY_MODEL_fd6518683d134e76b2726f32e8e0829c"
          }
        },
        "1aec32420abd4569ba89210f592c0a93": {
          "model_module": "@jupyter-widgets/controls",
          "model_name": "ProgressStyleModel",
          "state": {
            "_view_name": "StyleView",
            "_model_name": "ProgressStyleModel",
            "description_width": "initial",
            "_view_module": "@jupyter-widgets/base",
            "_model_module_version": "1.5.0",
            "_view_count": null,
            "_view_module_version": "1.2.0",
            "bar_color": null,
            "_model_module": "@jupyter-widgets/controls"
          }
        },
        "3c46d5cac12741cb9a751ed6ddb3d820": {
          "model_module": "@jupyter-widgets/base",
          "model_name": "LayoutModel",
          "state": {
            "_view_name": "LayoutView",
            "grid_template_rows": null,
            "right": null,
            "justify_content": null,
            "_view_module": "@jupyter-widgets/base",
            "overflow": null,
            "_model_module_version": "1.2.0",
            "_view_count": null,
            "flex_flow": null,
            "width": null,
            "min_width": null,
            "border": null,
            "align_items": null,
            "bottom": null,
            "_model_module": "@jupyter-widgets/base",
            "top": null,
            "grid_column": null,
            "overflow_y": null,
            "overflow_x": null,
            "grid_auto_flow": null,
            "grid_area": null,
            "grid_template_columns": null,
            "flex": null,
            "_model_name": "LayoutModel",
            "justify_items": null,
            "grid_row": null,
            "max_height": null,
            "align_content": null,
            "visibility": null,
            "align_self": null,
            "height": null,
            "min_height": null,
            "padding": null,
            "grid_auto_rows": null,
            "grid_gap": null,
            "max_width": null,
            "order": null,
            "_view_module_version": "1.2.0",
            "grid_template_areas": null,
            "object_position": null,
            "object_fit": null,
            "grid_auto_columns": null,
            "margin": null,
            "display": null,
            "left": null
          }
        },
        "5270064c01f6459f923a2d33aec55833": {
          "model_module": "@jupyter-widgets/controls",
          "model_name": "DescriptionStyleModel",
          "state": {
            "_view_name": "StyleView",
            "_model_name": "DescriptionStyleModel",
            "description_width": "",
            "_view_module": "@jupyter-widgets/base",
            "_model_module_version": "1.5.0",
            "_view_count": null,
            "_view_module_version": "1.2.0",
            "_model_module": "@jupyter-widgets/controls"
          }
        },
        "fd6518683d134e76b2726f32e8e0829c": {
          "model_module": "@jupyter-widgets/base",
          "model_name": "LayoutModel",
          "state": {
            "_view_name": "LayoutView",
            "grid_template_rows": null,
            "right": null,
            "justify_content": null,
            "_view_module": "@jupyter-widgets/base",
            "overflow": null,
            "_model_module_version": "1.2.0",
            "_view_count": null,
            "flex_flow": null,
            "width": null,
            "min_width": null,
            "border": null,
            "align_items": null,
            "bottom": null,
            "_model_module": "@jupyter-widgets/base",
            "top": null,
            "grid_column": null,
            "overflow_y": null,
            "overflow_x": null,
            "grid_auto_flow": null,
            "grid_area": null,
            "grid_template_columns": null,
            "flex": null,
            "_model_name": "LayoutModel",
            "justify_items": null,
            "grid_row": null,
            "max_height": null,
            "align_content": null,
            "visibility": null,
            "align_self": null,
            "height": null,
            "min_height": null,
            "padding": null,
            "grid_auto_rows": null,
            "grid_gap": null,
            "max_width": null,
            "order": null,
            "_view_module_version": "1.2.0",
            "grid_template_areas": null,
            "object_position": null,
            "object_fit": null,
            "grid_auto_columns": null,
            "margin": null,
            "display": null,
            "left": null
          }
        },
        "410feede70334121aa50eda772b56538": {
          "model_module": "@jupyter-widgets/controls",
          "model_name": "HBoxModel",
          "state": {
            "_view_name": "HBoxView",
            "_dom_classes": [],
            "_model_name": "HBoxModel",
            "_view_module": "@jupyter-widgets/controls",
            "_model_module_version": "1.5.0",
            "_view_count": null,
            "_view_module_version": "1.5.0",
            "box_style": "",
            "layout": "IPY_MODEL_e6427402e5c24989be3a91e7d608ec1d",
            "_model_module": "@jupyter-widgets/controls",
            "children": [
              "IPY_MODEL_0a79065fcf4848ecb26453c9e254dab6",
              "IPY_MODEL_85fc95893092458f8436f2711da7e2d9"
            ]
          }
        },
        "e6427402e5c24989be3a91e7d608ec1d": {
          "model_module": "@jupyter-widgets/base",
          "model_name": "LayoutModel",
          "state": {
            "_view_name": "LayoutView",
            "grid_template_rows": null,
            "right": null,
            "justify_content": null,
            "_view_module": "@jupyter-widgets/base",
            "overflow": null,
            "_model_module_version": "1.2.0",
            "_view_count": null,
            "flex_flow": null,
            "width": null,
            "min_width": null,
            "border": null,
            "align_items": null,
            "bottom": null,
            "_model_module": "@jupyter-widgets/base",
            "top": null,
            "grid_column": null,
            "overflow_y": null,
            "overflow_x": null,
            "grid_auto_flow": null,
            "grid_area": null,
            "grid_template_columns": null,
            "flex": null,
            "_model_name": "LayoutModel",
            "justify_items": null,
            "grid_row": null,
            "max_height": null,
            "align_content": null,
            "visibility": null,
            "align_self": null,
            "height": null,
            "min_height": null,
            "padding": null,
            "grid_auto_rows": null,
            "grid_gap": null,
            "max_width": null,
            "order": null,
            "_view_module_version": "1.2.0",
            "grid_template_areas": null,
            "object_position": null,
            "object_fit": null,
            "grid_auto_columns": null,
            "margin": null,
            "display": null,
            "left": null
          }
        },
        "0a79065fcf4848ecb26453c9e254dab6": {
          "model_module": "@jupyter-widgets/controls",
          "model_name": "FloatProgressModel",
          "state": {
            "_view_name": "ProgressView",
            "style": "IPY_MODEL_3bd7e22b617543e4bd1d74a58cb2f23a",
            "_dom_classes": [],
            "description": "Shuffling cnn_dailymail-validation.tfrecord...: 100%",
            "_model_name": "FloatProgressModel",
            "bar_style": "",
            "max": 13368,
            "_view_module": "@jupyter-widgets/controls",
            "_model_module_version": "1.5.0",
            "value": 13368,
            "_view_count": null,
            "_view_module_version": "1.5.0",
            "orientation": "horizontal",
            "min": 0,
            "description_tooltip": null,
            "_model_module": "@jupyter-widgets/controls",
            "layout": "IPY_MODEL_d4f0a24dc59e4b498c88d53c37eb6783"
          }
        },
        "85fc95893092458f8436f2711da7e2d9": {
          "model_module": "@jupyter-widgets/controls",
          "model_name": "HTMLModel",
          "state": {
            "_view_name": "HTMLView",
            "style": "IPY_MODEL_e92ccdbd3cb54385bd6eb7d94afd5ae4",
            "_dom_classes": [],
            "description": "",
            "_model_name": "HTMLModel",
            "placeholder": "​",
            "_view_module": "@jupyter-widgets/controls",
            "_model_module_version": "1.5.0",
            "value": " 13368/13368 [00:00&lt;00:00, 88539.03 examples/s]",
            "_view_count": null,
            "_view_module_version": "1.5.0",
            "description_tooltip": null,
            "_model_module": "@jupyter-widgets/controls",
            "layout": "IPY_MODEL_eb5ae6323c5f4b4c8aff7d0ddfa27259"
          }
        },
        "3bd7e22b617543e4bd1d74a58cb2f23a": {
          "model_module": "@jupyter-widgets/controls",
          "model_name": "ProgressStyleModel",
          "state": {
            "_view_name": "StyleView",
            "_model_name": "ProgressStyleModel",
            "description_width": "initial",
            "_view_module": "@jupyter-widgets/base",
            "_model_module_version": "1.5.0",
            "_view_count": null,
            "_view_module_version": "1.2.0",
            "bar_color": null,
            "_model_module": "@jupyter-widgets/controls"
          }
        },
        "d4f0a24dc59e4b498c88d53c37eb6783": {
          "model_module": "@jupyter-widgets/base",
          "model_name": "LayoutModel",
          "state": {
            "_view_name": "LayoutView",
            "grid_template_rows": null,
            "right": null,
            "justify_content": null,
            "_view_module": "@jupyter-widgets/base",
            "overflow": null,
            "_model_module_version": "1.2.0",
            "_view_count": null,
            "flex_flow": null,
            "width": null,
            "min_width": null,
            "border": null,
            "align_items": null,
            "bottom": null,
            "_model_module": "@jupyter-widgets/base",
            "top": null,
            "grid_column": null,
            "overflow_y": null,
            "overflow_x": null,
            "grid_auto_flow": null,
            "grid_area": null,
            "grid_template_columns": null,
            "flex": null,
            "_model_name": "LayoutModel",
            "justify_items": null,
            "grid_row": null,
            "max_height": null,
            "align_content": null,
            "visibility": null,
            "align_self": null,
            "height": null,
            "min_height": null,
            "padding": null,
            "grid_auto_rows": null,
            "grid_gap": null,
            "max_width": null,
            "order": null,
            "_view_module_version": "1.2.0",
            "grid_template_areas": null,
            "object_position": null,
            "object_fit": null,
            "grid_auto_columns": null,
            "margin": null,
            "display": null,
            "left": null
          }
        },
        "e92ccdbd3cb54385bd6eb7d94afd5ae4": {
          "model_module": "@jupyter-widgets/controls",
          "model_name": "DescriptionStyleModel",
          "state": {
            "_view_name": "StyleView",
            "_model_name": "DescriptionStyleModel",
            "description_width": "",
            "_view_module": "@jupyter-widgets/base",
            "_model_module_version": "1.5.0",
            "_view_count": null,
            "_view_module_version": "1.2.0",
            "_model_module": "@jupyter-widgets/controls"
          }
        },
        "eb5ae6323c5f4b4c8aff7d0ddfa27259": {
          "model_module": "@jupyter-widgets/base",
          "model_name": "LayoutModel",
          "state": {
            "_view_name": "LayoutView",
            "grid_template_rows": null,
            "right": null,
            "justify_content": null,
            "_view_module": "@jupyter-widgets/base",
            "overflow": null,
            "_model_module_version": "1.2.0",
            "_view_count": null,
            "flex_flow": null,
            "width": null,
            "min_width": null,
            "border": null,
            "align_items": null,
            "bottom": null,
            "_model_module": "@jupyter-widgets/base",
            "top": null,
            "grid_column": null,
            "overflow_y": null,
            "overflow_x": null,
            "grid_auto_flow": null,
            "grid_area": null,
            "grid_template_columns": null,
            "flex": null,
            "_model_name": "LayoutModel",
            "justify_items": null,
            "grid_row": null,
            "max_height": null,
            "align_content": null,
            "visibility": null,
            "align_self": null,
            "height": null,
            "min_height": null,
            "padding": null,
            "grid_auto_rows": null,
            "grid_gap": null,
            "max_width": null,
            "order": null,
            "_view_module_version": "1.2.0",
            "grid_template_areas": null,
            "object_position": null,
            "object_fit": null,
            "grid_auto_columns": null,
            "margin": null,
            "display": null,
            "left": null
          }
        },
        "5cf5df81bbc44bb1886381c212d0b724": {
          "model_module": "@jupyter-widgets/controls",
          "model_name": "HBoxModel",
          "state": {
            "_view_name": "HBoxView",
            "_dom_classes": [],
            "_model_name": "HBoxModel",
            "_view_module": "@jupyter-widgets/controls",
            "_model_module_version": "1.5.0",
            "_view_count": null,
            "_view_module_version": "1.5.0",
            "box_style": "",
            "layout": "IPY_MODEL_97cf11e55b444aeabe591cb9b6ae1872",
            "_model_module": "@jupyter-widgets/controls",
            "children": [
              "IPY_MODEL_087fec7f99b648e8be560a3fa8c9f6a2",
              "IPY_MODEL_c7be4dde1f704249bca6b07662680142"
            ]
          }
        },
        "97cf11e55b444aeabe591cb9b6ae1872": {
          "model_module": "@jupyter-widgets/base",
          "model_name": "LayoutModel",
          "state": {
            "_view_name": "LayoutView",
            "grid_template_rows": null,
            "right": null,
            "justify_content": null,
            "_view_module": "@jupyter-widgets/base",
            "overflow": null,
            "_model_module_version": "1.2.0",
            "_view_count": null,
            "flex_flow": null,
            "width": null,
            "min_width": null,
            "border": null,
            "align_items": null,
            "bottom": null,
            "_model_module": "@jupyter-widgets/base",
            "top": null,
            "grid_column": null,
            "overflow_y": null,
            "overflow_x": null,
            "grid_auto_flow": null,
            "grid_area": null,
            "grid_template_columns": null,
            "flex": null,
            "_model_name": "LayoutModel",
            "justify_items": null,
            "grid_row": null,
            "max_height": null,
            "align_content": null,
            "visibility": null,
            "align_self": null,
            "height": null,
            "min_height": null,
            "padding": null,
            "grid_auto_rows": null,
            "grid_gap": null,
            "max_width": null,
            "order": null,
            "_view_module_version": "1.2.0",
            "grid_template_areas": null,
            "object_position": null,
            "object_fit": null,
            "grid_auto_columns": null,
            "margin": null,
            "display": null,
            "left": null
          }
        },
        "087fec7f99b648e8be560a3fa8c9f6a2": {
          "model_module": "@jupyter-widgets/controls",
          "model_name": "FloatProgressModel",
          "state": {
            "_view_name": "ProgressView",
            "style": "IPY_MODEL_15ba9ef18c834facb29667b379ab2b82",
            "_dom_classes": [],
            "description": "Generating test examples...: 100%",
            "_model_name": "FloatProgressModel",
            "bar_style": "",
            "max": 11490,
            "_view_module": "@jupyter-widgets/controls",
            "_model_module_version": "1.5.0",
            "value": 11490,
            "_view_count": null,
            "_view_module_version": "1.5.0",
            "orientation": "horizontal",
            "min": 0,
            "description_tooltip": null,
            "_model_module": "@jupyter-widgets/controls",
            "layout": "IPY_MODEL_fbc25a295b404ed4bbfa12c12671a8b6"
          }
        },
        "c7be4dde1f704249bca6b07662680142": {
          "model_module": "@jupyter-widgets/controls",
          "model_name": "HTMLModel",
          "state": {
            "_view_name": "HTMLView",
            "style": "IPY_MODEL_48f9cc7164dc4dc89ae2a501e9cdf6aa",
            "_dom_classes": [],
            "description": "",
            "_model_name": "HTMLModel",
            "placeholder": "​",
            "_view_module": "@jupyter-widgets/controls",
            "_model_module_version": "1.5.0",
            "value": " 11490/11490 [00:06&lt;00:00, 1662.82 examples/s]",
            "_view_count": null,
            "_view_module_version": "1.5.0",
            "description_tooltip": null,
            "_model_module": "@jupyter-widgets/controls",
            "layout": "IPY_MODEL_23c33563d4f54863b9d4c50c7781edef"
          }
        },
        "15ba9ef18c834facb29667b379ab2b82": {
          "model_module": "@jupyter-widgets/controls",
          "model_name": "ProgressStyleModel",
          "state": {
            "_view_name": "StyleView",
            "_model_name": "ProgressStyleModel",
            "description_width": "initial",
            "_view_module": "@jupyter-widgets/base",
            "_model_module_version": "1.5.0",
            "_view_count": null,
            "_view_module_version": "1.2.0",
            "bar_color": null,
            "_model_module": "@jupyter-widgets/controls"
          }
        },
        "fbc25a295b404ed4bbfa12c12671a8b6": {
          "model_module": "@jupyter-widgets/base",
          "model_name": "LayoutModel",
          "state": {
            "_view_name": "LayoutView",
            "grid_template_rows": null,
            "right": null,
            "justify_content": null,
            "_view_module": "@jupyter-widgets/base",
            "overflow": null,
            "_model_module_version": "1.2.0",
            "_view_count": null,
            "flex_flow": null,
            "width": null,
            "min_width": null,
            "border": null,
            "align_items": null,
            "bottom": null,
            "_model_module": "@jupyter-widgets/base",
            "top": null,
            "grid_column": null,
            "overflow_y": null,
            "overflow_x": null,
            "grid_auto_flow": null,
            "grid_area": null,
            "grid_template_columns": null,
            "flex": null,
            "_model_name": "LayoutModel",
            "justify_items": null,
            "grid_row": null,
            "max_height": null,
            "align_content": null,
            "visibility": null,
            "align_self": null,
            "height": null,
            "min_height": null,
            "padding": null,
            "grid_auto_rows": null,
            "grid_gap": null,
            "max_width": null,
            "order": null,
            "_view_module_version": "1.2.0",
            "grid_template_areas": null,
            "object_position": null,
            "object_fit": null,
            "grid_auto_columns": null,
            "margin": null,
            "display": null,
            "left": null
          }
        },
        "48f9cc7164dc4dc89ae2a501e9cdf6aa": {
          "model_module": "@jupyter-widgets/controls",
          "model_name": "DescriptionStyleModel",
          "state": {
            "_view_name": "StyleView",
            "_model_name": "DescriptionStyleModel",
            "description_width": "",
            "_view_module": "@jupyter-widgets/base",
            "_model_module_version": "1.5.0",
            "_view_count": null,
            "_view_module_version": "1.2.0",
            "_model_module": "@jupyter-widgets/controls"
          }
        },
        "23c33563d4f54863b9d4c50c7781edef": {
          "model_module": "@jupyter-widgets/base",
          "model_name": "LayoutModel",
          "state": {
            "_view_name": "LayoutView",
            "grid_template_rows": null,
            "right": null,
            "justify_content": null,
            "_view_module": "@jupyter-widgets/base",
            "overflow": null,
            "_model_module_version": "1.2.0",
            "_view_count": null,
            "flex_flow": null,
            "width": null,
            "min_width": null,
            "border": null,
            "align_items": null,
            "bottom": null,
            "_model_module": "@jupyter-widgets/base",
            "top": null,
            "grid_column": null,
            "overflow_y": null,
            "overflow_x": null,
            "grid_auto_flow": null,
            "grid_area": null,
            "grid_template_columns": null,
            "flex": null,
            "_model_name": "LayoutModel",
            "justify_items": null,
            "grid_row": null,
            "max_height": null,
            "align_content": null,
            "visibility": null,
            "align_self": null,
            "height": null,
            "min_height": null,
            "padding": null,
            "grid_auto_rows": null,
            "grid_gap": null,
            "max_width": null,
            "order": null,
            "_view_module_version": "1.2.0",
            "grid_template_areas": null,
            "object_position": null,
            "object_fit": null,
            "grid_auto_columns": null,
            "margin": null,
            "display": null,
            "left": null
          }
        },
        "6399f9091f5b439c9b3edb2b2f276894": {
          "model_module": "@jupyter-widgets/controls",
          "model_name": "HBoxModel",
          "state": {
            "_view_name": "HBoxView",
            "_dom_classes": [],
            "_model_name": "HBoxModel",
            "_view_module": "@jupyter-widgets/controls",
            "_model_module_version": "1.5.0",
            "_view_count": null,
            "_view_module_version": "1.5.0",
            "box_style": "",
            "layout": "IPY_MODEL_6e5b8e700d784de7991d4a3834a11382",
            "_model_module": "@jupyter-widgets/controls",
            "children": [
              "IPY_MODEL_c68fed73c1404222ac75663e5f19c4e2",
              "IPY_MODEL_513db2aaa95b4b9ea01e359266e8addb"
            ]
          }
        },
        "6e5b8e700d784de7991d4a3834a11382": {
          "model_module": "@jupyter-widgets/base",
          "model_name": "LayoutModel",
          "state": {
            "_view_name": "LayoutView",
            "grid_template_rows": null,
            "right": null,
            "justify_content": null,
            "_view_module": "@jupyter-widgets/base",
            "overflow": null,
            "_model_module_version": "1.2.0",
            "_view_count": null,
            "flex_flow": null,
            "width": null,
            "min_width": null,
            "border": null,
            "align_items": null,
            "bottom": null,
            "_model_module": "@jupyter-widgets/base",
            "top": null,
            "grid_column": null,
            "overflow_y": null,
            "overflow_x": null,
            "grid_auto_flow": null,
            "grid_area": null,
            "grid_template_columns": null,
            "flex": null,
            "_model_name": "LayoutModel",
            "justify_items": null,
            "grid_row": null,
            "max_height": null,
            "align_content": null,
            "visibility": null,
            "align_self": null,
            "height": null,
            "min_height": null,
            "padding": null,
            "grid_auto_rows": null,
            "grid_gap": null,
            "max_width": null,
            "order": null,
            "_view_module_version": "1.2.0",
            "grid_template_areas": null,
            "object_position": null,
            "object_fit": null,
            "grid_auto_columns": null,
            "margin": null,
            "display": null,
            "left": null
          }
        },
        "c68fed73c1404222ac75663e5f19c4e2": {
          "model_module": "@jupyter-widgets/controls",
          "model_name": "FloatProgressModel",
          "state": {
            "_view_name": "ProgressView",
            "style": "IPY_MODEL_919748b885c84822b867b30cd4c6ce8f",
            "_dom_classes": [],
            "description": "Shuffling cnn_dailymail-test.tfrecord...: 100%",
            "_model_name": "FloatProgressModel",
            "bar_style": "",
            "max": 11490,
            "_view_module": "@jupyter-widgets/controls",
            "_model_module_version": "1.5.0",
            "value": 11490,
            "_view_count": null,
            "_view_module_version": "1.5.0",
            "orientation": "horizontal",
            "min": 0,
            "description_tooltip": null,
            "_model_module": "@jupyter-widgets/controls",
            "layout": "IPY_MODEL_a198c08f75ce4826868e819eda99dd16"
          }
        },
        "513db2aaa95b4b9ea01e359266e8addb": {
          "model_module": "@jupyter-widgets/controls",
          "model_name": "HTMLModel",
          "state": {
            "_view_name": "HTMLView",
            "style": "IPY_MODEL_c8a33852d295477f9ccb429eb004a345",
            "_dom_classes": [],
            "description": "",
            "_model_name": "HTMLModel",
            "placeholder": "​",
            "_view_module": "@jupyter-widgets/controls",
            "_model_module_version": "1.5.0",
            "value": " 11490/11490 [00:00&lt;00:00, 51926.95 examples/s]",
            "_view_count": null,
            "_view_module_version": "1.5.0",
            "description_tooltip": null,
            "_model_module": "@jupyter-widgets/controls",
            "layout": "IPY_MODEL_1f48dee5bb6a44df8c8529f15151bde2"
          }
        },
        "919748b885c84822b867b30cd4c6ce8f": {
          "model_module": "@jupyter-widgets/controls",
          "model_name": "ProgressStyleModel",
          "state": {
            "_view_name": "StyleView",
            "_model_name": "ProgressStyleModel",
            "description_width": "initial",
            "_view_module": "@jupyter-widgets/base",
            "_model_module_version": "1.5.0",
            "_view_count": null,
            "_view_module_version": "1.2.0",
            "bar_color": null,
            "_model_module": "@jupyter-widgets/controls"
          }
        },
        "a198c08f75ce4826868e819eda99dd16": {
          "model_module": "@jupyter-widgets/base",
          "model_name": "LayoutModel",
          "state": {
            "_view_name": "LayoutView",
            "grid_template_rows": null,
            "right": null,
            "justify_content": null,
            "_view_module": "@jupyter-widgets/base",
            "overflow": null,
            "_model_module_version": "1.2.0",
            "_view_count": null,
            "flex_flow": null,
            "width": null,
            "min_width": null,
            "border": null,
            "align_items": null,
            "bottom": null,
            "_model_module": "@jupyter-widgets/base",
            "top": null,
            "grid_column": null,
            "overflow_y": null,
            "overflow_x": null,
            "grid_auto_flow": null,
            "grid_area": null,
            "grid_template_columns": null,
            "flex": null,
            "_model_name": "LayoutModel",
            "justify_items": null,
            "grid_row": null,
            "max_height": null,
            "align_content": null,
            "visibility": null,
            "align_self": null,
            "height": null,
            "min_height": null,
            "padding": null,
            "grid_auto_rows": null,
            "grid_gap": null,
            "max_width": null,
            "order": null,
            "_view_module_version": "1.2.0",
            "grid_template_areas": null,
            "object_position": null,
            "object_fit": null,
            "grid_auto_columns": null,
            "margin": null,
            "display": null,
            "left": null
          }
        },
        "c8a33852d295477f9ccb429eb004a345": {
          "model_module": "@jupyter-widgets/controls",
          "model_name": "DescriptionStyleModel",
          "state": {
            "_view_name": "StyleView",
            "_model_name": "DescriptionStyleModel",
            "description_width": "",
            "_view_module": "@jupyter-widgets/base",
            "_model_module_version": "1.5.0",
            "_view_count": null,
            "_view_module_version": "1.2.0",
            "_model_module": "@jupyter-widgets/controls"
          }
        },
        "1f48dee5bb6a44df8c8529f15151bde2": {
          "model_module": "@jupyter-widgets/base",
          "model_name": "LayoutModel",
          "state": {
            "_view_name": "LayoutView",
            "grid_template_rows": null,
            "right": null,
            "justify_content": null,
            "_view_module": "@jupyter-widgets/base",
            "overflow": null,
            "_model_module_version": "1.2.0",
            "_view_count": null,
            "flex_flow": null,
            "width": null,
            "min_width": null,
            "border": null,
            "align_items": null,
            "bottom": null,
            "_model_module": "@jupyter-widgets/base",
            "top": null,
            "grid_column": null,
            "overflow_y": null,
            "overflow_x": null,
            "grid_auto_flow": null,
            "grid_area": null,
            "grid_template_columns": null,
            "flex": null,
            "_model_name": "LayoutModel",
            "justify_items": null,
            "grid_row": null,
            "max_height": null,
            "align_content": null,
            "visibility": null,
            "align_self": null,
            "height": null,
            "min_height": null,
            "padding": null,
            "grid_auto_rows": null,
            "grid_gap": null,
            "max_width": null,
            "order": null,
            "_view_module_version": "1.2.0",
            "grid_template_areas": null,
            "object_position": null,
            "object_fit": null,
            "grid_auto_columns": null,
            "margin": null,
            "display": null,
            "left": null
          }
        }
      }
    }
  },
  "cells": [
    {
      "cell_type": "markdown",
      "metadata": {
        "id": "view-in-github",
        "colab_type": "text"
      },
      "source": [
        "<a href=\"https://colab.research.google.com/github/phylypo/khmer-text-data/blob/master/text-summ-with-transformer-trax/Transformer_Trax.ipynb\" target=\"_parent\"><img src=\"https://colab.research.google.com/assets/colab-badge.svg\" alt=\"Open In Colab\"/></a>"
      ]
    },
    {
      "cell_type": "markdown",
      "metadata": {
        "id": "hNmDbn2G1xcW"
      },
      "source": [
        "# Text Summarization with Transfomer\r\n",
        "Getting started with abstractive text summarization with Transformer notebook for SVC Datascience meetup [presentation](https://www.meetup.com/scv-data-science/events/275613683/).\r\n",
        "See slides [here](https://drive.google.com/file/d/10sJ-Sj5tLzMzP5EA8QH4sPRMiCA3BYxq/view?usp=sharing).\r\n"
      ]
    },
    {
      "cell_type": "markdown",
      "metadata": {
        "id": "d2XR1HEn1pJ8"
      },
      "source": [
        "# Use Huggingface\r\n",
        "With a few lines of code you can have a state of the art results using a pretrained model from [Huggingface](https://huggingface.co/)."
      ]
    },
    {
      "cell_type": "code",
      "metadata": {
        "colab": {
          "base_uri": "https://localhost:8080/"
        },
        "id": "_qjn0tXX1eM3",
        "outputId": "20fe1eb8-7549-40c9-db4a-9234675de25a"
      },
      "source": [
        "!pip install transformers\n",
        "!pip install torch\n",
        "!pip install sentencepiece"
      ],
      "execution_count": null,
      "outputs": [
        {
          "output_type": "stream",
          "text": [
            "Requirement already satisfied: transformers in /usr/local/lib/python3.6/dist-packages (4.2.2)\n",
            "Requirement already satisfied: tqdm>=4.27 in /usr/local/lib/python3.6/dist-packages (from transformers) (4.41.1)\n",
            "Requirement already satisfied: tokenizers==0.9.4 in /usr/local/lib/python3.6/dist-packages (from transformers) (0.9.4)\n",
            "Requirement already satisfied: dataclasses; python_version < \"3.7\" in /usr/local/lib/python3.6/dist-packages (from transformers) (0.8)\n",
            "Requirement already satisfied: importlib-metadata; python_version < \"3.8\" in /usr/local/lib/python3.6/dist-packages (from transformers) (3.4.0)\n",
            "Requirement already satisfied: filelock in /usr/local/lib/python3.6/dist-packages (from transformers) (3.0.12)\n",
            "Requirement already satisfied: requests in /usr/local/lib/python3.6/dist-packages (from transformers) (2.23.0)\n",
            "Requirement already satisfied: sacremoses in /usr/local/lib/python3.6/dist-packages (from transformers) (0.0.43)\n",
            "Requirement already satisfied: numpy in /usr/local/lib/python3.6/dist-packages (from transformers) (1.19.5)\n",
            "Requirement already satisfied: regex!=2019.12.17 in /usr/local/lib/python3.6/dist-packages (from transformers) (2019.12.20)\n",
            "Requirement already satisfied: packaging in /usr/local/lib/python3.6/dist-packages (from transformers) (20.9)\n",
            "Requirement already satisfied: zipp>=0.5 in /usr/local/lib/python3.6/dist-packages (from importlib-metadata; python_version < \"3.8\"->transformers) (3.4.0)\n",
            "Requirement already satisfied: typing-extensions>=3.6.4; python_version < \"3.8\" in /usr/local/lib/python3.6/dist-packages (from importlib-metadata; python_version < \"3.8\"->transformers) (3.7.4.3)\n",
            "Requirement already satisfied: certifi>=2017.4.17 in /usr/local/lib/python3.6/dist-packages (from requests->transformers) (2020.12.5)\n",
            "Requirement already satisfied: urllib3!=1.25.0,!=1.25.1,<1.26,>=1.21.1 in /usr/local/lib/python3.6/dist-packages (from requests->transformers) (1.24.3)\n",
            "Requirement already satisfied: idna<3,>=2.5 in /usr/local/lib/python3.6/dist-packages (from requests->transformers) (2.10)\n",
            "Requirement already satisfied: chardet<4,>=3.0.2 in /usr/local/lib/python3.6/dist-packages (from requests->transformers) (3.0.4)\n",
            "Requirement already satisfied: joblib in /usr/local/lib/python3.6/dist-packages (from sacremoses->transformers) (1.0.0)\n",
            "Requirement already satisfied: six in /usr/local/lib/python3.6/dist-packages (from sacremoses->transformers) (1.15.0)\n",
            "Requirement already satisfied: click in /usr/local/lib/python3.6/dist-packages (from sacremoses->transformers) (7.1.2)\n",
            "Requirement already satisfied: pyparsing>=2.0.2 in /usr/local/lib/python3.6/dist-packages (from packaging->transformers) (2.4.7)\n",
            "Requirement already satisfied: torch in /usr/local/lib/python3.6/dist-packages (1.7.0+cu101)\n",
            "Requirement already satisfied: dataclasses in /usr/local/lib/python3.6/dist-packages (from torch) (0.8)\n",
            "Requirement already satisfied: numpy in /usr/local/lib/python3.6/dist-packages (from torch) (1.19.5)\n",
            "Requirement already satisfied: future in /usr/local/lib/python3.6/dist-packages (from torch) (0.16.0)\n",
            "Requirement already satisfied: typing-extensions in /usr/local/lib/python3.6/dist-packages (from torch) (3.7.4.3)\n",
            "Requirement already satisfied: sentencepiece in /usr/local/lib/python3.6/dist-packages (0.1.95)\n"
          ],
          "name": "stdout"
        }
      ]
    },
    {
      "cell_type": "code",
      "metadata": {
        "id": "-xLNSWzjJhRY"
      },
      "source": [
        "# formst output text to wrap\n",
        "from IPython.display import HTML, display\n",
        "def set_css():\n",
        "  display(HTML('''\n",
        "  <style>\n",
        "    pre {\n",
        "        white-space: pre-wrap;\n",
        "    }\n",
        "  </style>\n",
        "  '''))\n",
        "get_ipython().events.register('pre_run_cell', set_css)"
      ],
      "execution_count": null,
      "outputs": []
    },
    {
      "cell_type": "markdown",
      "metadata": {
        "id": "fO5RQdUgC_tF"
      },
      "source": [
        "### Pipeline with BART\r\n",
        "https://huggingface.co/transformers/model_doc/bart.html"
      ]
    },
    {
      "cell_type": "code",
      "metadata": {
        "colab": {
          "base_uri": "https://localhost:8080/",
          "height": 17
        },
        "id": "O4nKQdpL2vSV",
        "outputId": "445de049-e1fc-40d3-e68c-7e5e1647880d"
      },
      "source": [
        "from transformers import pipeline\n",
        "summarizer = pipeline(\"summarization\")"
      ],
      "execution_count": null,
      "outputs": [
        {
          "output_type": "display_data",
          "data": {
            "text/html": [
              "\n",
              "  <style>\n",
              "    pre {\n",
              "        white-space: pre-wrap;\n",
              "    }\n",
              "  </style>\n",
              "  "
            ],
            "text/plain": [
              "<IPython.core.display.HTML object>"
            ]
          },
          "metadata": {
            "tags": []
          }
        }
      ]
    },
    {
      "cell_type": "code",
      "metadata": {
        "colab": {
          "base_uri": "https://localhost:8080/",
          "height": 102
        },
        "id": "Ym9oEsRUEe6x",
        "outputId": "5cee002b-2da2-4b50-a16d-b574543228f1"
      },
      "source": [
        "%%time\r\n",
        "ARTICLE = \"\"\" New York (CNN)When Liana Barrientos was 23 years old, she got married in Westchester County, New York.\r\n",
        "A year later, she got married again in Westchester County, but to a different man and without divorcing her first husband.\r\n",
        "Only 18 days after that marriage, she got hitched yet again. Then, Barrientos declared \"I do\" five more times, \r\n",
        "sometimes only within two weeks of each other.\r\n",
        "In 2010, she married once more, this time in the Bronx. In an application for a marriage license, she stated it was her \"first and only\" marriage.\r\n",
        "Barrientos, now 39, is facing two criminal counts of \"offering a false instrument for filing in the first degree,\" referring to her false statements on the\r\n",
        "2010 marriage license application, according to court documents.\r\n",
        "Prosecutors said the marriages were part of an immigration scam.\r\n",
        "On Friday, she pleaded not guilty at State Supreme Court in the Bronx, according to her attorney, Christopher Wright, \r\n",
        "who declined to comment further.\r\n",
        "After leaving court, Barrientos was arrested and charged with theft of service and criminal trespass \r\n",
        "for allegedly sneaking into the New York subway through an emergency exit, said Detective Annette Markowski, a police spokeswoman. \r\n",
        "In total, Barrientos has been married 10 times, with nine of her marriages occurring between 1999 and 2002.\r\n",
        "All occurred either in Westchester County, Long Island, New Jersey or the Bronx. \r\n",
        "She is believed to still be married to four men, and at one time, she was married to eight men at once, prosecutors say.\r\n",
        "Prosecutors said the immigration scam involved some of her husbands, who filed for permanent residence status shortly after the marriages.\r\n",
        "Any divorces happened only after such filings were approved. It was unclear whether any of the men will be prosecuted.\r\n",
        "The case was referred to the Bronx District Attorney\\'s Office by Immigration and Customs Enforcement and the Department of Homeland Security\\'s\r\n",
        "Investigation Division. Seven of the men are from so-called \"red-flagged\" countries, including Egypt, Turkey, Georgia, Pakistan and Mali.\r\n",
        "Her eighth husband, Rashid Rajput, was deported in 2006 to his native Pakistan after an investigation by the Joint Terrorism Task Force.\r\n",
        "If convicted, Barrientos faces up to four years in prison.  Her next court appearance is scheduled for May 18.\r\n",
        "\"\"\"\r\n",
        "\r\n",
        "print(summarizer(ARTICLE, max_length=130, min_length=30))"
      ],
      "execution_count": null,
      "outputs": [
        {
          "output_type": "display_data",
          "data": {
            "text/html": [
              "\n",
              "  <style>\n",
              "    pre {\n",
              "        white-space: pre-wrap;\n",
              "    }\n",
              "  </style>\n",
              "  "
            ],
            "text/plain": [
              "<IPython.core.display.HTML object>"
            ]
          },
          "metadata": {
            "tags": []
          }
        },
        {
          "output_type": "stream",
          "text": [
            "[{'summary_text': ' Liana Barrientos has been married 10 times, nine of them between 1999 and 2002 . At one time, she was married to eight men at once, prosecutors say . She is believed to still be married to four men, believed to be four men . She pleaded not guilty at State Supreme Court in the Bronx on Friday .'}]\n",
            "CPU times: user 9.88 s, sys: 90.7 ms, total: 9.97 s\n",
            "Wall time: 9.99 s\n"
          ],
          "name": "stdout"
        }
      ]
    },
    {
      "cell_type": "code",
      "metadata": {
        "colab": {
          "base_uri": "https://localhost:8080/",
          "height": 51
        },
        "id": "pjYFWXiI3OBB",
        "outputId": "4ffa1edf-73b9-402f-e625-bdc32791f8a4"
      },
      "source": [
        "ARTICLE = \"\"\"\n",
        "The US has \"passed the peak\" on new coronavirus cases, President Donald Trump said and predicted that \n",
        "some states would reopen this month.\n",
        "The US has over 637,000 confirmed Covid-19 cases and over 30,826 deaths, the highest for any country in the world.\n",
        "At the daily White House coronavirus briefing on Wednesday, \n",
        "Trump said new guidelines to reopen the country would be announced on Thursday after he speaks to governors.\n",
        "\"We'll be the comeback kids, all of us,\" he said. \"We want to get our country back.\"\n",
        "The Trump administration has previously fixed May 1 as a possible date to reopen the world's largest economy, \n",
        "but the president said some states may be able to return to normalcy earlier than that.\n",
        "\"\"\"\n",
        "\n",
        "print(summarizer(ARTICLE, max_length=130, min_length=30)[0][\"summary_text\"])"
      ],
      "execution_count": null,
      "outputs": [
        {
          "output_type": "display_data",
          "data": {
            "text/html": [
              "\n",
              "  <style>\n",
              "    pre {\n",
              "        white-space: pre-wrap;\n",
              "    }\n",
              "  </style>\n",
              "  "
            ],
            "text/plain": [
              "<IPython.core.display.HTML object>"
            ]
          },
          "metadata": {
            "tags": []
          }
        },
        {
          "output_type": "stream",
          "text": [
            " The US has over 637,000 confirmed Covid-19 cases and over 30,826 deaths, the highest for any country in the world . New guidelines to reopen the country will be announced on Thursday after he speaks to governors .\n"
          ],
          "name": "stdout"
        }
      ]
    },
    {
      "cell_type": "code",
      "metadata": {
        "id": "Eqmw-aFo40OU",
        "colab": {
          "base_uri": "https://localhost:8080/",
          "height": 68
        },
        "outputId": "f40d3e43-be17-4df5-e4ea-a92a21e8afc2"
      },
      "source": [
        "ARTICLE = \"\"\"\n",
        "Geoffrey Everest Hinton CC FRS FRSC[11] (born 6 December 1947) is a British-Canadian cognitive psychologist and computer scientist, \n",
        "most noted for his work on artificial neural networks. Since 2013 he divides his time working for Google (Google Brain) and the University of Toronto. \n",
        "In 2017, he cofounded and became the Chief Scientific Advisor of the Vector Institute in Toronto.[12][13]\n",
        "\n",
        "With David Rumelhart and Ronald J. Williams, Hinton was co-author of a highly cited paper published in 1986 \n",
        "that popularized the backpropagation algorithm for training multi-layer neural networks,[14] although \n",
        "they were not the first to propose the approach.[15] Hinton is viewed as a leading figure in the deep learning community.\n",
        "The dramatic image-recognition milestone of the AlexNet designed in collaboration with his students Alex Krizhevsky[21] \n",
        "and Ilya Sutskever for the ImageNet challenge 2012[22] was a breakthrough in the field of computer vision.[23]\n",
        "\n",
        "Hinton received the 2018 Turing Award, together with Yoshua Bengio and Yann LeCun, for their work on deep learning.[24] \n",
        "They are sometimes referred to as the \"Godfathers of AI\" and \"Godfathers of Deep Learning\".\n",
        "\"\"\"\n",
        "sum = summarizer(ARTICLE, max_length=130, min_length=30)\n",
        "print(sum[0]['summary_text'])"
      ],
      "execution_count": null,
      "outputs": [
        {
          "output_type": "display_data",
          "data": {
            "text/html": [
              "\n",
              "  <style>\n",
              "    pre {\n",
              "        white-space: pre-wrap;\n",
              "    }\n",
              "  </style>\n",
              "  "
            ],
            "text/plain": [
              "<IPython.core.display.HTML object>"
            ]
          },
          "metadata": {
            "tags": []
          }
        },
        {
          "output_type": "stream",
          "text": [
            " Geoffrey Everest Hinton is a British-Canadian cognitive psychologist and computer scientist . He co-authored a paper published in 1986 that popularized the backpropagation algorithm for training multi-layer neural networks . Hinton received the 2018 Turing Award for his work on deep learning .\n"
          ],
          "name": "stdout"
        }
      ]
    },
    {
      "cell_type": "code",
      "metadata": {
        "colab": {
          "base_uri": "https://localhost:8080/",
          "height": 68
        },
        "id": "tbdcHJWsI0Tt",
        "outputId": "bd220e15-0113-40f3-c738-2543399f18ff"
      },
      "source": [
        "print(sum[0]['summary_text'])"
      ],
      "execution_count": null,
      "outputs": [
        {
          "output_type": "display_data",
          "data": {
            "text/html": [
              "\n",
              "  <style>\n",
              "    pre {\n",
              "        white-space: pre-wrap;\n",
              "    }\n",
              "  </style>\n",
              "  "
            ],
            "text/plain": [
              "<IPython.core.display.HTML object>"
            ]
          },
          "metadata": {
            "tags": []
          }
        },
        {
          "output_type": "stream",
          "text": [
            " Geoffrey Everest Hinton is a British-Canadian cognitive psychologist and computer scientist . He co-authored a paper published in 1986 that popularized the backpropagation algorithm for training multi-layer neural networks . Hinton received the 2018 Turing Award for his work on deep learning .\n"
          ],
          "name": "stdout"
        }
      ]
    },
    {
      "cell_type": "code",
      "metadata": {
        "colab": {
          "base_uri": "https://localhost:8080/",
          "height": 51
        },
        "id": "zdKv0S92Jj3p",
        "outputId": "dc3ba474-6f0b-4b49-9def-97319b264e42"
      },
      "source": [
        "ARTICLE = \"\"\"\n",
        "SpaceX CEO Elon Musk has hinted that a simultaneous test of two Mars-bound Starship spacecraft later this month.\n",
        "\n",
        "Starship prototypes were pictured on a launchpad at SpaceX’s Boca Chica facility in Texas on 1 January. \n",
        "\n",
        "When asked on Twitter whether a test would be performed “in the next few weeks”, Mr Musk replied, “yes.”\n",
        "\n",
        "The flight test would involve the Starship SN9 and SN10 prototypes, which are currently both under development. \n",
        "\n",
        "Before either of them fly, they will first need to perform a static fire test to check the triple Raptor engines are functioning correctly.\n",
        "\"\"\"\n",
        "sum = summarizer(ARTICLE, max_length=130, min_length=30)\n",
        "print(sum[0]['summary_text'])"
      ],
      "execution_count": null,
      "outputs": [
        {
          "output_type": "display_data",
          "data": {
            "text/html": [
              "\n",
              "  <style>\n",
              "    pre {\n",
              "        white-space: pre-wrap;\n",
              "    }\n",
              "  </style>\n",
              "  "
            ],
            "text/plain": [
              "<IPython.core.display.HTML object>"
            ]
          },
          "metadata": {
            "tags": []
          }
        },
        {
          "output_type": "stream",
          "text": [
            " SpaceX CEO Elon Musk hints at simultaneous test of two Mars-bound spacecraft . The SN9 and SN10 prototypes are currently under development . They will need static fire tests to check the triple Raptor engines are functioning correctly .\n"
          ],
          "name": "stdout"
        }
      ]
    },
    {
      "cell_type": "code",
      "metadata": {
        "colab": {
          "base_uri": "https://localhost:8080/",
          "height": 68
        },
        "id": "Z4L-e6ePKV3O",
        "outputId": "5e9dca1d-bc0a-4c67-e116-d0258caced62"
      },
      "source": [
        "ARTICLE = \"\"\"\n",
        "Late last month, after years of delays and unfulfilled promises, Cambodia announced \n",
        "that it had finally begun extracting crude oil from fields in the Gulf of Thailand.\n",
        "\n",
        "In 2017, the Cambodian government signed a joint venture with Singapore’s KrisEnergy \n",
        "to develop more than 3,000 square kilometers known as Block A, with production initially scheduled to begin in 2019.\n",
        "\n",
        "On December 29, the day after the first drops of crude trickled from KrisEnergy’s offshore rigs, \n",
        "Prime Minister Hun Sen hailed the extraction as “a new achievement for Cambodia’s economy.” \n",
        "“The year 2021 is coming… and we have received a huge gift for our nation – the first oil production in our territory,” he wrote in a Facebook post.\n",
        "\"\"\"\n",
        "sum = summarizer(ARTICLE, max_length=130, min_length=30)\n",
        "print(sum[0]['summary_text'])\n"
      ],
      "execution_count": null,
      "outputs": [
        {
          "output_type": "display_data",
          "data": {
            "text/html": [
              "\n",
              "  <style>\n",
              "    pre {\n",
              "        white-space: pre-wrap;\n",
              "    }\n",
              "  </style>\n",
              "  "
            ],
            "text/plain": [
              "<IPython.core.display.HTML object>"
            ]
          },
          "metadata": {
            "tags": []
          }
        },
        {
          "output_type": "stream",
          "text": [
            " Cambodia has begun extracting crude oil from fields in the Gulf of Thailand . The country signed a joint venture with Singapore’s KrisEnergy to develop more than 3,000 square kilometers known as Block A . Production initially scheduled to begin in 2019 .\n"
          ],
          "name": "stdout"
        }
      ]
    },
    {
      "cell_type": "markdown",
      "metadata": {
        "id": "lcz5faNhDFl6"
      },
      "source": [
        "### T5 (Text-To-Text Transfer Transformer)\r\n",
        "https://huggingface.co/transformers/model_doc/t5.html"
      ]
    },
    {
      "cell_type": "code",
      "metadata": {
        "colab": {
          "base_uri": "https://localhost:8080/",
          "height": 17
        },
        "id": "ZnYOOPM81WNR",
        "outputId": "ff85503b-0bdd-414a-be99-9e3fbb0bd211"
      },
      "source": [
        "import torch\n",
        "from transformers import T5Tokenizer, T5ForConditionalGeneration\n",
        "import sentencepiece as spm\n",
        "\n",
        "model = T5ForConditionalGeneration.from_pretrained('t5-small')\n",
        "tokenizer = T5Tokenizer.from_pretrained('t5-small')\n",
        "device = torch.device('cpu')"
      ],
      "execution_count": null,
      "outputs": [
        {
          "output_type": "display_data",
          "data": {
            "text/html": [
              "\n",
              "  <style>\n",
              "    pre {\n",
              "        white-space: pre-wrap;\n",
              "    }\n",
              "  </style>\n",
              "  "
            ],
            "text/plain": [
              "<IPython.core.display.HTML object>"
            ]
          },
          "metadata": {
            "tags": []
          }
        }
      ]
    },
    {
      "cell_type": "code",
      "metadata": {
        "colab": {
          "base_uri": "https://localhost:8080/",
          "height": 255
        },
        "id": "M1K0T_yUs3BH",
        "outputId": "a874b502-e86c-45c3-c2d5-64bd5032ac31"
      },
      "source": [
        "%%time\n",
        "text =\"\"\"\n",
        "The US has \"passed the peak\" on new coronavirus cases, President Donald Trump said and \n",
        "predicted that some states would reopen this month.\n",
        "The US has over 637,000 confirmed Covid-19 cases and over 30,826 deaths, the highest for any country in the world.\n",
        "At the daily White House coronavirus briefing on Wednesday, \n",
        "Trump said new guidelines to reopen the country would be announced on Thursday after he speaks to governors.\n",
        "\"We'll be the comeback kids, all of us,\" he said. \"We want to get our country back.\"\n",
        "The Trump administration has previously fixed May 1 as a possible date to reopen the world's largest economy, \n",
        "but the president said some states may be able to return to normalcy earlier than that.\n",
        "\"\"\"\n",
        "\n",
        "preprocess_text = text.strip().replace(\"\\n\",\"\")\n",
        "t5_prepared_Text = \"summarize: \"+preprocess_text\n",
        "print (\"original text preprocessed: \\n\", preprocess_text)\n",
        "\n",
        "tokenized_text = tokenizer.encode(t5_prepared_Text, return_tensors=\"pt\").to(device)\n",
        "\n",
        "# summmarize \n",
        "summary_ids = model.generate(tokenized_text,\n",
        "                                    num_beams=4,\n",
        "                                    no_repeat_ngram_size=2,\n",
        "                                    min_length=30,\n",
        "                                    max_length=100,\n",
        "                                    early_stopping=True)\n",
        "\n",
        "output = tokenizer.decode(summary_ids[0], skip_special_tokens=True)\n",
        "\n",
        "print (\"\\n\\nSummarized text: \\n\",output)"
      ],
      "execution_count": null,
      "outputs": [
        {
          "output_type": "display_data",
          "data": {
            "text/html": [
              "\n",
              "  <style>\n",
              "    pre {\n",
              "        white-space: pre-wrap;\n",
              "    }\n",
              "  </style>\n",
              "  "
            ],
            "text/plain": [
              "<IPython.core.display.HTML object>"
            ]
          },
          "metadata": {
            "tags": []
          }
        },
        {
          "output_type": "stream",
          "text": [
            "original text preprocessed: \n",
            " The US has \"passed the peak\" on new coronavirus cases, President Donald Trump said and predicted that some states would reopen this month.The US has over 637,000 confirmed Covid-19 cases and over 30,826 deaths, the highest for any country in the world.At the daily White House coronavirus briefing on Wednesday, Trump said new guidelines to reopen the country would be announced on Thursday after he speaks to governors.\"We'll be the comeback kids, all of us,\" he said. \"We want to get our country back.\"The Trump administration has previously fixed May 1 as a possible date to reopen the world's largest economy, but the president said some states may be able to return to normalcy earlier than that.\n",
            "\n",
            "\n",
            "Summarized text: \n",
            " the president predicts some states will reopen this month. the u.s. has over 637,000 confirmed cases and over 30,826 deaths, the highest for any country in the world. \"we want to get our country back,\" he says.\n",
            "CPU times: user 5.38 s, sys: 433 ms, total: 5.82 s\n",
            "Wall time: 10.7 s\n"
          ],
          "name": "stdout"
        }
      ]
    },
    {
      "cell_type": "code",
      "metadata": {
        "colab": {
          "base_uri": "https://localhost:8080/",
          "height": 85
        },
        "id": "vuv6I3EV31jr",
        "outputId": "bb225cba-f70f-429c-c542-8beacbe1c1a1"
      },
      "source": [
        "from transformers import AutoModelWithLMHead, AutoTokenizer\n",
        "\n",
        "model = AutoModelWithLMHead.from_pretrained(\"t5-base\")\n",
        "tokenizer = AutoTokenizer.from_pretrained(\"t5-base\")\n"
      ],
      "execution_count": null,
      "outputs": [
        {
          "output_type": "display_data",
          "data": {
            "text/html": [
              "\n",
              "  <style>\n",
              "    pre {\n",
              "        white-space: pre-wrap;\n",
              "    }\n",
              "  </style>\n",
              "  "
            ],
            "text/plain": [
              "<IPython.core.display.HTML object>"
            ]
          },
          "metadata": {
            "tags": []
          }
        },
        {
          "output_type": "stream",
          "text": [
            "/usr/local/lib/python3.6/dist-packages/transformers/models/auto/modeling_auto.py:925: FutureWarning: The class `AutoModelWithLMHead` is deprecated and will be removed in a future version. Please use `AutoModelForCausalLM` for causal language models, `AutoModelForMaskedLM` for masked language models and `AutoModelForSeq2SeqLM` for encoder-decoder models.\n",
            "  FutureWarning,\n"
          ],
          "name": "stderr"
        }
      ]
    },
    {
      "cell_type": "code",
      "metadata": {
        "colab": {
          "base_uri": "https://localhost:8080/",
          "height": 153
        },
        "id": "V7JbvThaDgSJ",
        "outputId": "cea6ec60-e64d-48be-bb86-f1bf7409261d"
      },
      "source": [
        "%%time\r\n",
        "ARTICLE =\"\"\"\r\n",
        "The US has \"passed the peak\" on new coronavirus cases, President Donald Trump said and \r\n",
        "predicted that some states would reopen this month.\r\n",
        "The US has over 637,000 confirmed Covid-19 cases and over 30,826 deaths, the highest for any country in the world.\r\n",
        "At the daily White House coronavirus briefing on Wednesday, \r\n",
        "Trump said new guidelines to reopen the country would be announced on Thursday after he speaks to governors.\r\n",
        "\"We'll be the comeback kids, all of us,\" he said. \"We want to get our country back.\"\r\n",
        "The Trump administration has previously fixed May 1 as a possible date to reopen the world's largest economy, \r\n",
        "but the president said some states may be able to return to normalcy earlier than that.\r\n",
        "\"\"\"\r\n",
        "# T5 uses a max_length of 512 so we cut the article to 512 tokens.\r\n",
        "inputs = tokenizer.encode(\"summarize: \" + ARTICLE, return_tensors=\"pt\", max_length=512)\r\n",
        "outputs = model.generate(inputs, max_length=150, min_length=40, length_penalty=2.0, num_beams=4, early_stopping=True)\r\n",
        "\r\n",
        "print(tokenizer.decode(outputs[0]))"
      ],
      "execution_count": null,
      "outputs": [
        {
          "output_type": "display_data",
          "data": {
            "text/html": [
              "\n",
              "  <style>\n",
              "    pre {\n",
              "        white-space: pre-wrap;\n",
              "    }\n",
              "  </style>\n",
              "  "
            ],
            "text/plain": [
              "<IPython.core.display.HTML object>"
            ]
          },
          "metadata": {
            "tags": []
          }
        },
        {
          "output_type": "stream",
          "text": [
            "Truncation was not explicitly activated but `max_length` is provided a specific value, please use `truncation=True` to explicitly truncate examples to max length. Defaulting to 'longest_first' truncation strategy. If you encode pairs of sequences (GLUE-style) with the tokenizer you can select this strategy more precisely by providing a specific strategy to `truncation`.\n"
          ],
          "name": "stderr"
        },
        {
          "output_type": "stream",
          "text": [
            "<pad> the US has over 637,000 confirmed Covid-19 cases and over 30,826 deaths. \"we'll be the comeback kids, all of us,\" he says. the president predicts some states will reopen this month.</s>\n",
            "CPU times: user 7.26 s, sys: 426 ms, total: 7.68 s\n",
            "Wall time: 7.69 s\n"
          ],
          "name": "stdout"
        }
      ]
    },
    {
      "cell_type": "code",
      "metadata": {
        "colab": {
          "base_uri": "https://localhost:8080/",
          "height": 69
        },
        "id": "MarteIeIDcc4",
        "outputId": "234f5481-57b1-437e-919a-2437ab8d1540"
      },
      "source": [
        "ARTICLE = \"\"\" New York (CNN)When Liana Barrientos was 23 years old, she got married in Westchester County, New York.\r\n",
        "A year later, she got married again in Westchester County, but to a different man and without divorcing her first husband.\r\n",
        "Only 18 days after that marriage, she got hitched yet again. Then, Barrientos declared \"I do\" five more times, sometimes only within two weeks of each other.\r\n",
        "In 2010, she married once more, this time in the Bronx. In an application for a marriage license, she stated it was her \"first and only\" marriage.\r\n",
        "Barrientos, now 39, is facing two criminal counts of \"offering a false instrument for filing in the first degree,\" referring to her false statements on the\r\n",
        "2010 marriage license application, according to court documents.\r\n",
        "Prosecutors said the marriages were part of an immigration scam.\r\n",
        "On Friday, she pleaded not guilty at State Supreme Court in the Bronx, according to her attorney, Christopher Wright, who declined to comment further.\r\n",
        "After leaving court, Barrientos was arrested and charged with theft of service and criminal trespass for allegedly sneaking into the New York subway through an emergency exit, said Detective\r\n",
        "Annette Markowski, a police spokeswoman. In total, Barrientos has been married 10 times, with nine of her marriages occurring between 1999 and 2002.\r\n",
        "All occurred either in Westchester County, Long Island, New Jersey or the Bronx. She is believed to still be married to four men, and at one time, she was married to eight men at once, prosecutors say.\r\n",
        "Prosecutors said the immigration scam involved some of her husbands, who filed for permanent residence status shortly after the marriages.\r\n",
        "Any divorces happened only after such filings were approved. It was unclear whether any of the men will be prosecuted.\r\n",
        "The case was referred to the Bronx District Attorney\\'s Office by Immigration and Customs Enforcement and the Department of Homeland Security\\'s\r\n",
        "Investigation Division. Seven of the men are from so-called \"red-flagged\" countries, including Egypt, Turkey, Georgia, Pakistan and Mali.\r\n",
        "Her eighth husband, Rashid Rajput, was deported in 2006 to his native Pakistan after an investigation by the Joint Terrorism Task Force.\r\n",
        "If convicted, Barrientos faces up to four years in prison.  Her next court appearance is scheduled for May 18.\r\n",
        "\"\"\"\r\n",
        "# T5 uses a max_length of 512 so we cut the article to 512 tokens.\r\n",
        "inputs = tokenizer.encode(\"summarize: \" + ARTICLE, return_tensors=\"pt\", max_length=512)\r\n",
        "outputs = model.generate(inputs, max_length=150, min_length=40, length_penalty=2.0, num_beams=4, early_stopping=True)\r\n",
        "\r\n",
        "tokenizer.decode(outputs[0])"
      ],
      "execution_count": null,
      "outputs": [
        {
          "output_type": "display_data",
          "data": {
            "text/html": [
              "\n",
              "  <style>\n",
              "    pre {\n",
              "        white-space: pre-wrap;\n",
              "    }\n",
              "  </style>\n",
              "  "
            ],
            "text/plain": [
              "<IPython.core.display.HTML object>"
            ]
          },
          "metadata": {
            "tags": []
          }
        },
        {
          "output_type": "execute_result",
          "data": {
            "application/vnd.google.colaboratory.intrinsic+json": {
              "type": "string"
            },
            "text/plain": [
              "'<pad> prosecutors say the marriages were part of an immigration scam. if convicted, barrientos faces two criminal counts of \"offering a false instrument for filing in the first degree\" she has been married 10 times, nine of them between 1999 and 2002.</s>'"
            ]
          },
          "metadata": {
            "tags": []
          },
          "execution_count": 7
        }
      ]
    },
    {
      "cell_type": "markdown",
      "metadata": {
        "id": "A4EVkrQMCaPx"
      },
      "source": [
        "### PEGASUS\r\n",
        "https://huggingface.co/transformers/model_doc/pegasus.html\r\n",
        "\r\n",
        "Mutliple inferences can consume more than 12GB of memory. This can cause your runtime session to restart."
      ]
    },
    {
      "cell_type": "code",
      "metadata": {
        "id": "i2wgvmvHHSGZ"
      },
      "source": [
        "from transformers import PegasusForConditionalGeneration, PegasusTokenizer\r\n",
        "import torch"
      ],
      "execution_count": null,
      "outputs": []
    },
    {
      "cell_type": "code",
      "metadata": {
        "id": "qfWlpxwEMPph",
        "colab": {
          "base_uri": "https://localhost:8080/",
          "height": 17
        },
        "outputId": "3b1217d4-d4ae-40d3-9efb-3717a7e0365c"
      },
      "source": [
        "src_text = [\r\n",
        "    \"\"\" PG&E stated it scheduled the blackouts in response to forecasts for high winds amid dry conditions. \r\n",
        "    The aim is to reduce the risk of wildfires. Nearly 800 thousand customers were scheduled to be affected \r\n",
        "    by the shutoffs which were expected to last through at least midday tomorrow.\"\"\"\r\n",
        "]\r\n",
        "\r\n",
        "model_name = 'google/pegasus-xsum'\r\n",
        "torch_device = 'cuda' if torch.cuda.is_available() else 'cpu'\r\n",
        "tokenizer = PegasusTokenizer.from_pretrained(model_name)\r\n",
        "model = PegasusForConditionalGeneration.from_pretrained(model_name).to(torch_device)\r\n",
        "batch = tokenizer.prepare_seq2seq_batch(src_text, truncation=True, padding='longest', return_tensors=\"pt\").to(torch_device)\r\n",
        "translated = model.generate(**batch)\r\n",
        "tgt_text = tokenizer.batch_decode(translated, skip_special_tokens=True)\r\n",
        "assert tgt_text[0] == \"California's largest electricity provider has turned off power to hundreds of thousands of customers.\""
      ],
      "execution_count": null,
      "outputs": [
        {
          "output_type": "display_data",
          "data": {
            "text/html": [
              "\n",
              "  <style>\n",
              "    pre {\n",
              "        white-space: pre-wrap;\n",
              "    }\n",
              "  </style>\n",
              "  "
            ],
            "text/plain": [
              "<IPython.core.display.HTML object>"
            ]
          },
          "metadata": {
            "tags": []
          }
        }
      ]
    },
    {
      "cell_type": "code",
      "metadata": {
        "id": "7fTo5cdnCyVQ",
        "colab": {
          "base_uri": "https://localhost:8080/",
          "height": 35
        },
        "outputId": "5a45c442-9be5-4519-b3d5-d892f3bc79fb"
      },
      "source": [
        "tgt_text[0]"
      ],
      "execution_count": null,
      "outputs": [
        {
          "output_type": "display_data",
          "data": {
            "text/html": [
              "\n",
              "  <style>\n",
              "    pre {\n",
              "        white-space: pre-wrap;\n",
              "    }\n",
              "  </style>\n",
              "  "
            ],
            "text/plain": [
              "<IPython.core.display.HTML object>"
            ]
          },
          "metadata": {
            "tags": []
          }
        },
        {
          "output_type": "execute_result",
          "data": {
            "application/vnd.google.colaboratory.intrinsic+json": {
              "type": "string"
            },
            "text/plain": [
              "\"California's largest electricity provider has turned off power to hundreds of thousands of customers.\""
            ]
          },
          "metadata": {
            "tags": []
          },
          "execution_count": 17
        }
      ]
    },
    {
      "cell_type": "code",
      "metadata": {
        "id": "54tWFLV2FOWQ",
        "colab": {
          "base_uri": "https://localhost:8080/"
        },
        "outputId": "a7aaf985-81af-4acb-e981-6b999f026eac"
      },
      "source": [
        "%%time\r\n",
        "src_text = [\"\"\" New York (CNN)When Liana Barrientos was 23 years old, she got married in Westchester County, New York.\r\n",
        "A year later, she got married again in Westchester County, but to a different man and without divorcing her first husband.\r\n",
        "Only 18 days after that marriage, she got hitched yet again. Then, Barrientos declared \"I do\" five more times, sometimes only within two weeks of each other.\r\n",
        "In 2010, she married once more, this time in the Bronx. In an application for a marriage license, she stated it was her \"first and only\" marriage.\r\n",
        "Barrientos, now 39, is facing two criminal counts of \"offering a false instrument for filing in the first degree,\" referring to her false statements on the\r\n",
        "2010 marriage license application, according to court documents.\r\n",
        "Prosecutors said the marriages were part of an immigration scam.\r\n",
        "On Friday, she pleaded not guilty at State Supreme Court in the Bronx, according to her attorney, Christopher Wright, who declined to comment further.\r\n",
        "After leaving court, Barrientos was arrested and charged with theft of service and criminal trespass for allegedly sneaking into the New York subway through an emergency exit, said Detective\r\n",
        "Annette Markowski, a police spokeswoman. In total, Barrientos has been married 10 times, with nine of her marriages occurring between 1999 and 2002.\r\n",
        "All occurred either in Westchester County, Long Island, New Jersey or the Bronx. She is believed to still be married to four men, and at one time, she was married to eight men at once, prosecutors say.\r\n",
        "Prosecutors said the immigration scam involved some of her husbands, who filed for permanent residence status shortly after the marriages.\r\n",
        "Any divorces happened only after such filings were approved. It was unclear whether any of the men will be prosecuted.\r\n",
        "The case was referred to the Bronx District Attorney\\'s Office by Immigration and Customs Enforcement and the Department of Homeland Security\\'s\r\n",
        "Investigation Division. Seven of the men are from so-called \"red-flagged\" countries, including Egypt, Turkey, Georgia, Pakistan and Mali.\r\n",
        "Her eighth husband, Rashid Rajput, was deported in 2006 to his native Pakistan after an investigation by the Joint Terrorism Task Force.\r\n",
        "If convicted, Barrientos faces up to four years in prison.  Her next court appearance is scheduled for May 18.\r\n",
        "\"\"\"]\r\n",
        "\r\n",
        "model_name = 'google/pegasus-xsum'\r\n",
        "torch_device = 'cuda' if torch.cuda.is_available() else 'cpu'\r\n",
        "tokenizer = PegasusTokenizer.from_pretrained(model_name)\r\n",
        "model = PegasusForConditionalGeneration.from_pretrained(model_name).to(torch_device)\r\n",
        "batch = tokenizer.prepare_seq2seq_batch(src_text, truncation=True, padding='longest', return_tensors=\"pt\").to(torch_device)\r\n",
        "translated = model.generate(**batch)\r\n",
        "tgt_text = tokenizer.batch_decode(translated, skip_special_tokens=True)\r\n",
        "print(tgt_text[0])"
      ],
      "execution_count": null,
      "outputs": [
        {
          "output_type": "stream",
          "text": [
            "A New York woman who has been married 10 times has been charged with marriage fraud.\n",
            "CPU times: user 29.9 s, sys: 2.25 s, total: 32.1 s\n",
            "Wall time: 1min 33s\n"
          ],
          "name": "stdout"
        }
      ]
    },
    {
      "cell_type": "markdown",
      "metadata": {
        "id": "kKvQB_bAR8_-"
      },
      "source": [
        "# Transformer from Scratch\n",
        "In this setion, we dig deeper into transfomre code and training process.\n",
        "\n",
        "Part of the notebook and Trax code are from Coursera Deeplearning Course: \n",
        "Natural-Language-Processing-Specialization.\n",
        "\n",
        "Course 4: [Natural Language Processing with Attention Models](https://www.coursera.org/learn/sequence-models-in-nlp)"
      ]
    },
    {
      "cell_type": "markdown",
      "metadata": {
        "id": "1CpCSnlomYWW"
      },
      "source": [
        "## Setup"
      ]
    },
    {
      "cell_type": "code",
      "metadata": {
        "colab": {
          "base_uri": "https://localhost:8080/"
        },
        "id": "vmxSFMzCmdiz",
        "outputId": "79d949ef-f835-4279-eecd-a23652df8f1a"
      },
      "source": [
        "!pip install trax"
      ],
      "execution_count": null,
      "outputs": [
        {
          "output_type": "stream",
          "text": [
            "Collecting trax\n",
            "\u001b[?25l  Downloading https://files.pythonhosted.org/packages/42/51/305b839f51d53abb393777f743e497d27bb341478f3fdec4d6ddaccc9fb5/trax-1.3.7-py2.py3-none-any.whl (521kB)\n",
            "\r\u001b[K     |▋                               | 10kB 23.4MB/s eta 0:00:01\r\u001b[K     |█▎                              | 20kB 29.8MB/s eta 0:00:01\r\u001b[K     |█▉                              | 30kB 24.7MB/s eta 0:00:01\r\u001b[K     |██▌                             | 40kB 21.9MB/s eta 0:00:01\r\u001b[K     |███▏                            | 51kB 22.6MB/s eta 0:00:01\r\u001b[K     |███▊                            | 61kB 16.8MB/s eta 0:00:01\r\u001b[K     |████▍                           | 71kB 16.5MB/s eta 0:00:01\r\u001b[K     |█████                           | 81kB 17.1MB/s eta 0:00:01\r\u001b[K     |█████▋                          | 92kB 15.1MB/s eta 0:00:01\r\u001b[K     |██████▎                         | 102kB 16.3MB/s eta 0:00:01\r\u001b[K     |███████                         | 112kB 16.3MB/s eta 0:00:01\r\u001b[K     |███████▌                        | 122kB 16.3MB/s eta 0:00:01\r\u001b[K     |████████▏                       | 133kB 16.3MB/s eta 0:00:01\r\u001b[K     |████████▉                       | 143kB 16.3MB/s eta 0:00:01\r\u001b[K     |█████████▍                      | 153kB 16.3MB/s eta 0:00:01\r\u001b[K     |██████████                      | 163kB 16.3MB/s eta 0:00:01\r\u001b[K     |██████████▊                     | 174kB 16.3MB/s eta 0:00:01\r\u001b[K     |███████████▎                    | 184kB 16.3MB/s eta 0:00:01\r\u001b[K     |████████████                    | 194kB 16.3MB/s eta 0:00:01\r\u001b[K     |████████████▋                   | 204kB 16.3MB/s eta 0:00:01\r\u001b[K     |█████████████▏                  | 215kB 16.3MB/s eta 0:00:01\r\u001b[K     |█████████████▉                  | 225kB 16.3MB/s eta 0:00:01\r\u001b[K     |██████████████▍                 | 235kB 16.3MB/s eta 0:00:01\r\u001b[K     |███████████████                 | 245kB 16.3MB/s eta 0:00:01\r\u001b[K     |███████████████▊                | 256kB 16.3MB/s eta 0:00:01\r\u001b[K     |████████████████▎               | 266kB 16.3MB/s eta 0:00:01\r\u001b[K     |█████████████████               | 276kB 16.3MB/s eta 0:00:01\r\u001b[K     |█████████████████▋              | 286kB 16.3MB/s eta 0:00:01\r\u001b[K     |██████████████████▏             | 296kB 16.3MB/s eta 0:00:01\r\u001b[K     |██████████████████▉             | 307kB 16.3MB/s eta 0:00:01\r\u001b[K     |███████████████████▌            | 317kB 16.3MB/s eta 0:00:01\r\u001b[K     |████████████████████            | 327kB 16.3MB/s eta 0:00:01\r\u001b[K     |████████████████████▊           | 337kB 16.3MB/s eta 0:00:01\r\u001b[K     |█████████████████████▍          | 348kB 16.3MB/s eta 0:00:01\r\u001b[K     |██████████████████████          | 358kB 16.3MB/s eta 0:00:01\r\u001b[K     |██████████████████████▋         | 368kB 16.3MB/s eta 0:00:01\r\u001b[K     |███████████████████████▎        | 378kB 16.3MB/s eta 0:00:01\r\u001b[K     |███████████████████████▉        | 389kB 16.3MB/s eta 0:00:01\r\u001b[K     |████████████████████████▌       | 399kB 16.3MB/s eta 0:00:01\r\u001b[K     |█████████████████████████▏      | 409kB 16.3MB/s eta 0:00:01\r\u001b[K     |█████████████████████████▊      | 419kB 16.3MB/s eta 0:00:01\r\u001b[K     |██████████████████████████▍     | 430kB 16.3MB/s eta 0:00:01\r\u001b[K     |███████████████████████████     | 440kB 16.3MB/s eta 0:00:01\r\u001b[K     |███████████████████████████▋    | 450kB 16.3MB/s eta 0:00:01\r\u001b[K     |████████████████████████████▎   | 460kB 16.3MB/s eta 0:00:01\r\u001b[K     |████████████████████████████▉   | 471kB 16.3MB/s eta 0:00:01\r\u001b[K     |█████████████████████████████▌  | 481kB 16.3MB/s eta 0:00:01\r\u001b[K     |██████████████████████████████▏ | 491kB 16.3MB/s eta 0:00:01\r\u001b[K     |██████████████████████████████▊ | 501kB 16.3MB/s eta 0:00:01\r\u001b[K     |███████████████████████████████▍| 512kB 16.3MB/s eta 0:00:01\r\u001b[K     |████████████████████████████████| 522kB 16.3MB/s \n",
            "\u001b[?25hRequirement already satisfied: jaxlib in /usr/local/lib/python3.6/dist-packages (from trax) (0.1.57+cuda101)\n",
            "Requirement already satisfied: scipy in /usr/local/lib/python3.6/dist-packages (from trax) (1.4.1)\n",
            "Collecting tensorflow-text\n",
            "\u001b[?25l  Downloading https://files.pythonhosted.org/packages/a0/86/22ad798f94d564c3e423758b60ddd3689e83ad629b3f31ff2ae45a6e3eed/tensorflow_text-2.4.3-cp36-cp36m-manylinux1_x86_64.whl (3.4MB)\n",
            "\u001b[K     |████████████████████████████████| 3.4MB 63.3MB/s \n",
            "\u001b[?25hRequirement already satisfied: absl-py in /usr/local/lib/python3.6/dist-packages (from trax) (0.10.0)\n",
            "Requirement already satisfied: numpy in /usr/local/lib/python3.6/dist-packages (from trax) (1.19.5)\n",
            "Requirement already satisfied: psutil in /usr/local/lib/python3.6/dist-packages (from trax) (5.4.8)\n",
            "Collecting funcsigs\n",
            "  Downloading https://files.pythonhosted.org/packages/69/cb/f5be453359271714c01b9bd06126eaf2e368f1fddfff30818754b5ac2328/funcsigs-1.0.2-py2.py3-none-any.whl\n",
            "Requirement already satisfied: tensorflow-datasets in /usr/local/lib/python3.6/dist-packages (from trax) (4.0.1)\n",
            "Requirement already satisfied: jax in /usr/local/lib/python3.6/dist-packages (from trax) (0.2.7)\n",
            "Collecting t5\n",
            "\u001b[?25l  Downloading https://files.pythonhosted.org/packages/a0/c6/2ea21c983ae27553a798829a533349de5df99678cfd3fd8d313ae30b063f/t5-0.8.1-py3-none-any.whl (214kB)\n",
            "\u001b[K     |████████████████████████████████| 215kB 53.7MB/s \n",
            "\u001b[?25hRequirement already satisfied: gin-config in /usr/local/lib/python3.6/dist-packages (from trax) (0.4.0)\n",
            "Requirement already satisfied: six in /usr/local/lib/python3.6/dist-packages (from trax) (1.15.0)\n",
            "Requirement already satisfied: gym in /usr/local/lib/python3.6/dist-packages (from trax) (0.17.3)\n",
            "Requirement already satisfied: flatbuffers in /usr/local/lib/python3.6/dist-packages (from jaxlib->trax) (1.12)\n",
            "Requirement already satisfied: tensorflow-hub>=0.8.0 in /usr/local/lib/python3.6/dist-packages (from tensorflow-text->trax) (0.11.0)\n",
            "Requirement already satisfied: tensorflow<2.5,>=2.4.0 in /usr/local/lib/python3.6/dist-packages (from tensorflow-text->trax) (2.4.1)\n",
            "Requirement already satisfied: future in /usr/local/lib/python3.6/dist-packages (from tensorflow-datasets->trax) (0.16.0)\n",
            "Requirement already satisfied: tensorflow-metadata in /usr/local/lib/python3.6/dist-packages (from tensorflow-datasets->trax) (0.27.0)\n",
            "Requirement already satisfied: protobuf>=3.6.1 in /usr/local/lib/python3.6/dist-packages (from tensorflow-datasets->trax) (3.12.4)\n",
            "Requirement already satisfied: attrs>=18.1.0 in /usr/local/lib/python3.6/dist-packages (from tensorflow-datasets->trax) (20.3.0)\n",
            "Requirement already satisfied: requests>=2.19.0 in /usr/local/lib/python3.6/dist-packages (from tensorflow-datasets->trax) (2.23.0)\n",
            "Requirement already satisfied: tqdm in /usr/local/lib/python3.6/dist-packages (from tensorflow-datasets->trax) (4.41.1)\n",
            "Requirement already satisfied: importlib-resources; python_version < \"3.9\" in /usr/local/lib/python3.6/dist-packages (from tensorflow-datasets->trax) (5.1.0)\n",
            "Requirement already satisfied: dill in /usr/local/lib/python3.6/dist-packages (from tensorflow-datasets->trax) (0.3.3)\n",
            "Requirement already satisfied: dataclasses; python_version < \"3.7\" in /usr/local/lib/python3.6/dist-packages (from tensorflow-datasets->trax) (0.8)\n",
            "Requirement already satisfied: dm-tree in /usr/local/lib/python3.6/dist-packages (from tensorflow-datasets->trax) (0.1.5)\n",
            "Requirement already satisfied: termcolor in /usr/local/lib/python3.6/dist-packages (from tensorflow-datasets->trax) (1.1.0)\n",
            "Requirement already satisfied: promise in /usr/local/lib/python3.6/dist-packages (from tensorflow-datasets->trax) (2.3)\n",
            "Requirement already satisfied: opt-einsum in /usr/local/lib/python3.6/dist-packages (from jax->trax) (3.3.0)\n",
            "Requirement already satisfied: scikit-learn in /usr/local/lib/python3.6/dist-packages (from t5->trax) (0.22.2.post1)\n",
            "Collecting sentencepiece\n",
            "\u001b[?25l  Downloading https://files.pythonhosted.org/packages/14/67/e42bd1181472c95c8cda79305df848264f2a7f62740995a46945d9797b67/sentencepiece-0.1.95-cp36-cp36m-manylinux2014_x86_64.whl (1.2MB)\n",
            "\u001b[K     |████████████████████████████████| 1.2MB 57.8MB/s \n",
            "\u001b[?25hRequirement already satisfied: pandas in /usr/local/lib/python3.6/dist-packages (from t5->trax) (1.1.5)\n",
            "Collecting transformers>=2.7.0\n",
            "\u001b[?25l  Downloading https://files.pythonhosted.org/packages/88/b1/41130a228dd656a1a31ba281598a968320283f48d42782845f6ba567f00b/transformers-4.2.2-py3-none-any.whl (1.8MB)\n",
            "\u001b[K     |████████████████████████████████| 1.8MB 60.9MB/s \n",
            "\u001b[?25hRequirement already satisfied: nltk in /usr/local/lib/python3.6/dist-packages (from t5->trax) (3.2.5)\n",
            "Requirement already satisfied: babel in /usr/local/lib/python3.6/dist-packages (from t5->trax) (2.9.0)\n",
            "Requirement already satisfied: torch in /usr/local/lib/python3.6/dist-packages (from t5->trax) (1.7.0+cu101)\n",
            "Collecting mesh-tensorflow[transformer]>=0.1.13\n",
            "\u001b[?25l  Downloading https://files.pythonhosted.org/packages/e1/20/23bbc94034e16bb1ace73e9e7922226e31d6d36b88dcfa257d2c59b3f465/mesh_tensorflow-0.1.18-py3-none-any.whl (361kB)\n",
            "\u001b[K     |████████████████████████████████| 368kB 56.3MB/s \n",
            "\u001b[?25hCollecting sacrebleu\n",
            "\u001b[?25l  Downloading https://files.pythonhosted.org/packages/3b/7f/4fd83db8570288c3899d8e57666c2841403c15659f3d792a3cb8dc1c6689/sacrebleu-1.5.0-py3-none-any.whl (65kB)\n",
            "\u001b[K     |████████████████████████████████| 71kB 12.0MB/s \n",
            "\u001b[?25hCollecting tfds-nightly\n",
            "\u001b[?25l  Downloading https://files.pythonhosted.org/packages/9c/23/c4e07b85d408e2934be1d929a25b62a95457a2b7c55b5e7f0420aead023c/tfds_nightly-4.2.0.dev202101270107-py3-none-any.whl (3.8MB)\n",
            "\u001b[K     |████████████████████████████████| 3.8MB 45.0MB/s \n",
            "\u001b[?25hCollecting rouge-score\n",
            "  Downloading https://files.pythonhosted.org/packages/1f/56/a81022436c08b9405a5247b71635394d44fe7e1dbedc4b28c740e09c2840/rouge_score-0.0.4-py2.py3-none-any.whl\n",
            "Requirement already satisfied: pyglet<=1.5.0,>=1.4.0 in /usr/local/lib/python3.6/dist-packages (from gym->trax) (1.5.0)\n",
            "Requirement already satisfied: cloudpickle<1.7.0,>=1.2.0 in /usr/local/lib/python3.6/dist-packages (from gym->trax) (1.3.0)\n",
            "Requirement already satisfied: tensorboard~=2.4 in /usr/local/lib/python3.6/dist-packages (from tensorflow<2.5,>=2.4.0->tensorflow-text->trax) (2.4.1)\n",
            "Requirement already satisfied: grpcio~=1.32.0 in /usr/local/lib/python3.6/dist-packages (from tensorflow<2.5,>=2.4.0->tensorflow-text->trax) (1.32.0)\n",
            "Requirement already satisfied: astunparse~=1.6.3 in /usr/local/lib/python3.6/dist-packages (from tensorflow<2.5,>=2.4.0->tensorflow-text->trax) (1.6.3)\n",
            "Requirement already satisfied: tensorflow-estimator<2.5.0,>=2.4.0 in /usr/local/lib/python3.6/dist-packages (from tensorflow<2.5,>=2.4.0->tensorflow-text->trax) (2.4.0)\n",
            "Requirement already satisfied: keras-preprocessing~=1.1.2 in /usr/local/lib/python3.6/dist-packages (from tensorflow<2.5,>=2.4.0->tensorflow-text->trax) (1.1.2)\n",
            "Requirement already satisfied: gast==0.3.3 in /usr/local/lib/python3.6/dist-packages (from tensorflow<2.5,>=2.4.0->tensorflow-text->trax) (0.3.3)\n",
            "Requirement already satisfied: h5py~=2.10.0 in /usr/local/lib/python3.6/dist-packages (from tensorflow<2.5,>=2.4.0->tensorflow-text->trax) (2.10.0)\n",
            "Requirement already satisfied: wheel~=0.35 in /usr/local/lib/python3.6/dist-packages (from tensorflow<2.5,>=2.4.0->tensorflow-text->trax) (0.36.2)\n",
            "Requirement already satisfied: wrapt~=1.12.1 in /usr/local/lib/python3.6/dist-packages (from tensorflow<2.5,>=2.4.0->tensorflow-text->trax) (1.12.1)\n",
            "Requirement already satisfied: typing-extensions~=3.7.4 in /usr/local/lib/python3.6/dist-packages (from tensorflow<2.5,>=2.4.0->tensorflow-text->trax) (3.7.4.3)\n",
            "Requirement already satisfied: google-pasta~=0.2 in /usr/local/lib/python3.6/dist-packages (from tensorflow<2.5,>=2.4.0->tensorflow-text->trax) (0.2.0)\n",
            "Requirement already satisfied: googleapis-common-protos<2,>=1.52.0 in /usr/local/lib/python3.6/dist-packages (from tensorflow-metadata->tensorflow-datasets->trax) (1.52.0)\n",
            "Requirement already satisfied: setuptools in /usr/local/lib/python3.6/dist-packages (from protobuf>=3.6.1->tensorflow-datasets->trax) (51.3.3)\n",
            "Requirement already satisfied: chardet<4,>=3.0.2 in /usr/local/lib/python3.6/dist-packages (from requests>=2.19.0->tensorflow-datasets->trax) (3.0.4)\n",
            "Requirement already satisfied: idna<3,>=2.5 in /usr/local/lib/python3.6/dist-packages (from requests>=2.19.0->tensorflow-datasets->trax) (2.10)\n",
            "Requirement already satisfied: certifi>=2017.4.17 in /usr/local/lib/python3.6/dist-packages (from requests>=2.19.0->tensorflow-datasets->trax) (2020.12.5)\n",
            "Requirement already satisfied: urllib3!=1.25.0,!=1.25.1,<1.26,>=1.21.1 in /usr/local/lib/python3.6/dist-packages (from requests>=2.19.0->tensorflow-datasets->trax) (1.24.3)\n",
            "Requirement already satisfied: zipp>=0.4; python_version < \"3.8\" in /usr/local/lib/python3.6/dist-packages (from importlib-resources; python_version < \"3.9\"->tensorflow-datasets->trax) (3.4.0)\n",
            "Requirement already satisfied: joblib>=0.11 in /usr/local/lib/python3.6/dist-packages (from scikit-learn->t5->trax) (1.0.0)\n",
            "Requirement already satisfied: pytz>=2017.2 in /usr/local/lib/python3.6/dist-packages (from pandas->t5->trax) (2018.9)\n",
            "Requirement already satisfied: python-dateutil>=2.7.3 in /usr/local/lib/python3.6/dist-packages (from pandas->t5->trax) (2.8.1)\n",
            "Requirement already satisfied: packaging in /usr/local/lib/python3.6/dist-packages (from transformers>=2.7.0->t5->trax) (20.8)\n",
            "Requirement already satisfied: regex!=2019.12.17 in /usr/local/lib/python3.6/dist-packages (from transformers>=2.7.0->t5->trax) (2019.12.20)\n",
            "Requirement already satisfied: filelock in /usr/local/lib/python3.6/dist-packages (from transformers>=2.7.0->t5->trax) (3.0.12)\n",
            "Collecting sacremoses\n",
            "\u001b[?25l  Downloading https://files.pythonhosted.org/packages/7d/34/09d19aff26edcc8eb2a01bed8e98f13a1537005d31e95233fd48216eed10/sacremoses-0.0.43.tar.gz (883kB)\n",
            "\u001b[K     |████████████████████████████████| 890kB 52.3MB/s \n",
            "\u001b[?25hRequirement already satisfied: importlib-metadata; python_version < \"3.8\" in /usr/local/lib/python3.6/dist-packages (from transformers>=2.7.0->t5->trax) (3.4.0)\n",
            "Collecting tokenizers==0.9.4\n",
            "\u001b[?25l  Downloading https://files.pythonhosted.org/packages/0f/1c/e789a8b12e28be5bc1ce2156cf87cb522b379be9cadc7ad8091a4cc107c4/tokenizers-0.9.4-cp36-cp36m-manylinux2010_x86_64.whl (2.9MB)\n",
            "\u001b[K     |████████████████████████████████| 2.9MB 46.0MB/s \n",
            "\u001b[?25hCollecting portalocker\n",
            "  Downloading https://files.pythonhosted.org/packages/28/94/690880aa6cd96130fc0abf82ee8087b8de2d3c55515a3e42793c58d8a353/portalocker-2.1.0-py2.py3-none-any.whl\n",
            "Requirement already satisfied: google-auth<2,>=1.6.3 in /usr/local/lib/python3.6/dist-packages (from tensorboard~=2.4->tensorflow<2.5,>=2.4.0->tensorflow-text->trax) (1.17.2)\n",
            "Requirement already satisfied: tensorboard-plugin-wit>=1.6.0 in /usr/local/lib/python3.6/dist-packages (from tensorboard~=2.4->tensorflow<2.5,>=2.4.0->tensorflow-text->trax) (1.8.0)\n",
            "Requirement already satisfied: google-auth-oauthlib<0.5,>=0.4.1 in /usr/local/lib/python3.6/dist-packages (from tensorboard~=2.4->tensorflow<2.5,>=2.4.0->tensorflow-text->trax) (0.4.2)\n",
            "Requirement already satisfied: markdown>=2.6.8 in /usr/local/lib/python3.6/dist-packages (from tensorboard~=2.4->tensorflow<2.5,>=2.4.0->tensorflow-text->trax) (3.3.3)\n",
            "Requirement already satisfied: werkzeug>=0.11.15 in /usr/local/lib/python3.6/dist-packages (from tensorboard~=2.4->tensorflow<2.5,>=2.4.0->tensorflow-text->trax) (1.0.1)\n",
            "Requirement already satisfied: pyparsing>=2.0.2 in /usr/local/lib/python3.6/dist-packages (from packaging->transformers>=2.7.0->t5->trax) (2.4.7)\n",
            "Requirement already satisfied: click in /usr/local/lib/python3.6/dist-packages (from sacremoses->transformers>=2.7.0->t5->trax) (7.1.2)\n",
            "Requirement already satisfied: cachetools<5.0,>=2.0.0 in /usr/local/lib/python3.6/dist-packages (from google-auth<2,>=1.6.3->tensorboard~=2.4->tensorflow<2.5,>=2.4.0->tensorflow-text->trax) (4.2.1)\n",
            "Requirement already satisfied: pyasn1-modules>=0.2.1 in /usr/local/lib/python3.6/dist-packages (from google-auth<2,>=1.6.3->tensorboard~=2.4->tensorflow<2.5,>=2.4.0->tensorflow-text->trax) (0.2.8)\n",
            "Requirement already satisfied: rsa<5,>=3.1.4; python_version >= \"3\" in /usr/local/lib/python3.6/dist-packages (from google-auth<2,>=1.6.3->tensorboard~=2.4->tensorflow<2.5,>=2.4.0->tensorflow-text->trax) (4.7)\n",
            "Requirement already satisfied: requests-oauthlib>=0.7.0 in /usr/local/lib/python3.6/dist-packages (from google-auth-oauthlib<0.5,>=0.4.1->tensorboard~=2.4->tensorflow<2.5,>=2.4.0->tensorflow-text->trax) (1.3.0)\n",
            "Requirement already satisfied: pyasn1<0.5.0,>=0.4.6 in /usr/local/lib/python3.6/dist-packages (from pyasn1-modules>=0.2.1->google-auth<2,>=1.6.3->tensorboard~=2.4->tensorflow<2.5,>=2.4.0->tensorflow-text->trax) (0.4.8)\n",
            "Requirement already satisfied: oauthlib>=3.0.0 in /usr/local/lib/python3.6/dist-packages (from requests-oauthlib>=0.7.0->google-auth-oauthlib<0.5,>=0.4.1->tensorboard~=2.4->tensorflow<2.5,>=2.4.0->tensorflow-text->trax) (3.1.0)\n",
            "Building wheels for collected packages: sacremoses\n",
            "  Building wheel for sacremoses (setup.py) ... \u001b[?25l\u001b[?25hdone\n",
            "  Created wheel for sacremoses: filename=sacremoses-0.0.43-cp36-none-any.whl size=893261 sha256=b0f9cf243d190ffa8e6388f1d4c3dac85e64c877c7c93c39415832b06d62ab64\n",
            "  Stored in directory: /root/.cache/pip/wheels/29/3c/fd/7ce5c3f0666dab31a50123635e6fb5e19ceb42ce38d4e58f45\n",
            "Successfully built sacremoses\n",
            "Installing collected packages: tensorflow-text, funcsigs, sentencepiece, sacremoses, tokenizers, transformers, mesh-tensorflow, portalocker, sacrebleu, tfds-nightly, rouge-score, t5, trax\n",
            "Successfully installed funcsigs-1.0.2 mesh-tensorflow-0.1.18 portalocker-2.1.0 rouge-score-0.0.4 sacrebleu-1.5.0 sacremoses-0.0.43 sentencepiece-0.1.95 t5-0.8.1 tensorflow-text-2.4.3 tfds-nightly-4.2.0.dev202101270107 tokenizers-0.9.4 transformers-4.2.2 trax-1.3.7\n"
          ],
          "name": "stdout"
        }
      ]
    },
    {
      "cell_type": "code",
      "metadata": {
        "id": "QR2PCK5elcXq"
      },
      "source": [
        "import sys\n",
        "import os\n",
        "\n",
        "import numpy as np\n",
        "\n",
        "import textwrap\n",
        "wrapper = textwrap.TextWrapper(width=70)\n",
        "\n",
        "import trax\n",
        "from trax import layers as tl\n",
        "from trax.fastmath import numpy as jnp\n",
        "\n",
        "# to print the entire np array\n",
        "np.set_printoptions(threshold=sys.maxsize)"
      ],
      "execution_count": null,
      "outputs": []
    },
    {
      "cell_type": "markdown",
      "metadata": {
        "id": "bCtmx1pfaBKI"
      },
      "source": [
        "## Helper functions"
      ]
    },
    {
      "cell_type": "code",
      "metadata": {
        "id": "x6sW7gG9maxN"
      },
      "source": [
        "def tokenize(input_str, EOS=1):\n",
        "    \"\"\"Input str to features dict, ready for inference\"\"\"\n",
        "  \n",
        "    # Use the trax.data.tokenize method. It takes streams and returns streams,\n",
        "    # we get around it by making a 1-element stream with `iter`.\n",
        "    inputs =  next(trax.data.tokenize(iter([input_str]),\n",
        "                                      vocab_dir='vocab_dir/',\n",
        "                                      vocab_file='summarize32k.subword.subwords'))\n",
        "    \n",
        "    # Mark the end of the sentence with EOS\n",
        "    return list(inputs) + [EOS]\n",
        "\n",
        "def detokenize(integers):\n",
        "    \"\"\"List of ints to str\"\"\"\n",
        "  \n",
        "    s = trax.data.detokenize(integers,\n",
        "                             vocab_dir='vocab_dir/',\n",
        "                             vocab_file='summarize32k.subword.subwords')\n",
        "    \n",
        "    return wrapper.fill(s)"
      ],
      "execution_count": null,
      "outputs": []
    },
    {
      "cell_type": "code",
      "metadata": {
        "id": "R0v_OnKrmuaR"
      },
      "source": [
        "def create_tensor(t):\n",
        "    \"\"\"Create tensor from list of lists\"\"\"\n",
        "    return jnp.array(t)\n",
        "\n",
        "\n",
        "def display_tensor(t, name):\n",
        "    \"\"\"Display shape and tensor\"\"\"\n",
        "    print(f'{name} shape: {t.shape}\\n')\n",
        "    print(f'{t}\\n')"
      ],
      "execution_count": null,
      "outputs": []
    },
    {
      "cell_type": "markdown",
      "metadata": {
        "id": "W1-Vd2KeaOsh"
      },
      "source": [
        "## Model"
      ]
    },
    {
      "cell_type": "markdown",
      "metadata": {
        "id": "hGjX4JgLCadM"
      },
      "source": [
        "You will be implementing the attention from scratch and then using it in your transformer model. Concretely, you will understand how attention works, how you use it to connect the encoder and the decoder."
      ]
    },
    {
      "cell_type": "markdown",
      "metadata": {
        "id": "7uyVvjDJCUtI"
      },
      "source": [
        "![image.png](data:image/png;base64,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)"
      ]
    },
    {
      "cell_type": "markdown",
      "metadata": {
        "id": "3aaESfGGuddE"
      },
      "source": [
        "### DotProduct Attention\n",
        "Instructions: Implement the dot product attention. Concretely, implement the following equation\n",
        "\n",
        "$ \\text { Attention }(Q, K, V)=\\operatorname{softmax}\\left(\\frac{Q K^{T}}{\\sqrt{d_{k}}}+{M}\\right) V\\tag{1}\\ $\n",
        "$Q$ - query, $K$ - key, $V$ - values, $M$ - mask, ${d_k}$ - depth/dimension of the queries and keys (used for scaling down)"
      ]
    },
    {
      "cell_type": "code",
      "metadata": {
        "id": "5RyGscxjm4-b"
      },
      "source": [
        "def DotProductAttention(queries, keys, values, mask):\n",
        "    \"\"\"Dot product self-attention.\n",
        "    Args:\n",
        "        queries (jax.interpreters.xla.DeviceArray): array of query representations with shape (L_q by d)\n",
        "        keys (jax.interpreters.xla.DeviceArray): array of key representations with shape (L_k by d)\n",
        "        values (jax.interpreters.xla.DeviceArray): array of value representations with shape (L_k by d) where L_v = L_k\n",
        "        mask (jax.interpreters.xla.DeviceArray): attention-mask, gates attention with shape (L_q by L_k)\n",
        "\n",
        "    Returns:\n",
        "        jax.interpreters.xla.DeviceArray: Self-attention array for q, k, v arrays. (L_q by L_k)\n",
        "    \"\"\"\n",
        "\n",
        "    d_feature = queries.shape[-1]\n",
        "\n",
        "    # Calculate scaled query key dot product according to formula above\n",
        "    dots = jnp.matmul(queries, jnp.swapaxes(keys, -1, -2)) / jnp.sqrt(d_feature)\n",
        "\n",
        "    # Apply the mask\n",
        "    if mask is not None:\n",
        "        dots = jnp.where(mask, dots, jnp.full_like(dots, -1e9))\n",
        "    \n",
        "    # Softmax formula implementation\n",
        "    dots = jnp.exp(dots - fastmath.logsumexp(dots, axis=-1, keepdims=True))\n",
        "\n",
        "    # Multiply dots by values to get self-attention\n",
        "    out = jnp.matmul(dots, values)\n",
        "    \n",
        "    return out"
      ],
      "execution_count": null,
      "outputs": []
    },
    {
      "cell_type": "markdown",
      "metadata": {
        "id": "FzjhTYbMu6-K"
      },
      "source": [
        "### Causal Attention\n",
        "Now you are going to implement causal attention: multi-headed attention with a mask to attend only to words that occurred before.\n",
        "#### Support functions"
      ]
    },
    {
      "cell_type": "code",
      "metadata": {
        "id": "aCskPQ1PnCID"
      },
      "source": [
        "def compute_attention_heads_closure(n_heads, d_head):\n",
        "    \"\"\" Function that simulates environment inside CausalAttention function.\n",
        "    Args:\n",
        "        d_head (int):  dimensionality of heads.\n",
        "        n_heads (int): number of attention heads.\n",
        "    Returns:\n",
        "        function: compute_attention_heads function\n",
        "    \"\"\"\n",
        "\n",
        "    def compute_attention_heads(x):\n",
        "        \"\"\" Compute the attention heads.\n",
        "        Args:\n",
        "            x (jax.interpreters.xla.DeviceArray): tensor with shape (batch_size, seqlen, n_heads X d_head).\n",
        "        Returns:\n",
        "            jax.interpreters.xla.DeviceArray: reshaped tensor with shape (batch_size X n_heads, seqlen, d_head).\n",
        "        \"\"\"\n",
        "        \n",
        "        # Size of the x's batch dimension\n",
        "        batch_size = x.shape[0]\n",
        "        seqlen = x.shape[1]\n",
        "        \n",
        "        # Reshape\n",
        "        x = jnp.reshape(x, (batch_size, seqlen, n_heads, d_head))\n",
        "        x = jnp.transpose(x, (0, 2, 1, 3))\n",
        "        x = jnp.reshape(x, (-1, seqlen, d_head))\n",
        "        \n",
        "        return x\n",
        "    \n",
        "    return compute_attention_heads"
      ],
      "execution_count": null,
      "outputs": []
    },
    {
      "cell_type": "code",
      "metadata": {
        "id": "Fy2P6q7rnavZ"
      },
      "source": [
        "def dot_product_self_attention(q, k, v):\n",
        "    \"\"\" Masked dot product self attention.\n",
        "    Args:\n",
        "        q (jax.interpreters.xla.DeviceArray): queries.\n",
        "        k (jax.interpreters.xla.DeviceArray): keys.\n",
        "        v (jax.interpreters.xla.DeviceArray): values.\n",
        "    Returns:\n",
        "        jax.interpreters.xla.DeviceArray: masked dot product self attention tensor.\n",
        "    \"\"\"\n",
        "\n",
        "    # index q.shape using negative values (this is equivalent to counting from right to left)\n",
        "    mask_size = q.shape[-2]\n",
        "\n",
        "    # Creates a matrix with ones below the diagonal and 0s above. It should have shape (1, mask_size, mask_size)\n",
        "    mask = jnp.tril(jnp.ones((1, mask_size, mask_size), dtype=jnp.bool_), k=0)\n",
        "    \n",
        "    return DotProductAttention(q, k, v, mask)"
      ],
      "execution_count": null,
      "outputs": []
    },
    {
      "cell_type": "code",
      "metadata": {
        "id": "TqEAyJVMnebY"
      },
      "source": [
        "def compute_attention_output_closure(n_heads, d_head):\n",
        "    \"\"\" Function that simulates environment inside CausalAttention function.\n",
        "    Args:\n",
        "        d_head (int):  dimensionality of heads.\n",
        "        n_heads (int): number of attention heads.\n",
        "    Returns:\n",
        "        function: compute_attention_output function\n",
        "    \"\"\"\n",
        "    \n",
        "    def compute_attention_output(x):\n",
        "        \"\"\" Compute the attention output.\n",
        "        Args:\n",
        "            x (jax.interpreters.xla.DeviceArray): tensor with shape (batch_size X n_heads, seqlen, d_head).\n",
        "        Returns:\n",
        "            jax.interpreters.xla.DeviceArray: reshaped tensor with shape (batch_size, seqlen, n_heads X d_head).\n",
        "        \"\"\"\n",
        "\n",
        "        seqlen = x.shape[1]\n",
        "        \n",
        "        # Reshape x using jnp.reshape() to shape (batch_size, n_heads, seqlen, d_head)\n",
        "        x = jnp.reshape(x, ( -1, n_heads, seqlen, d_head))\n",
        "\n",
        "        # Transpose x using jnp.transpose() to shape (batch_size, seqlen, n_heads, d_head)\n",
        "        x = jnp.transpose(x, ( 0, 2, 1 , 3))\n",
        "\n",
        "        # Reshape to allow to concatenate the heads\n",
        "        return jnp.reshape(x, (-1, seqlen, n_heads * d_head))\n",
        "    \n",
        "    return compute_attention_output"
      ],
      "execution_count": null,
      "outputs": []
    },
    {
      "cell_type": "markdown",
      "metadata": {
        "id": "nQ75RKXHvQr5"
      },
      "source": [
        "### Language Model\n",
        "Now it is time for you to put everything together within the CausalAttention or Masked multi-head attention function."
      ]
    },
    {
      "cell_type": "code",
      "metadata": {
        "id": "Q6Xm7zzknhzY"
      },
      "source": [
        "def CausalAttention(d_feature, \n",
        "                    n_heads, \n",
        "                    compute_attention_heads_closure=compute_attention_heads_closure,\n",
        "                    dot_product_self_attention=dot_product_self_attention,\n",
        "                    compute_attention_output_closure=compute_attention_output_closure,\n",
        "                    mode='train'):\n",
        "    \"\"\"Transformer-style multi-headed causal attention.\n",
        "\n",
        "    Args:\n",
        "        d_feature (int):  dimensionality of feature embedding.\n",
        "        n_heads (int): number of attention heads.\n",
        "        compute_attention_heads_closure (function): Closure around compute_attention heads.\n",
        "        dot_product_self_attention (function): dot_product_self_attention function. \n",
        "        compute_attention_output_closure (function): Closure around compute_attention_output. \n",
        "        mode (str): 'train' or 'eval'.\n",
        "\n",
        "    Returns:\n",
        "        trax.layers.combinators.Serial: Multi-headed self-attention model.\n",
        "    \"\"\"\n",
        "    \n",
        "    assert d_feature % n_heads == 0\n",
        "    d_head = d_feature // n_heads\n",
        "\n",
        "    # Since you are dealing with closures you might need to call the outer \n",
        "    # function with the correct parameters to get the actual uncalled function.\n",
        "    ComputeAttentionHeads = tl.Fn('AttnHeads', compute_attention_heads_closure(n_heads, d_head), n_out=1)\n",
        "    \n",
        "    \n",
        "    return tl.Serial(\n",
        "        tl.Branch( # creates three towers for one input, takes activations and creates queries keys and values\n",
        "            [tl.Dense(d_feature), ComputeAttentionHeads], # queries\n",
        "            [tl.Dense(d_feature), ComputeAttentionHeads], # keys\n",
        "            [tl.Dense(d_feature), ComputeAttentionHeads], # values\n",
        "        ),\n",
        "        \n",
        "        tl.Fn('DotProductAttn', dot_product_self_attention, n_out=1), # takes QKV\n",
        "\n",
        "        # Since you are dealing with closures you might need to call the outer \n",
        "        # function with the correct parameters to get the actual uncalled function.\n",
        "        tl.Fn('AttnOutput', compute_attention_output_closure(n_heads, d_head), n_out=1), # to allow for parallel\n",
        "        tl.Dense(d_feature)\n",
        "    )"
      ],
      "execution_count": null,
      "outputs": []
    },
    {
      "cell_type": "code",
      "metadata": {
        "id": "6jeTAn3hnmFF"
      },
      "source": [
        "def DecoderBlock(d_model, d_ff, n_heads,\n",
        "                 dropout, mode, ff_activation):\n",
        "    \"\"\"Returns a list of layers that implements a Transformer decoder block.\n",
        "\n",
        "    The input is an activation tensor.\n",
        "\n",
        "    Args:\n",
        "        d_model (int):  depth of embedding.\n",
        "        d_ff (int): depth of feed-forward layer.\n",
        "        n_heads (int): number of attention heads.\n",
        "        dropout (float): dropout rate (how much to drop out).\n",
        "        mode (str): 'train' or 'eval'.\n",
        "        ff_activation (function): the non-linearity in feed-forward layer.\n",
        "\n",
        "    Returns:\n",
        "        list: list of trax.layers.combinators.Serial that maps an activation tensor to an activation tensor.\n",
        "    \"\"\"\n",
        "    \n",
        "    # Create masked multi-head attention block using CausalAttention function\n",
        "    causal_attention = CausalAttention( \n",
        "                        d_model,\n",
        "                        n_heads=n_heads,\n",
        "                        mode=mode\n",
        "                        )\n",
        "\n",
        "    # Create feed-forward block (list) with two dense layers with dropout and input normalized\n",
        "    feed_forward = [ \n",
        "        tl.LayerNorm(),\n",
        "        tl.Dense(d_ff),\n",
        "        ff_activation(),\n",
        "        tl.Dropout(rate=dropout, mode=mode),\n",
        "        tl.Dense(d_model),\n",
        "        tl.Dropout(rate=dropout,mode=mode)\n",
        "    ]\n",
        "\n",
        "    # Add list of two Residual blocks: the attention with normalization and dropout and feed-forward blocks\n",
        "    return [\n",
        "      tl.Residual(\n",
        "          tl.LayerNorm(),\n",
        "          causal_attention,\n",
        "          tl.Dropout(rate=dropout, mode=mode)\n",
        "        ),\n",
        "      tl.Residual(\n",
        "          feed_forward\n",
        "        ),\n",
        "      ]"
      ],
      "execution_count": null,
      "outputs": []
    },
    {
      "cell_type": "code",
      "metadata": {
        "id": "RCvGxVbsnq3N"
      },
      "source": [
        "def TransformerLM(vocab_size=33300,\n",
        "                  d_model=512,\n",
        "                  d_ff=2048,\n",
        "                  n_layers=6,\n",
        "                  n_heads=8,\n",
        "                  dropout=0.1,\n",
        "                  max_len=4096,\n",
        "                  mode='train',\n",
        "                  ff_activation=tl.Relu):\n",
        "    \"\"\"Returns a Transformer language model.\n",
        "\n",
        "    The input to the model is a tensor of tokens. (This model uses only the\n",
        "    decoder part of the overall Transformer.)\n",
        "\n",
        "    Args:\n",
        "        vocab_size (int): vocab size.\n",
        "        d_model (int):  depth of embedding.\n",
        "        d_ff (int): depth of feed-forward layer.\n",
        "        n_layers (int): number of decoder layers.\n",
        "        n_heads (int): number of attention heads.\n",
        "        dropout (float): dropout rate (how much to drop out).\n",
        "        max_len (int): maximum symbol length for positional encoding.\n",
        "        mode (str): 'train', 'eval' or 'predict', predict mode is for fast inference.\n",
        "        ff_activation (function): the non-linearity in feed-forward layer.\n",
        "\n",
        "    Returns:\n",
        "        trax.layers.combinators.Serial: A Transformer language model as a layer that maps from a tensor of tokens\n",
        "        to activations over a vocab set.\n",
        "    \"\"\"\n",
        "\n",
        "    # Embedding inputs and positional encoder\n",
        "    positional_encoder = [ \n",
        "        tl.Embedding(vocab_size, d_model),\n",
        "        tl.Dropout(rate=dropout, mode=mode),\n",
        "        tl.PositionalEncoding(max_len=max_len, mode=mode)]\n",
        "\n",
        "    # Create stack (list) of decoder blocks with n_layers with necessary parameters\n",
        "    decoder_blocks = [ \n",
        "        DecoderBlock(d_model, d_ff, n_heads,\n",
        "                    dropout, mode, ff_activation) for _ in range(n_layers)]\n",
        "\n",
        "    # Create the complete model as written in the figure\n",
        "    return tl.Serial(\n",
        "        # Use teacher forcing (feed output of previous step to current step)\n",
        "        tl.ShiftRight(mode=mode),\n",
        "        positional_encoder,\n",
        "        decoder_blocks,\n",
        "        tl.LayerNorm(),\n",
        "        tl.Dense(vocab_size),\n",
        "        tl.LogSoftmax(),\n",
        "    )"
      ],
      "execution_count": null,
      "outputs": []
    },
    {
      "cell_type": "markdown",
      "metadata": {
        "id": "D3pCdsLQ_M1H"
      },
      "source": [
        "![image.png](data:image/png;base64,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)"
      ]
    },
    {
      "cell_type": "code",
      "metadata": {
        "colab": {
          "base_uri": "https://localhost:8080/"
        },
        "id": "gnc7L47nnu0e",
        "outputId": "554ce011-6388-4a81-b01f-6b32b913211c"
      },
      "source": [
        "# Take a look at the Transformer\n",
        "print(TransformerLM(n_layers=1))"
      ],
      "execution_count": null,
      "outputs": [
        {
          "output_type": "stream",
          "text": [
            "Serial[\n",
            "  Serial[\n",
            "    ShiftRight(1)\n",
            "  ]\n",
            "  Embedding_33300_512\n",
            "  Dropout\n",
            "  PositionalEncoding\n",
            "  Serial[\n",
            "    Branch_out2[\n",
            "      None\n",
            "      Serial[\n",
            "        LayerNorm\n",
            "        Serial[\n",
            "          Branch_out3[\n",
            "            [Dense_512, AttnHeads]\n",
            "            [Dense_512, AttnHeads]\n",
            "            [Dense_512, AttnHeads]\n",
            "          ]\n",
            "          DotProductAttn_in3\n",
            "          AttnOutput\n",
            "          Dense_512\n",
            "        ]\n",
            "        Dropout\n",
            "      ]\n",
            "    ]\n",
            "    Add_in2\n",
            "  ]\n",
            "  Serial[\n",
            "    Branch_out2[\n",
            "      None\n",
            "      Serial[\n",
            "        LayerNorm\n",
            "        Dense_2048\n",
            "        Serial[\n",
            "          Relu\n",
            "        ]\n",
            "        Dropout\n",
            "        Dense_512\n",
            "        Dropout\n",
            "      ]\n",
            "    ]\n",
            "    Add_in2\n",
            "  ]\n",
            "  LayerNorm\n",
            "  Dense_33300\n",
            "  LogSoftmax\n",
            "]\n"
          ],
          "name": "stdout"
        }
      ]
    },
    {
      "cell_type": "markdown",
      "metadata": {
        "id": "GaC541kAaXRi"
      },
      "source": [
        "## Training/Fine Tune\r\n",
        "Note that this training does not perform a pretraining as mentioned in the presentation. Normally you do a pretrain the model with large amount of text using tasks such as word masking or next sentence prediction as in BERT. Then you finetune to your specific task like text summarization."
      ]
    },
    {
      "cell_type": "markdown",
      "metadata": {
        "id": "gs07LYwPFmBy"
      },
      "source": [
        "### Load dataset & Preprocessing"
      ]
    },
    {
      "cell_type": "code",
      "metadata": {
        "colab": {
          "base_uri": "https://localhost:8080/",
          "height": 269,
          "referenced_widgets": [
            "116656e797bc428ca57c53f62bffc162",
            "a655702f7540458eb656770692424363",
            "a0a1893a99c44cc08c574ef91b286223",
            "8b9a0db71f57430dbc02c43f3019619e",
            "c778348c12264021b843d4fae3ee8f99",
            "25ddbbeb32a44ecea46d56684dec98a7",
            "ac9ec0f2442e451f924f6b7a15d18523",
            "5845b9d512b84de38ef40609eac15165",
            "5c349bdff7c74fcc8d21ccbf750d3ead",
            "b98f9c40e1ed4435ae88b8fa23e9b5b9",
            "ac644cd1239241c9a5d8bdb58f11b7ea",
            "cdbb3335ec844c339fc0d01c5b877217",
            "30f9364c600d4b459edd6afe830a78c3",
            "dec0527bf04240ee862ba50c18aad480",
            "6088621ff1b9461186f3acf31dc78603",
            "a3096fd8fed64de7a67b77ca6dff2ae5",
            "a4cf82fe72d646a096cb41a939a6f8d7",
            "90b20baaf7cf42e3992e86251ad1fd8a",
            "c584e22915f44c73bbf60c0d4ec4b975",
            "d9e7e03b5d4e46be8a9f256a63034b95",
            "ac9bc06e41904401a8d719b29353212b",
            "62708cd70e094dd8a60137c63ad559a9",
            "bf9c11d1ea0449a3a612172e4183f5dd",
            "e8ee3ed2d4344df88de0c758c757ddf0",
            "bafcda98ed4d41efa95053a4af0bb1d0",
            "5c1688afb990498f930391b2020295f8",
            "d96e91967be94e97b296c5d3442d3fee",
            "0b44eae2faba4257b7f880b029612641",
            "c172764110d74183a2550ec68e80f467",
            "cc5a646b389d4e95baf088b3884b0a1c",
            "d53f382787474484be78f7aabaac19cf",
            "0cb0b8c6f01642f29247bb8b20355b30",
            "083206173bed4e3bbf36a505df5563c6",
            "74a118a1be294555b4436c2d797ee54a",
            "4fa117db47684a6eaaf169e9f3e9d9fd",
            "bf1296e5da09408dbb58c9c8a8186a51",
            "285ccf067d6e452eb9d5e1e564700e89",
            "18057fab327744cab2acb5860e960010",
            "a0392ee8b28a406db0b55bb29f9c929b",
            "914a303e8a944709a6623609f66628f2",
            "f183c35929cc4d0eb16a068af04ccf2b",
            "0b1ab8d6b58743748e5e1895502370b0",
            "f2ada4a661bb495f9204a37bc508636a",
            "4b99d9f5142c4b56879068ee484327e4",
            "30d06245060e4107a5fcca28db365af8",
            "c77f85e550bf467e8f1505748d7422a3",
            "27567f2493bd40a8b8e8b7994b8e817d",
            "428dc6da8afb4d929ce25a7eb5bea68f",
            "82e19b23b1374c45b6f860eacc7e5c5c",
            "70b2c38dcff748bfae8b0785791ce007",
            "f81924aec9454167ae5d365c25c3b4e2",
            "6b401335b1204bb6a9613a1c0804d2b9",
            "1aec32420abd4569ba89210f592c0a93",
            "3c46d5cac12741cb9a751ed6ddb3d820",
            "5270064c01f6459f923a2d33aec55833",
            "fd6518683d134e76b2726f32e8e0829c",
            "410feede70334121aa50eda772b56538",
            "e6427402e5c24989be3a91e7d608ec1d",
            "0a79065fcf4848ecb26453c9e254dab6",
            "85fc95893092458f8436f2711da7e2d9",
            "3bd7e22b617543e4bd1d74a58cb2f23a",
            "d4f0a24dc59e4b498c88d53c37eb6783",
            "e92ccdbd3cb54385bd6eb7d94afd5ae4",
            "eb5ae6323c5f4b4c8aff7d0ddfa27259",
            "5cf5df81bbc44bb1886381c212d0b724",
            "97cf11e55b444aeabe591cb9b6ae1872",
            "087fec7f99b648e8be560a3fa8c9f6a2",
            "c7be4dde1f704249bca6b07662680142",
            "15ba9ef18c834facb29667b379ab2b82",
            "fbc25a295b404ed4bbfa12c12671a8b6",
            "48f9cc7164dc4dc89ae2a501e9cdf6aa",
            "23c33563d4f54863b9d4c50c7781edef",
            "6399f9091f5b439c9b3edb2b2f276894",
            "6e5b8e700d784de7991d4a3834a11382",
            "c68fed73c1404222ac75663e5f19c4e2",
            "513db2aaa95b4b9ea01e359266e8addb",
            "919748b885c84822b867b30cd4c6ce8f",
            "a198c08f75ce4826868e819eda99dd16",
            "c8a33852d295477f9ccb429eb004a345",
            "1f48dee5bb6a44df8c8529f15151bde2"
          ]
        },
        "id": "_A-Lb_rY9_7k",
        "outputId": "f7094661-f6ab-466c-bf32-2288e00c5f7b"
      },
      "source": [
        "# This will download the dataset if no data_dir is specified.\n",
        "# Downloading and processing can take bit of time,\n",
        "# so we have the data already in 'data/' for you\n",
        "\n",
        "# Importing CNN/DailyMail articles dataset\n",
        "train_stream_fn = trax.data.TFDS('cnn_dailymail',\n",
        "                                 data_dir='data/',\n",
        "                                 keys=('article', 'highlights'),\n",
        "                                 train=True)\n",
        "\n",
        "# This should be much faster as the data is downloaded already.\n",
        "eval_stream_fn = trax.data.TFDS('cnn_dailymail',\n",
        "                                data_dir='data/',\n",
        "                                keys=('article', 'highlights'),\n",
        "                                train=False)"
      ],
      "execution_count": null,
      "outputs": [
        {
          "output_type": "stream",
          "text": [
            "\u001b[1mDownloading and preparing dataset 558.32 MiB (download: 558.32 MiB, generated: 1.27 GiB, total: 1.82 GiB) to data/cnn_dailymail/3.1.0...\u001b[0m\n"
          ],
          "name": "stdout"
        },
        {
          "output_type": "display_data",
          "data": {
            "application/vnd.jupyter.widget-view+json": {
              "model_id": "116656e797bc428ca57c53f62bffc162",
              "version_minor": 0,
              "version_major": 2
            },
            "text/plain": [
              "HBox(children=(FloatProgress(value=1.0, bar_style='info', description='Dl Completed...', max=1.0, style=Progre…"
            ]
          },
          "metadata": {
            "tags": []
          }
        },
        {
          "output_type": "display_data",
          "data": {
            "application/vnd.jupyter.widget-view+json": {
              "model_id": "5c349bdff7c74fcc8d21ccbf750d3ead",
              "version_minor": 0,
              "version_major": 2
            },
            "text/plain": [
              "HBox(children=(FloatProgress(value=1.0, bar_style='info', description='Dl Size...', max=1.0, style=ProgressSty…"
            ]
          },
          "metadata": {
            "tags": []
          }
        },
        {
          "output_type": "display_data",
          "data": {
            "application/vnd.jupyter.widget-view+json": {
              "model_id": "a4cf82fe72d646a096cb41a939a6f8d7",
              "version_minor": 0,
              "version_major": 2
            },
            "text/plain": [
              "HBox(children=(FloatProgress(value=1.0, bar_style='info', description='Extraction completed...', max=1.0, styl…"
            ]
          },
          "metadata": {
            "tags": []
          }
        },
        {
          "output_type": "stream",
          "text": [
            "\n",
            "\n",
            "\n",
            "\n",
            "\n",
            "\n"
          ],
          "name": "stdout"
        },
        {
          "output_type": "display_data",
          "data": {
            "application/vnd.jupyter.widget-view+json": {
              "model_id": "bafcda98ed4d41efa95053a4af0bb1d0",
              "version_minor": 0,
              "version_major": 2
            },
            "text/plain": [
              "HBox(children=(FloatProgress(value=0.0, description='Generating splits...', max=3.0, style=ProgressStyle(descr…"
            ]
          },
          "metadata": {
            "tags": []
          }
        },
        {
          "output_type": "display_data",
          "data": {
            "application/vnd.jupyter.widget-view+json": {
              "model_id": "083206173bed4e3bbf36a505df5563c6",
              "version_minor": 0,
              "version_major": 2
            },
            "text/plain": [
              "HBox(children=(FloatProgress(value=0.0, description='Generating train examples...', max=287113.0, style=Progre…"
            ]
          },
          "metadata": {
            "tags": []
          }
        },
        {
          "output_type": "display_data",
          "data": {
            "application/vnd.jupyter.widget-view+json": {
              "model_id": "f183c35929cc4d0eb16a068af04ccf2b",
              "version_minor": 0,
              "version_major": 2
            },
            "text/plain": [
              "HBox(children=(FloatProgress(value=0.0, description='Shuffling cnn_dailymail-train.tfrecord...', max=287113.0,…"
            ]
          },
          "metadata": {
            "tags": []
          }
        },
        {
          "output_type": "display_data",
          "data": {
            "application/vnd.jupyter.widget-view+json": {
              "model_id": "82e19b23b1374c45b6f860eacc7e5c5c",
              "version_minor": 0,
              "version_major": 2
            },
            "text/plain": [
              "HBox(children=(FloatProgress(value=0.0, description='Generating validation examples...', max=13368.0, style=Pr…"
            ]
          },
          "metadata": {
            "tags": []
          }
        },
        {
          "output_type": "display_data",
          "data": {
            "application/vnd.jupyter.widget-view+json": {
              "model_id": "410feede70334121aa50eda772b56538",
              "version_minor": 0,
              "version_major": 2
            },
            "text/plain": [
              "HBox(children=(FloatProgress(value=0.0, description='Shuffling cnn_dailymail-validation.tfrecord...', max=1336…"
            ]
          },
          "metadata": {
            "tags": []
          }
        },
        {
          "output_type": "display_data",
          "data": {
            "application/vnd.jupyter.widget-view+json": {
              "model_id": "5cf5df81bbc44bb1886381c212d0b724",
              "version_minor": 0,
              "version_major": 2
            },
            "text/plain": [
              "HBox(children=(FloatProgress(value=0.0, description='Generating test examples...', max=11490.0, style=Progress…"
            ]
          },
          "metadata": {
            "tags": []
          }
        },
        {
          "output_type": "display_data",
          "data": {
            "application/vnd.jupyter.widget-view+json": {
              "model_id": "6399f9091f5b439c9b3edb2b2f276894",
              "version_minor": 0,
              "version_major": 2
            },
            "text/plain": [
              "HBox(children=(FloatProgress(value=0.0, description='Shuffling cnn_dailymail-test.tfrecord...', max=11490.0, s…"
            ]
          },
          "metadata": {
            "tags": []
          }
        },
        {
          "output_type": "stream",
          "text": [
            "\r\u001b[1mDataset cnn_dailymail downloaded and prepared to data/cnn_dailymail/3.1.0. Subsequent calls will reuse this data.\u001b[0m\n"
          ],
          "name": "stdout"
        }
      ]
    },
    {
      "cell_type": "markdown",
      "metadata": {
        "id": "JJ8bCTEHOE70"
      },
      "source": [
        "### Load vocab\r\n",
        "You need the vocab file that can be downloaded grom my gdrive here:\r\n",
        "https://drive.google.com/file/d/16dtFmS3L78a8FYbB4rG_7xgCORLZdvW6/view?usp=sharing"
      ]
    },
    {
      "cell_type": "code",
      "metadata": {
        "colab": {
          "base_uri": "https://localhost:8080/"
        },
        "id": "Bh8dH7DvWDW2",
        "outputId": "f698baf1-b70d-4885-e2bb-cdad05de5d5d"
      },
      "source": [
        "!mkdir vocab_dir\n",
        "!cp 'drive/MyDrive/m/summarize32k.subword.subwords' vocab_dir/\n",
        "!ls vocab_dir"
      ],
      "execution_count": null,
      "outputs": [
        {
          "output_type": "stream",
          "text": [
            "summarize32k.subword.subwords\n"
          ],
          "name": "stdout"
        }
      ]
    },
    {
      "cell_type": "code",
      "metadata": {
        "colab": {
          "base_uri": "https://localhost:8080/"
        },
        "id": "8cONefV74oQI",
        "outputId": "55514e59-c2da-4270-a753-e7fb9e43a5d8"
      },
      "source": [
        "!wc vocab_dir/summarize32k.subword.subwords"
      ],
      "execution_count": null,
      "outputs": [
        {
          "output_type": "stream",
          "text": [
            " 33021  33376 271723 vocab_dir/summarize32k.subword.subwords\n"
          ],
          "name": "stdout"
        }
      ]
    },
    {
      "cell_type": "code",
      "metadata": {
        "colab": {
          "base_uri": "https://localhost:8080/"
        },
        "id": "YdBFQKkb4v1i",
        "outputId": "fc882d5e-0ed9-4a17-b629-1b1c48dbcab7"
      },
      "source": [
        "!head  vocab_dir/summarize32k.subword.subwords\n",
        "!tail  vocab_dir/summarize32k.subword.subwords"
      ],
      "execution_count": null,
      "outputs": [
        {
          "output_type": "stream",
          "text": [
            "'<pad>'\n",
            "'<EOS>'\n",
            "', _'\n",
            "'. _'\n",
            "'_'\n",
            "'s_'\n",
            "'-_'\n",
            "''_'\n",
            "' (_'\n",
            "'The_'\n",
            "'Ŕ'\n",
            "'Ň'\n",
            "'ķ'\n",
            "'Į'\n",
            "'ĝ'\n",
            "'Ď'\n",
            "'½'\n",
            "'¼'\n",
            "'»'\n",
            "'¹'\n"
          ],
          "name": "stdout"
        }
      ]
    },
    {
      "cell_type": "code",
      "metadata": {
        "id": "sfirS01gMU8a"
      },
      "source": [
        "# Special tokens\n",
        "SEP = 0 # Padding or separator token\n",
        "EOS = 1 # End of sentence token\n",
        "\n",
        "# Concatenate tokenized inputs and targets using 0 as separator.\n",
        "def preprocess(stream):\n",
        "    for (article, summary) in stream:\n",
        "        joint = np.array(list(article) + [EOS, SEP] + list(summary) + [EOS])\n",
        "        mask = [0] * (len(list(article)) + 2) + [1] * (len(list(summary)) + 1) # Accounting for EOS and SEP\n",
        "        yield joint, joint, np.array(mask)\n",
        "\n",
        "# You can combine a few data preprocessing steps into a pipeline like this.\n",
        "input_pipeline = trax.data.Serial(\n",
        "    # Tokenizes\n",
        "    trax.data.Tokenize(vocab_dir='vocab_dir/',\n",
        "                       vocab_file='summarize32k.subword.subwords'),\n",
        "    # Uses function defined above\n",
        "    preprocess,\n",
        "    # Filters out examples longer than 2048\n",
        "    trax.data.FilterByLength(2048)\n",
        ")\n",
        "\n",
        "# Apply preprocessing to data streams.\n",
        "train_stream = input_pipeline(train_stream_fn())\n",
        "eval_stream = input_pipeline(eval_stream_fn())\n",
        "\n",
        "train_input, train_target, train_mask = next(train_stream)\n",
        "\n",
        "assert sum((train_input - train_target)**2) == 0  # They are the same in Language Model (LM)."
      ],
      "execution_count": null,
      "outputs": []
    },
    {
      "cell_type": "code",
      "metadata": {
        "colab": {
          "base_uri": "https://localhost:8080/"
        },
        "id": "mEl8PQInOESy",
        "outputId": "7d679bf3-081a-469e-d7a0-82827711c2bc"
      },
      "source": [
        "# prints mask, 0s on article, 1s on summary\n",
        "print(f'Single example mask:\\n\\n {train_mask}')"
      ],
      "execution_count": null,
      "outputs": [
        {
          "output_type": "stream",
          "text": [
            "Single example mask:\n",
            "\n",
            " [0 0 0 0 0 0 0 0 0 0 0 0 0 0 0 0 0 0 0 0 0 0 0 0 0 0 0 0 0 0 0 0 0 0 0 0 0\n",
            " 0 0 0 0 0 0 0 0 0 0 0 0 0 0 0 0 0 0 0 0 0 0 0 0 0 0 0 0 0 0 0 0 0 0 0 0 0\n",
            " 0 0 0 0 0 0 0 0 0 0 0 0 0 0 0 0 0 0 0 0 0 0 0 0 0 0 0 0 0 0 0 0 0 0 0 0 0\n",
            " 0 0 0 0 0 0 0 0 0 0 0 0 0 0 0 0 0 0 0 0 0 0 0 0 0 0 0 0 0 0 0 0 0 0 0 0 0\n",
            " 0 0 0 0 0 0 0 0 0 0 0 0 0 0 0 0 0 0 0 0 0 0 0 0 0 0 0 0 0 0 0 0 0 0 0 0 0\n",
            " 0 0 0 0 0 0 0 0 0 0 0 0 0 0 0 0 0 0 0 0 0 0 0 0 0 0 0 0 0 0 0 0 0 0 0 0 0\n",
            " 0 0 0 0 0 0 0 0 0 0 0 0 0 0 0 0 0 0 0 0 0 0 0 0 0 0 0 0 0 0 0 0 0 0 0 0 0\n",
            " 0 0 0 0 0 0 0 0 0 0 0 0 0 0 0 0 0 0 0 0 0 0 0 0 0 0 0 0 0 0 0 0 0 0 0 0 0\n",
            " 0 0 0 0 0 0 0 0 0 0 0 0 0 0 0 0 0 0 0 0 0 0 0 0 0 0 0 0 0 0 0 0 0 0 0 0 0\n",
            " 0 0 0 0 0 0 0 0 0 0 0 0 0 0 0 0 0 0 0 0 0 0 0 0 0 0 0 0 0 0 0 0 0 0 0 0 0\n",
            " 0 0 0 0 0 0 0 0 0 0 0 0 0 0 0 0 0 0 0 0 0 0 0 0 0 0 0 0 0 0 0 0 0 0 0 0 0\n",
            " 0 0 0 0 0 0 0 0 0 0 0 0 0 0 0 0 0 0 0 0 0 0 0 0 0 0 0 0 0 0 0 0 0 0 0 0 0\n",
            " 0 0 0 0 0 0 0 0 0 0 0 0 0 0 0 0 0 0 0 0 0 0 0 0 0 0 0 0 0 0 0 0 0 0 0 0 0\n",
            " 0 0 0 0 0 0 0 0 0 0 0 0 0 0 0 0 0 0 0 0 0 0 0 0 0 0 0 0 0 0 0 0 0 0 0 0 0\n",
            " 0 0 0 0 0 0 0 0 0 0 0 0 0 0 0 0 0 0 0 0 0 0 0 0 0 0 0 0 0 0 0 0 0 0 0 0 0\n",
            " 0 0 0 0 0 0 0 0 0 0 0 0 0 0 0 0 0 0 0 0 0 0 0 0 0 0 0 0 0 0 0 0 0 0 0 0 0\n",
            " 0 0 0 0 0 0 0 0 0 0 0 0 0 0 0 0 0 0 0 0 0 0 0 0 0 0 0 0 0 0 0 0 0 0 0 0 0\n",
            " 0 0 0 0 0 0 0 0 0 0 0 0 0 0 0 0 0 0 0 0 0 0 0 0 0 0 0 0 0 0 0 0 0 0 0 0 0\n",
            " 0 0 0 0 0 0 0 0 0 0 0 0 0 0 0 0 0 0 0 0 0 0 0 0 0 0 0 0 0 0 0 0 0 0 0 0 0\n",
            " 0 0 0 0 0 0 0 0 0 0 0 0 0 0 0 0 0 0 0 0 0 0 0 0 0 0 0 0 0 0 0 0 0 0 0 0 0\n",
            " 0 0 0 0 0 0 0 0 0 0 0 0 0 0 0 0 0 0 0 0 0 0 0 0 0 0 0 0 0 0 0 0 0 0 0 0 0\n",
            " 0 0 0 0 0 0 0 0 0 0 0 0 0 0 0 0 0 0 0 0 0 0 0 0 0 0 0 0 0 0 0 0 0 0 0 0 0\n",
            " 0 0 0 0 0 0 0 0 0 0 0 0 0 0 0 0 0 0 0 0 0 0 0 0 0 0 0 0 0 0 0 0 0 0 0 0 0\n",
            " 0 0 0 0 0 0 0 0 0 0 0 0 0 0 0 0 0 0 0 0 0 0 0 0 0 0 0 0 0 0 0 0 0 0 0 0 0\n",
            " 0 0 0 0 0 0 0 0 0 0 0 0 0 0 0 0 0 0 0 0 0 0 0 0 0 0 0 0 0 0 0 0 0 0 0 0 0\n",
            " 0 0 0 0 0 0 0 0 0 0 0 0 0 0 0 0 0 0 0 0 0 0 0 0 0 0 0 0 0 0 0 0 0 0 0 0 0\n",
            " 0 0 0 0 0 0 0 0 0 0 0 0 0 0 0 0 0 0 0 0 0 0 0 0 0 0 0 0 0 0 0 0 0 0 0 0 0\n",
            " 0 0 0 0 0 0 0 0 0 0 0 0 0 0 0 0 0 0 0 0 0 0 0 0 0 0 0 0 0 0 0 0 0 0 0 0 0\n",
            " 0 0 0 0 0 0 0 0 0 0 0 0 0 0 0 0 0 0 0 0 0 0 0 0 0 0 0 0 0 0 0 0 0 0 0 0 0\n",
            " 0 0 0 0 0 0 0 0 0 1 1 1 1 1 1 1 1 1 1 1 1 1 1 1 1 1 1 1 1 1 1 1 1 1 1 1 1\n",
            " 1 1 1 1 1 1 1 1 1 1 1 1 1 1 1 1 1 1 1 1 1 1 1 1 1 1 1 1 1 1 1 1 1 1 1 1 1\n",
            " 1 1 1 1 1 1 1 1 1 1 1 1 1 1 1 1 1 1 1 1 1 1 1 1 1 1 1 1 1 1 1 1 1 1 1 1 1\n",
            " 1 1 1 1 1 1 1 1 1 1 1]\n"
          ],
          "name": "stdout"
        }
      ]
    },
    {
      "cell_type": "code",
      "metadata": {
        "colab": {
          "base_uri": "https://localhost:8080/"
        },
        "id": "MKYbMjj6OGhs",
        "outputId": "4dfcb157-5e62-4af8-b39d-b5f2f14d8223"
      },
      "source": [
        "# prints: [Example][<EOS>][<pad>][Example Summary][<EOS>]\n",
        "print(f'Single example:\\n\\n {detokenize(train_input)}')"
      ],
      "execution_count": null,
      "outputs": [
        {
          "output_type": "stream",
          "text": [
            "Single example:\n",
            "\n",
            " Police in Texas have released a sketch of a man suspected of shooting\n",
            "a TV weatherman multiple times as he left work on Wednesday morning.\n",
            "The sketch was drawn  during a hospital bed interview with KCEN-TV\n",
            "meteorologist Patrick Crawford, 35, who is recovering after being shot\n",
            "in the stomach and shoulder. The suspect, who managed to escape the\n",
            "scene in Bruceville-Eddy on foot on Wednesday morning, is described as\n",
            "a white male, 30 to 35 years old, with a medium build and a receding\n",
            "hairline. 'We are actively looking for [the suspect],' Trooper D.L.\n",
            "Wilson of the Texas Department of Public Safety told ABC News. 'We had\n",
            "troopers out overnight, but we didn't get any calls of suspicious\n",
            "people. We can't rule out that he's not in the area, but more than\n",
            "likely, he's left the area.' Scroll down for video . Suspect: KCEN\n",
            "weatherman Patrick Crawford (left) helped police put together this\n",
            "sketch (right) of the man who shot him as he left the TV studio on\n",
            "Wednesday morning. He said he had never seen him before . Crawford,\n",
            "the morning weatherman for KCEN, was shot after he climbed into his\n",
            "car around 9.15am on Wednesday. An unknown man approached him in the\n",
            "parking lot and they exchanged words. The weatherman managed to back\n",
            "up at high speed and drive out of the parking lot. He crossed the\n",
            "interstate and drove to a group of construction workers, who\n",
            "administered first aid and called 911. Doctors at Scott and White\n",
            "Memorial Hospital in Temple said that Crawford was recovering and in\n",
            "fair condition after surgery for a gunshot wound to the abdomen. From\n",
            "his hospital bed, he spoke to investigators and told them he had never\n",
            "seen the man before. Police have not yet found a motive for the\n",
            "shooting. Gunned down: Footage shows Crawford, 35, being stretchered\n",
            "away after he was shot on Wednesday . Attack: The man continued to\n",
            "shoot at Crawford as he drove away and flagged down help nearby . Hit:\n",
            "The weatherman sustained gunshot wounds to the stomach and shoulder,\n",
            "and a bullet grazed his head . KCEN also reported that police were at\n",
            "the station on Thursday, checking IDs of everyone driving in the\n",
            "parking lot. Crawford's wife, fellow KCEN meteorologist Heather\n",
            "Brinkmann, also revealed his quick decision to drive off and flag down\n",
            "help saved his life. 'Doctors continue to tell me how well he's doing\n",
            "considering the multiple gunshot wounds,' she wrote on her Facebook\n",
            "page on Wednesday night. 'Police tell me that if it wasn't for his\n",
            "smarts to hurry up and drive off and flag down construction workers,\n",
            "it could have been a whole different story. He is truly my hero.'\n",
            "Brinkmann and other KCEN employees also uploaded Superman's 'S' emblem\n",
            "to their Facebook pages in a sign of support for Crawford. KCEN shared\n",
            "the image with the hashtag '#oursuperman' to its own page. Heroic:\n",
            "Crawford's wife Heather said police believe he saved his life by\n",
            "driving off and flagging down help . Attack: Crawford is pictured left\n",
            "with his fellow KCEN hosts on Wednesday - just hours before he was\n",
            "shot . Crawford, who grew up in Plano, Texas and earned his\n",
            "meteorology degree from Northern Illinois University, moved from New\n",
            "Orleans and joined the station in September 2012. He  married\n",
            "Brinkmann, a fellow meteorologist and KCEN producer, last year. The\n",
            "station's news director, Jim Hice, released a statement about the\n",
            "shooting on Wednesday. 'Early this morning KCEN-HD News received the\n",
            "devastating news that one of our own, Texas Today Meteorologist\n",
            "Patrick Crawford, had been shot in front of our building,' he said on\n",
            "KCEN. 'He is currently at Baylor Scott and White Hospital in Temple\n",
            "after undergoing surgery. He is in stable condition and resting. 'The\n",
            "shooter, as of this note, has not been caught. We do not know who the\n",
            "shooter was or if he is connected in any way to KCEN or its\n",
            "employees.' Updates: Texas Department of Public Safety officers DL\n",
            "Wilson, left and Harpin Myers, give a briefing on the shooting on\n",
            "Wednesday afternoon. By Thursday morning, a suspect had still not been\n",
            "taken into custody . Concerns: Law enforcement officers set up near a\n",
            "command post and look for the gunman on Wednesday . Response: Texas\n",
            "Department of Public Safety officers go in a pickup to a command post\n",
            "while other officers look for the gunman accused of shooting Crawford\n",
            "outside the station on Wednesday . Rural: The gunman attacked as\n",
            "Crawford was climbing into his car outside the KCEN studios in Texas .\n",
            "He added that Brinkmann was by her husband's side in the hospital. 'He\n",
            "is a loved member of the KCEN family and our thoughts and prayers go\n",
            "out to him, Heather and their family,' he wrote. On Wednesday morning,\n",
            "just hours before he was shot, Crawford showed off his winning\n",
            "Christmas sweater for the station's 'Ugly Sweater Contest' and shared\n",
            "images online of him raising a trophy. The town is about 75 miles\n",
            "north of Austin.<EOS><pad>Meteorologist Patrick Crawford, who was shot\n",
            "as he left the station on Wednesday, helped police sketch the drawing\n",
            "from his hospital bed . The suspect is described as a white male, 30\n",
            "to 35 years old, with a medium build and a receding hairline .\n",
            "Crawford, 35, was shot in the stomach and shoulder after exchanging\n",
            "words with the gunman, but he managed to drive off and get help . He\n",
            "told officers that he had never seen the man before .<EOS>\n"
          ],
          "name": "stdout"
        }
      ]
    },
    {
      "cell_type": "markdown",
      "metadata": {
        "id": "SKKOUZWZFp47"
      },
      "source": [
        "### Batching Data & Bucketing"
      ]
    },
    {
      "cell_type": "code",
      "metadata": {
        "id": "fbZe64xxFuoE"
      },
      "source": [
        "# Bucketing to create batched generators.\n",
        "\n",
        "# Buckets are defined in terms of boundaries and batch sizes.\n",
        "# Batch_sizes[i] determines the batch size for items with length < boundaries[i]\n",
        "# So below, we'll take a batch of 16 sentences of length < 128 , 8 of length < 256,\n",
        "# 4 of length < 512. And so on. \n",
        "boundaries =  [128, 256,  512, 1024]\n",
        "batch_sizes = [16,    8,    4,    2, 1]\n",
        "\n",
        "# Create the streams.\n",
        "train_batch_stream = trax.data.BucketByLength(\n",
        "    boundaries, batch_sizes)(train_stream)\n",
        "\n",
        "eval_batch_stream = trax.data.BucketByLength(\n",
        "    boundaries, batch_sizes)(eval_stream)"
      ],
      "execution_count": null,
      "outputs": []
    },
    {
      "cell_type": "code",
      "metadata": {
        "colab": {
          "base_uri": "https://localhost:8080/"
        },
        "id": "99S0Wh1-POSO",
        "outputId": "8ded0f96-a60f-422a-b43b-b7047f9cea04"
      },
      "source": [
        "# Every execution will result in generation of a different article\n",
        "# Try running this cell multiple times to see how the length of the examples affects the batch size\n",
        "input_batch, _, mask_batch = next(train_batch_stream)\n",
        "\n",
        "# Shape of the input_batch\n",
        "print(\"batch shape\", input_batch.shape)\n",
        "# print corresponding integer values\n",
        "print(input_batch[0])\n",
        "# print the article and its summary\n",
        "print('Article:\\n\\n', detokenize(input_batch[0]))"
      ],
      "execution_count": null,
      "outputs": [
        {
          "output_type": "stream",
          "text": [
            "batch shape (2, 1024)\n",
            "[ 6596  4315    23   141  9087   132   213  6705    70   320    28  3680\n",
            "   527  2659     2   687  5093     5   186   163  5148 10675    16  1838\n",
            "   699 23960 16328     4 17081    92     3     9  6596   229   132  1828\n",
            "     2   523  5833    15  2225   141   390  1008  1248    28  1477   132\n",
            "  4232  8551     2  1019    28   719     6   209  1699     2   186    23\n",
            "   674  1768    28  1917 24385    14   132   658  7511   103  1041   320\n",
            "  1536   132   213   606     3 14862 19967   320  4232  8551    18   949\n",
            "   691   520   318  1641     2   192   213  1216  1019   213  6705    18\n",
            "   949   691    28  7818 10273  2048   318  1641   719    78   719  1838\n",
            "   220   104     3  6596  4315    23   141  2362   132   213  6705    70\n",
            "   186   674  1536 19967  1019   213   606    18 24385    17   379     9\n",
            "  6596     7     5   635     6   194  3075  1699   803  9233   132 23691\n",
            "     2  4872 10151    16 17524 26731     2   186  4232  8551   379 19807\n",
            "   132 23691    23   553    28   695   835     2    61   989   318  1641\n",
            "   674     2   931   320  3649  6709 12244    10   588    10  3418   379\n",
            "  3649  6709 12244    10   588    10  3418 17984   537 20286  6312   151\n",
            "  2495   686 12033   824   117 19850     4   830    80   320   213  6596\n",
            "     7     5  9898  1563  2969     3  1090   695   658   320 20586     5\n",
            "   229 23691     2  4872   405 24716   575   229  1200   320  4684    28\n",
            "  1917   552   908  1563    78  1681     2   568   406     2   320    95\n",
            "    65   446 15311  6588  1782 16392  3308  1730   213 20421  6710  1244\n",
            "  1435    61   989   318  1641   186 16783  3898   131   127     3  7716\n",
            "    78   719  1838   220   104     2 19967  1019   213  6705    18   949\n",
            "   691  2048  4561  9067 23667    21    11  7596 13915   379   312   405\n",
            " 24716   575  2362   809   213 23691  5148     2 20421  6710   310  1468\n",
            "   132    15  7634   379  3170    15  1477   132  4232  8551     2  4872\n",
            "   213  6596 23543  1407    50    60 19472     2  1536   658    23  2274\n",
            "    61   691   520  7183 11969     7   187   110   412  3156   620     6\n",
            "   632   658   132 12244   320   213   606     2   213  6596     7     5\n",
            "  1066   229  1200   320  3606  3866   527   213  9061  2778   527   213\n",
            "    44 25070 13286    17   535   132   213   201   186   430    28  1174\n",
            "     6   632 12132   320  9965  5925  3898  2495   686   969     3    34\n",
            "   503     2  6596  4315    23   674 23543  1407  4232  8551     7     5\n",
            "    60 19472     2   102  3588  1019  6220   132   213  2139     6  1205\n",
            "  1117  1782  3705  1507    22   825     2   374  1081  4286    22  1094\n",
            "     2   374  1710    22 19920  1248    93   229 19120  1019    93  3898\n",
            "   127 15601  2984 23721     5 10418 10794   412     2  1155   527  1448\n",
            " 25749    80  1932   527   213  6705  1782  5408    16   134  1885   691\n",
            "   229    28 11036 11585     1     0 14862 19967  1019   213  6705    61\n",
            "    95   495   237   719    78   719  1838   418 16346 27439  6774  1628\n",
            "  6596    23  9087   132 23691     2   355    28  1066   320  4232  8551\n",
            "    78    15  3075  1699 16346 27439  6774  1628 19807   132 23691     2\n",
            "   132   695     2    23   553   163   188  1212 24385    14   527   989\n",
            "  7183  2104     1     0     0     0     0     0     0     0     0     0\n",
            "     0     0     0     0     0     0     0     0     0     0     0     0\n",
            "     0     0     0     0     0     0     0     0     0     0     0     0\n",
            "     0     0     0     0     0     0     0     0     0     0     0     0\n",
            "     0     0     0     0     0     0     0     0     0     0     0     0\n",
            "     0     0     0     0     0     0     0     0     0     0     0     0\n",
            "     0     0     0     0     0     0     0     0     0     0     0     0\n",
            "     0     0     0     0     0     0     0     0     0     0     0     0\n",
            "     0     0     0     0     0     0     0     0     0     0     0     0\n",
            "     0     0     0     0     0     0     0     0     0     0     0     0\n",
            "     0     0     0     0     0     0     0     0     0     0     0     0\n",
            "     0     0     0     0     0     0     0     0     0     0     0     0\n",
            "     0     0     0     0     0     0     0     0     0     0     0     0\n",
            "     0     0     0     0     0     0     0     0     0     0     0     0\n",
            "     0     0     0     0     0     0     0     0     0     0     0     0\n",
            "     0     0     0     0     0     0     0     0     0     0     0     0\n",
            "     0     0     0     0     0     0     0     0     0     0     0     0\n",
            "     0     0     0     0     0     0     0     0     0     0     0     0\n",
            "     0     0     0     0     0     0     0     0     0     0     0     0\n",
            "     0     0     0     0     0     0     0     0     0     0     0     0\n",
            "     0     0     0     0     0     0     0     0     0     0     0     0\n",
            "     0     0     0     0     0     0     0     0     0     0     0     0\n",
            "     0     0     0     0     0     0     0     0     0     0     0     0\n",
            "     0     0     0     0     0     0     0     0     0     0     0     0\n",
            "     0     0     0     0     0     0     0     0     0     0     0     0\n",
            "     0     0     0     0     0     0     0     0     0     0     0     0\n",
            "     0     0     0     0     0     0     0     0     0     0     0     0\n",
            "     0     0     0     0     0     0     0     0     0     0     0     0\n",
            "     0     0     0     0     0     0     0     0     0     0     0     0\n",
            "     0     0     0     0     0     0     0     0     0     0     0     0\n",
            "     0     0     0     0     0     0     0     0     0     0     0     0\n",
            "     0     0     0     0     0     0     0     0     0     0     0     0\n",
            "     0     0     0     0     0     0     0     0     0     0     0     0\n",
            "     0     0     0     0     0     0     0     0     0     0     0     0\n",
            "     0     0     0     0     0     0     0     0     0     0     0     0\n",
            "     0     0     0     0     0     0     0     0     0     0     0     0\n",
            "     0     0     0     0     0     0     0     0     0     0     0     0\n",
            "     0     0     0     0     0     0     0     0     0     0     0     0\n",
            "     0     0     0     0     0     0     0     0     0     0     0     0\n",
            "     0     0     0     0     0     0     0     0     0     0     0     0\n",
            "     0     0     0     0     0     0     0     0     0     0     0     0\n",
            "     0     0     0     0     0     0     0     0     0     0     0     0\n",
            "     0     0     0     0]\n",
            "Article:\n",
            "\n",
            " Pope Francis has just landed in the Philippines - to a crowd of\n",
            "thousands, church bells and an airport greeting from President Benigno\n",
            "Aquino. The Pope is in Asia, having begun his trip just days ago with\n",
            "a stop in Sri Lanka, for a week-long tour, and has already caused a\n",
            "huge spike in interest when it comes to travel in the region. Flight\n",
            "searches to Sri Lanka have increased by 19 per cent, while the numbers\n",
            "for the Philippines have increased by a whopping 51 per cent week on\n",
            "week from last year. Pope Francis has just arrived in the Philippines\n",
            "- and already travel searches for the region have spiked . The Pope's\n",
            "six-day Asian tour includes stops in Manila, where adoring crowds\n",
            "waited, and Sri Lanka . Interest in Manila has seen a particular\n",
            "increase, up 60 per cent already, according to Cheapflights.co.uk .\n",
            "Cheapflights.co.uk spokesperson Oonah Shiel attributes this 'halo\n",
            "effect' to the Pope's genuine mass appeal. Of particular interest to\n",
            "travellers is Manila, where His Holiness is expected to deliver a huge\n",
            "open air mass on Sunday, January 18, to over 5 million attendees.\n",
            "'Searches regarding the Filipino capital are up 60 per cent and\n",
            "counting,' she said. Week on week from last year, searches for the\n",
            "Philippines have increased by 51%. Pictured: Palawan . When His\n",
            "Holiness arrived at the Manila airport, Filipino children performed in\n",
            "his honour . Following his stop in Sri Lanka, where the Pope canonised\n",
            "its first saint, travel interest has gone up by 19% . 'As well as\n",
            "driving short-term interest in flights to the region, the Pope's visit\n",
            "is expected to raise awareness of the plight of the more marginalised\n",
            "groups in the area and provide a longer-term boost to ethical\n",
            "tourism,' Shiel added. In fact, Pope Francis has already canonised Sri\n",
            "Lanka's first saint, after calling for unity in the conflict-hit\n",
            "nation. 'Every step he makes, every car ride he takes, every moment he\n",
            "stays with us is precious for us,' said Archbishop Socrates Villegas,\n",
            "president of Catholic Bishops' Conference of the Philippines. 'Seeing\n",
            "him pass by is a grace.'<EOS><pad>Flightsearches for the Philippines\n",
            "up over 50% week on week from 2014 . Pope has landed in Manila,\n",
            "following a visit to Sri Lanka on his Asian tour . Interest in Manila,\n",
            "in particular, has seen an even greater spike of 60% .<EOS><pad><pad><\n",
            "pad><pad><pad><pad><pad><pad><pad><pad><pad><pad><pad><pad><pad><pad><\n",
            "pad><pad><pad><pad><pad><pad><pad><pad><pad><pad><pad><pad><pad><pad><\n",
            "pad><pad><pad><pad><pad><pad><pad><pad><pad><pad><pad><pad><pad><pad><\n",
            "pad><pad><pad><pad><pad><pad><pad><pad><pad><pad><pad><pad><pad><pad><\n",
            "pad><pad><pad><pad><pad><pad><pad><pad><pad><pad><pad><pad><pad><pad><\n",
            "pad><pad><pad><pad><pad><pad><pad><pad><pad><pad><pad><pad><pad><pad><\n",
            "pad><pad><pad><pad><pad><pad><pad><pad><pad><pad><pad><pad><pad><pad><\n",
            "pad><pad><pad><pad><pad><pad><pad><pad><pad><pad><pad><pad><pad><pad><\n",
            "pad><pad><pad><pad><pad><pad><pad><pad><pad><pad><pad><pad><pad><pad><\n",
            "pad><pad><pad><pad><pad><pad><pad><pad><pad><pad><pad><pad><pad><pad><\n",
            "pad><pad><pad><pad><pad><pad><pad><pad><pad><pad><pad><pad><pad><pad><\n",
            "pad><pad><pad><pad><pad><pad><pad><pad><pad><pad><pad><pad><pad><pad><\n",
            "pad><pad><pad><pad><pad><pad><pad><pad><pad><pad><pad><pad><pad><pad><\n",
            "pad><pad><pad><pad><pad><pad><pad><pad><pad><pad><pad><pad><pad><pad><\n",
            "pad><pad><pad><pad><pad><pad><pad><pad><pad><pad><pad><pad><pad><pad><\n",
            "pad><pad><pad><pad><pad><pad><pad><pad><pad><pad><pad><pad><pad><pad><\n",
            "pad><pad><pad><pad><pad><pad><pad><pad><pad><pad><pad><pad><pad><pad><\n",
            "pad><pad><pad><pad><pad><pad><pad><pad><pad><pad><pad><pad><pad><pad><\n",
            "pad><pad><pad><pad><pad><pad><pad><pad><pad><pad><pad><pad><pad><pad><\n",
            "pad><pad><pad><pad><pad><pad><pad><pad><pad><pad><pad><pad><pad><pad><\n",
            "pad><pad><pad><pad><pad><pad><pad><pad><pad><pad><pad><pad><pad><pad><\n",
            "pad><pad><pad><pad><pad><pad><pad><pad><pad><pad><pad><pad><pad><pad><\n",
            "pad><pad><pad><pad><pad><pad><pad><pad><pad><pad><pad><pad><pad><pad><\n",
            "pad><pad><pad><pad><pad><pad><pad><pad><pad><pad><pad><pad><pad><pad><\n",
            "pad><pad><pad><pad><pad><pad><pad><pad><pad><pad><pad><pad><pad><pad><\n",
            "pad><pad><pad><pad><pad><pad><pad><pad><pad><pad><pad><pad><pad><pad><\n",
            "pad><pad><pad><pad><pad><pad><pad><pad><pad><pad><pad><pad><pad><pad><\n",
            "pad><pad><pad><pad><pad><pad><pad><pad><pad><pad><pad><pad><pad><pad><\n",
            "pad><pad><pad><pad><pad><pad><pad><pad><pad><pad><pad><pad><pad><pad><\n",
            "pad><pad><pad><pad><pad><pad><pad><pad><pad><pad><pad><pad><pad><pad><\n",
            "pad><pad><pad><pad><pad><pad><pad><pad><pad><pad><pad><pad><pad><pad><\n",
            "pad><pad><pad><pad><pad><pad><pad><pad><pad><pad><pad><pad><pad><pad><\n",
            "pad><pad><pad><pad><pad><pad><pad><pad><pad><pad><pad><pad><pad><pad><\n",
            "pad><pad><pad><pad><pad><pad><pad><pad><pad><pad><pad><pad><pad><pad><\n",
            "pad><pad><pad><pad><pad><pad><pad><pad><pad><pad><pad><pad><pad><pad><\n",
            "pad><pad><pad><pad><pad><pad><pad><pad><pad><pad><pad><pad><pad>\n"
          ],
          "name": "stdout"
        }
      ]
    },
    {
      "cell_type": "markdown",
      "metadata": {
        "id": "FvM2XPyRPRmt"
      },
      "source": [
        "### Training Loop"
      ]
    },
    {
      "cell_type": "code",
      "metadata": {
        "id": "GwQRy0C7nxZW"
      },
      "source": [
        "from trax.supervised import training\n",
        "\n",
        "def training_loop(TransformerLM, train_gen, eval_gen, output_dir = \"model/\"):\n",
        "    '''\n",
        "    Input:\n",
        "        TransformerLM (trax.layers.combinators.Serial): The model you are building.\n",
        "        train_gen (generator): Training stream of data.\n",
        "        eval_gen (generator): Evaluation stream of data.\n",
        "        output_dir (str): folder to save your file.\n",
        "        \n",
        "    Returns:\n",
        "        trax.supervised.training.Loop: Training loop.\n",
        "    '''\n",
        "    output_dir = os.path.expanduser(output_dir)\n",
        "    lr_schedule = trax.lr.warmup_and_rsqrt_decay(n_warmup_steps=1000, max_value=0.01)\n",
        "\n",
        "    train_task = training.TrainTask( \n",
        "      labeled_data=train_gen,\n",
        "      loss_layer=tl.CrossEntropyLoss(),  \n",
        "      optimizer=trax.optimizers.Adam(0.01),\n",
        "      lr_schedule=lr_schedule,\n",
        "      n_steps_per_checkpoint=10\n",
        "    )\n",
        "\n",
        "    eval_task = training.EvalTask( \n",
        "      labeled_data=eval_gen,\n",
        "      metrics=[tl.CrossEntropyLoss(), tl.Accuracy()] \n",
        "    )\n",
        "\n",
        "    loop = training.Loop(TransformerLM(d_model=512,\n",
        "                                       d_ff=2048,\n",
        "                                       n_layers=6,\n",
        "                                       n_heads=8,\n",
        "                                       mode='train'),\n",
        "                         train_task,\n",
        "                         eval_tasks=[eval_task],\n",
        "                         output_dir=output_dir)\n",
        "    \n",
        "    return loop"
      ],
      "execution_count": null,
      "outputs": []
    },
    {
      "cell_type": "code",
      "metadata": {
        "id": "mVTYAcEfn5NO",
        "colab": {
          "base_uri": "https://localhost:8080/"
        },
        "outputId": "de0ca552-8900-4d16-edf6-58dd53689ab6"
      },
      "source": [
        "# Should take around 1.5 minutes\n",
        "#!rm -f model/model.pkl.gz\n",
        "\n",
        "loop = training_loop(TransformerLM, train_batch_stream, eval_batch_stream)\n",
        "loop.run(2) #100 no good about 2mins/10 steps\n",
        "# seesion crash at:\n",
        "# Step    230: Ran 10 train steps in 109.17 secs\n",
        "# Step    230: train CrossEntropyLoss |  7.73998022\n",
        "# Step    230: eval  CrossEntropyLoss |  7.93894434\n",
        "# Step    230: eval          Accuracy |  0.03816794\n",
        "\n",
        "# Step    660: Ran 10 train steps in 135.49 secs\n",
        "# Step    660: train CrossEntropyLoss |  6.81296635\n",
        "# Step    660: eval  CrossEntropyLoss |  6.98800230\n",
        "# Step    660: eval          Accuracy |  0.13533835\n",
        "\n",
        "# Step   1360: Ran 10 train steps in 122.21 secs\n",
        "# Step   1360: train CrossEntropyLoss |  6.84790039\n",
        "# Step   1360: eval  CrossEntropyLoss |  8.03027058\n",
        "# Step   1360: eval          Accuracy |  0.11068702\n",
        "\n",
        "# Step   1560: Ran 10 train steps in 119.04 secs\n",
        "# Step   1560: train CrossEntropyLoss |  7.06054020\n",
        "# Step   1560: eval  CrossEntropyLoss |  7.39220285\n",
        "# Step   1560: eval          Accuracy |  0.08474576"
      ],
      "execution_count": null,
      "outputs": [
        {
          "output_type": "stream",
          "text": [
            "\n",
            "Step      1: Total number of trainable weights: 55144980\n",
            "Step      1: Ran 1 train steps in 43.46 secs\n",
            "Step      1: train CrossEntropyLoss |  10.41515255\n",
            "Step      1: eval  CrossEntropyLoss |  10.43891239\n",
            "Step      1: eval          Accuracy |  0.00000000\n"
          ],
          "name": "stdout"
        }
      ]
    },
    {
      "cell_type": "code",
      "metadata": {
        "id": "vWrehS7zNpW0"
      },
      "source": [
        "#!cp model/model.pkl.gz 'drive/MyDrive/m/model_1560.pkl.gz'\n",
        "#!ls -alh drive/MyDrive/m"
      ],
      "execution_count": null,
      "outputs": []
    },
    {
      "cell_type": "markdown",
      "metadata": {
        "id": "RbWTwK9NagsJ"
      },
      "source": [
        "## Load model"
      ]
    },
    {
      "cell_type": "markdown",
      "metadata": {
        "id": "2_UYlusQ_9xv"
      },
      "source": [
        "TransformerLM(vocab_size=33300, d_model=512, d_ff=2048, n_layers=6, n_heads=8, \n",
        "               dropout=0.1, max_len=4096, ff_activation=tl.Relu)"
      ]
    },
    {
      "cell_type": "code",
      "metadata": {
        "id": "h6nwzhLXn9ua"
      },
      "source": [
        "# Get the model architecture\n",
        "model = TransformerLM(mode='eval')\n",
        "\n",
        "# Load the pre-trained weights -- download from my gdrive here: https://drive.google.com/file/d/15nQKzT2Y2a_xRagIs6rkmGV8b4nFbmuQ/view?usp=sharing\n",
        "model.init_from_file('drive/MyDrive/m/model.pkl.gz', weights_only=True)"
      ],
      "execution_count": null,
      "outputs": []
    },
    {
      "cell_type": "code",
      "metadata": {
        "id": "hBX29AoRosUi",
        "colab": {
          "base_uri": "https://localhost:8080/"
        },
        "outputId": "4b1bdef0-4b41-42ac-85e7-4038f0d79441"
      },
      "source": [
        "# copied earlier or download from here: https://drive.google.com/file/d/16dtFmS3L78a8FYbB4rG_7xgCORLZdvW6/view?usp=sharing\n",
        "!mkdir vocab_dir\n",
        "!cp 'drive/MyDrive/m/summarize32k.subword.subwords' vocab_dir/\n",
        "!ls vocab_dir"
      ],
      "execution_count": null,
      "outputs": [
        {
          "output_type": "stream",
          "text": [
            "summarize32k.subword.subwords\n"
          ],
          "name": "stdout"
        }
      ]
    },
    {
      "cell_type": "code",
      "metadata": {
        "id": "gdewphR0oTLS"
      },
      "source": [
        "def next_symbol(cur_output_tokens, model, debug=0):\n",
        "    \"\"\"Returns the next symbol for a given sentence.\n",
        "\n",
        "    Args:\n",
        "        cur_output_tokens (list): tokenized sentence with EOS and PAD tokens at the end.\n",
        "        model (trax.layers.combinators.Serial): The transformer model.\n",
        "\n",
        "    Returns:\n",
        "        int: tokenized symbol.\n",
        "    \"\"\"\n",
        "    \n",
        "    # current output tokens length\n",
        "    token_length = len(cur_output_tokens)\n",
        "    # calculate the minimum power of 2 big enough to store token_length\n",
        "    padded_length = 2**int(np.ceil(np.log2(token_length + 1)))\n",
        "\n",
        "    # Fill cur_output_tokens with 0's until it reaches padded_length\n",
        "    padded = cur_output_tokens + [0] * (padded_length - token_length)\n",
        "    padded_with_batch = np.array(padded)[None, :]\n",
        "\n",
        "    # model expects a tuple containing two padded tensors (with batch)\n",
        "    output, _ = model((padded_with_batch, padded_with_batch))     \n",
        "    log_probs = output[0, token_length, :]\n",
        "    \n",
        "    if debug:\n",
        "      print(\"-next_symbol: log_probs shape:\", log_probs.shape, \" min:\", min(log_probs), \" max:\", max(log_probs))\n",
        "      print(\"-next_symbol: argmax:\", np.argmax(log_probs), \" log_probs[0-9]\", log_probs[0:10,])\n",
        "      print(\"-next_symbol: detokenize vocab[9]:\", detokenize([9]))\n",
        "    \n",
        "    return int(np.argmax(log_probs))"
      ],
      "execution_count": null,
      "outputs": []
    },
    {
      "cell_type": "code",
      "metadata": {
        "id": "0kuZJc-Vob15",
        "colab": {
          "base_uri": "https://localhost:8080/"
        },
        "outputId": "3aaf2e2a-4bf3-47df-991d-f1fde2a76f67"
      },
      "source": [
        "# Test it out!\n",
        "sentence_test_nxt_symbl = \"I want to fly in the sky.\"\n",
        "nexttoken = next_symbol(tokenize(sentence_test_nxt_symbl)+[0], model,debug=1)\n",
        "print(\"next token:\", detokenize([nexttoken]))"
      ],
      "execution_count": null,
      "outputs": [
        {
          "output_type": "stream",
          "text": [
            "-next_symbol: log_probs shape: (33300,)  min: -23.169357  max: -2.1070166\n",
            "-next_symbol: argmax: 9  log_probs[0-9] [-23.108425  -10.737383   -7.3234496  -6.6196504 -11.768337  -11.942752\n",
            "  -8.235595   -5.4594674 -11.004757   -2.1070166]\n",
            "-next_symbol: detokenize vocab[9]: The\n",
            "next token: The\n"
          ],
          "name": "stdout"
        }
      ]
    },
    {
      "cell_type": "code",
      "metadata": {
        "id": "qs7QQm7RofYT"
      },
      "source": [
        "def greedy_decode(input_sentence, model):\n",
        "    \"\"\"Greedy decode function.\n",
        "\n",
        "    Args:\n",
        "        input_sentence (string): a sentence or article.\n",
        "        model (trax.layers.combinators.Serial): Transformer model.\n",
        "\n",
        "    Returns:\n",
        "        string: summary of the input.\n",
        "    \"\"\"\n",
        "    \n",
        "    # Use tokenize()\n",
        "    cur_output_tokens = tokenize(input_sentence) + [0]\n",
        "    print(\"Input tokens:\", cur_output_tokens)\n",
        "    generated_output = [] \n",
        "    cur_output = 0 \n",
        "    EOS = 1 \n",
        "    MAXSTEPS=100\n",
        "    step=0\n",
        "    \n",
        "    while cur_output != EOS and step < MAXSTEPS:\n",
        "        step += 1\n",
        "        # Get next symbol\n",
        "        cur_output = next_symbol(cur_output_tokens, model)\n",
        "        # Append next symbol to original sentence\n",
        "        cur_output_tokens.append(cur_output)\n",
        "        # Append next symbol to generated sentence\n",
        "        generated_output.append(cur_output)\n",
        "        print(detokenize(generated_output))\n",
        "        \n",
        "    return detokenize(generated_output)"
      ],
      "execution_count": null,
      "outputs": []
    },
    {
      "cell_type": "markdown",
      "metadata": {
        "id": "BJDZPXr2sw47"
      },
      "source": [
        "## Test Sentences"
      ]
    },
    {
      "cell_type": "code",
      "metadata": {
        "colab": {
          "base_uri": "https://localhost:8080/"
        },
        "id": "085xMLJEpDaI",
        "outputId": "3a308247-2e57-4a37-d9a1-fe8bf56967e2"
      },
      "source": [
        "# Test it out on a sentence!\n",
        "test_sentence = \"\"\"\n",
        "It was a sunny day when I went to the market to buy some flowers. \n",
        "But I only found roses, not tulips.\"\"\"\n",
        "print(wrapper.fill(test_sentence), '\\n')\n",
        "print(greedy_decode(test_sentence, model))"
      ],
      "execution_count": null,
      "outputs": [
        {
          "output_type": "stream",
          "text": [
            " It was a sunny day when I went to the market to buy some flowers.\n",
            "But I only found roses, not tulips. \n",
            "\n",
            "Input tokens: [27439, 6774, 1628, 52, 1353, 28, 24421, 20, 194, 7511, 13, 533, 320, 213, 700, 320, 2444, 87, 5083, 23707, 6774, 1628, 200, 13, 86, 233, 4267, 45, 2, 19, 3735, 18035, 4, 10, 1, 0]\n",
            "\\\n",
            "\\160\n",
            "\n",
            " I\n",
            " I only\n",
            " I only found\n",
            " I only found ros\n",
            " I only found roses\n",
            " I only found roses,\n",
            " I only found roses, not\n",
            " I only found roses, not tu\n",
            " I only found roses, not tulips\n",
            " I only found roses, not tulips\n",
            " I only found roses, not tulips.\n",
            " I only found roses, not tulips.<EOS>\n",
            " I only found roses, not tulips.<EOS>\n"
          ],
          "name": "stdout"
        }
      ]
    },
    {
      "cell_type": "code",
      "metadata": {
        "colab": {
          "base_uri": "https://localhost:8080/"
        },
        "id": "Mi_kzxlWpI0n",
        "outputId": "8ef67c9d-7ed7-43f0-8d67-aa4ea3cb1ce9"
      },
      "source": [
        "# Test it out with a whole article!\n",
        "article = \"\"\"It’s the posing craze sweeping the U.S. after being brought to fame by skier Lindsey Vonn, \n",
        "soccer star Omar Cummings, baseball player Albert Pujols - and even Republican politician Rick Perry. \n",
        "But now four students at Riverhead High School on Long Island, New York, have been suspended for dropping \n",
        "to a knee and taking up a prayer pose to mimic Denver Broncos quarterback Tim Tebow. \n",
        "Jordan Fulcoly, Wayne Drexel, Tyler Carroll and Connor Carroll were all suspended for one day \n",
        "because the ‘Tebowing’ craze was blocking the hallway and presenting a safety hazard to students. \n",
        "Scroll down for video. Banned: Jordan Fulcoly, Wayne Drexel, Tyler Carroll and Connor Carroll (all pictured left) \n",
        "were all suspended for one day by Riverhead High School on Long Island, New York, for their tribute \n",
        "to Broncos quarterback Tim Tebow. Issue: Four of the pupils were suspended for one day because \n",
        "they allegedly did not heed to warnings that the 'Tebowing' craze at the school was blocking \n",
        "the hallway and presenting a safety hazard to students.\"\"\"\n",
        "print(wrapper.fill(article), '\\n')\n",
        "print(greedy_decode(article, model))"
      ],
      "execution_count": null,
      "outputs": [
        {
          "output_type": "stream",
          "text": [
            "It’s the posing craze sweeping the U.S. after being brought to fame by\n",
            "skier Lindsey Vonn,  soccer star Omar Cummings, baseball player Albert\n",
            "Pujols - and even Republican politician Rick Perry.  But now four\n",
            "students at Riverhead High School on Long Island, New York, have been\n",
            "suspended for dropping  to a knee and taking up a prayer pose to mimic\n",
            "Denver Broncos quarterback Tim Tebow.  Jordan Fulcoly, Wayne Drexel,\n",
            "Tyler Carroll and Connor Carroll were all suspended for one day\n",
            "because the ‘Tebowing’ craze was blocking the hallway and presenting a\n",
            "safety hazard to students.  Scroll down for video. Banned: Jordan\n",
            "Fulcoly, Wayne Drexel, Tyler Carroll and Connor Carroll (all pictured\n",
            "left)  were all suspended for one day by Riverhead High School on Long\n",
            "Island, New York, for their tribute  to Broncos quarterback Tim Tebow.\n",
            "Issue: Four of the pupils were suspended for one day because  they\n",
            "allegedly did not heed to warnings that the 'Tebowing' craze at the\n",
            "school was blocking  the hallway and presenting a safety hazard to\n",
            "students. \n",
            "\n",
            "Input tokens: [52, 29725, 4, 5, 213, 26938, 113, 3670, 1453, 26932, 4, 213, 184, 10, 59, 3, 102, 144, 990, 320, 9313, 691, 18131, 58, 16978, 663, 3342, 11221, 2035, 27439, 6774, 1628, 9073, 1337, 26299, 4, 26403, 1749, 2, 4663, 894, 5297, 4744, 3822, 902, 70, 186, 188, 3837, 9749, 12915, 10077, 23707, 6774, 1628, 200, 169, 290, 301, 809, 8917, 570, 998, 491, 78, 2563, 1164, 2, 119, 262, 2, 18, 46, 9457, 1019, 15711, 669, 27439, 6774, 1628, 320, 28, 15355, 186, 892, 61, 28, 7204, 12262, 320, 26282, 153, 5207, 7327, 12404, 10477, 7163, 2760, 7175, 23707, 6774, 1628, 5288, 7808, 5978, 20, 2, 7441, 8297, 9378, 84, 2, 15021, 12630, 186, 15993, 12630, 25, 38, 9457, 1019, 36, 194, 669, 27439, 6774, 1628, 166, 213, 669, 27439, 6050, 13459, 1628, 2760, 26995, 16, 29725, 391, 3670, 1453, 1353, 26680, 113, 213, 13403, 138, 186, 10362, 28, 1646, 20337, 320, 301, 23707, 6774, 1628, 9175, 6051, 4, 246, 1019, 846, 3, 17787, 17, 11, 5288, 7808, 5978, 20, 2, 7441, 8297, 9378, 84, 2, 15021, 12630, 186, 15993, 12630, 8, 38, 12370, 21, 346, 2627, 27439, 6774, 1628, 25, 38, 9457, 1019, 36, 194, 691, 8917, 570, 998, 491, 78, 2563, 1164, 2, 119, 262, 2, 1019, 31, 7687, 669, 27439, 6774, 1628, 320, 7327, 12404, 10477, 7163, 2760, 7175, 3, 16847, 11, 3211, 527, 213, 10211, 25, 9457, 1019, 36, 194, 166, 669, 27439, 6774, 1628, 41, 12365, 206, 19, 8890, 21, 320, 11080, 627, 285, 213, 117, 2760, 26995, 16, 80, 3670, 1453, 809, 213, 235, 1353, 26680, 113, 669, 27439, 6774, 1628, 213, 13403, 138, 186, 10362, 28, 1646, 20337, 320, 301, 10, 1, 0]\n",
            "Jordan\n",
            "Jordan Ful\n",
            "Jordan Fulcol\n",
            "Jordan Fulcoly\n",
            "Jordan Fulcoly,\n",
            "Jordan Fulcoly, Wayne\n",
            "Jordan Fulcoly, Wayne Dre\n",
            "Jordan Fulcoly, Wayne Drexe\n",
            "Jordan Fulcoly, Wayne Drexel\n",
            "Jordan Fulcoly, Wayne Drexel,\n",
            "Jordan Fulcoly, Wayne Drexel, Tyler\n",
            "Jordan Fulcoly, Wayne Drexel, Tyler Carroll\n",
            "Jordan Fulcoly, Wayne Drexel, Tyler Carroll and\n",
            "Jordan Fulcoly, Wayne Drexel, Tyler Carroll and Connor\n",
            "Jordan Fulcoly, Wayne Drexel, Tyler Carroll and Connor Carroll\n",
            "Jordan Fulcoly, Wayne Drexel, Tyler Carroll and Connor Carroll were\n",
            "Jordan Fulcoly, Wayne Drexel, Tyler Carroll and Connor Carroll were\n",
            "suspended\n",
            "Jordan Fulcoly, Wayne Drexel, Tyler Carroll and Connor Carroll were\n",
            "suspended for\n",
            "Jordan Fulcoly, Wayne Drexel, Tyler Carroll and Connor Carroll were\n",
            "suspended for one\n",
            "Jordan Fulcoly, Wayne Drexel, Tyler Carroll and Connor Carroll were\n",
            "suspended for one day\n",
            "Jordan Fulcoly, Wayne Drexel, Tyler Carroll and Connor Carroll were\n",
            "suspended for one day.\n",
            "Jordan Fulcoly, Wayne Drexel, Tyler Carroll and Connor Carroll were\n",
            "suspended for one day. Four\n",
            "Jordan Fulcoly, Wayne Drexel, Tyler Carroll and Connor Carroll were\n",
            "suspended for one day. Four of\n",
            "Jordan Fulcoly, Wayne Drexel, Tyler Carroll and Connor Carroll were\n",
            "suspended for one day. Four of the\n",
            "Jordan Fulcoly, Wayne Drexel, Tyler Carroll and Connor Carroll were\n",
            "suspended for one day. Four of the pupils\n",
            "Jordan Fulcoly, Wayne Drexel, Tyler Carroll and Connor Carroll were\n",
            "suspended for one day. Four of the pupils were\n",
            "Jordan Fulcoly, Wayne Drexel, Tyler Carroll and Connor Carroll were\n",
            "suspended for one day. Four of the pupils were suspended\n",
            "Jordan Fulcoly, Wayne Drexel, Tyler Carroll and Connor Carroll were\n",
            "suspended for one day. Four of the pupils were suspended for\n",
            "Jordan Fulcoly, Wayne Drexel, Tyler Carroll and Connor Carroll were\n",
            "suspended for one day. Four of the pupils were suspended for one\n",
            "Jordan Fulcoly, Wayne Drexel, Tyler Carroll and Connor Carroll were\n",
            "suspended for one day. Four of the pupils were suspended for one day\n",
            "Jordan Fulcoly, Wayne Drexel, Tyler Carroll and Connor Carroll were\n",
            "suspended for one day. Four of the pupils were suspended for one day\n",
            "because\n",
            "Jordan Fulcoly, Wayne Drexel, Tyler Carroll and Connor Carroll were\n",
            "suspended for one day. Four of the pupils were suspended for one day\n",
            "because '\n",
            "Jordan Fulcoly, Wayne Drexel, Tyler Carroll and Connor Carroll were\n",
            "suspended for one day. Four of the pupils were suspended for one day\n",
            "because 'Te\n",
            "Jordan Fulcoly, Wayne Drexel, Tyler Carroll and Connor Carroll were\n",
            "suspended for one day. Four of the pupils were suspended for one day\n",
            "because 'Tebow\n",
            "Jordan Fulcoly, Wayne Drexel, Tyler Carroll and Connor Carroll were\n",
            "suspended for one day. Four of the pupils were suspended for one day\n",
            "because 'Tebowing\n",
            "Jordan Fulcoly, Wayne Drexel, Tyler Carroll and Connor Carroll were\n",
            "suspended for one day. Four of the pupils were suspended for one day\n",
            "because 'Tebowing'\n",
            "Jordan Fulcoly, Wayne Drexel, Tyler Carroll and Connor Carroll were\n",
            "suspended for one day. Four of the pupils were suspended for one day\n",
            "because 'Tebowing' cra\n",
            "Jordan Fulcoly, Wayne Drexel, Tyler Carroll and Connor Carroll were\n",
            "suspended for one day. Four of the pupils were suspended for one day\n",
            "because 'Tebowing' craze\n",
            "Jordan Fulcoly, Wayne Drexel, Tyler Carroll and Connor Carroll were\n",
            "suspended for one day. Four of the pupils were suspended for one day\n",
            "because 'Tebowing' craze blocki\n",
            "Jordan Fulcoly, Wayne Drexel, Tyler Carroll and Connor Carroll were\n",
            "suspended for one day. Four of the pupils were suspended for one day\n",
            "because 'Tebowing' craze blocking\n",
            "Jordan Fulcoly, Wayne Drexel, Tyler Carroll and Connor Carroll were\n",
            "suspended for one day. Four of the pupils were suspended for one day\n",
            "because 'Tebowing' craze blocking hall\n",
            "Jordan Fulcoly, Wayne Drexel, Tyler Carroll and Connor Carroll were\n",
            "suspended for one day. Four of the pupils were suspended for one day\n",
            "because 'Tebowing' craze blocking hallway\n",
            "Jordan Fulcoly, Wayne Drexel, Tyler Carroll and Connor Carroll were\n",
            "suspended for one day. Four of the pupils were suspended for one day\n",
            "because 'Tebowing' craze blocking hallway.\n",
            "Jordan Fulcoly, Wayne Drexel, Tyler Carroll and Connor Carroll were\n",
            "suspended for one day. Four of the pupils were suspended for one day\n",
            "because 'Tebowing' craze blocking hallway. Four\n",
            "Jordan Fulcoly, Wayne Drexel, Tyler Carroll and Connor Carroll were\n",
            "suspended for one day. Four of the pupils were suspended for one day\n",
            "because 'Tebowing' craze blocking hallway. Four students\n",
            "Jordan Fulcoly, Wayne Drexel, Tyler Carroll and Connor Carroll were\n",
            "suspended for one day. Four of the pupils were suspended for one day\n",
            "because 'Tebowing' craze blocking hallway. Four students at\n",
            "Jordan Fulcoly, Wayne Drexel, Tyler Carroll and Connor Carroll were\n",
            "suspended for one day. Four of the pupils were suspended for one day\n",
            "because 'Tebowing' craze blocking hallway. Four students at River\n",
            "Jordan Fulcoly, Wayne Drexel, Tyler Carroll and Connor Carroll were\n",
            "suspended for one day. Four of the pupils were suspended for one day\n",
            "because 'Tebowing' craze blocking hallway. Four students at Riverhead\n",
            "Jordan Fulcoly, Wayne Drexel, Tyler Carroll and Connor Carroll were\n",
            "suspended for one day. Four of the pupils were suspended for one day\n",
            "because 'Tebowing' craze blocking hallway. Four students at Riverhead\n",
            "High\n",
            "Jordan Fulcoly, Wayne Drexel, Tyler Carroll and Connor Carroll were\n",
            "suspended for one day. Four of the pupils were suspended for one day\n",
            "because 'Tebowing' craze blocking hallway. Four students at Riverhead\n",
            "High School\n",
            "Jordan Fulcoly, Wayne Drexel, Tyler Carroll and Connor Carroll were\n",
            "suspended for one day. Four of the pupils were suspended for one day\n",
            "because 'Tebowing' craze blocking hallway. Four students at Riverhead\n",
            "High School on\n",
            "Jordan Fulcoly, Wayne Drexel, Tyler Carroll and Connor Carroll were\n",
            "suspended for one day. Four of the pupils were suspended for one day\n",
            "because 'Tebowing' craze blocking hallway. Four students at Riverhead\n",
            "High School on Long\n",
            "Jordan Fulcoly, Wayne Drexel, Tyler Carroll and Connor Carroll were\n",
            "suspended for one day. Four of the pupils were suspended for one day\n",
            "because 'Tebowing' craze blocking hallway. Four students at Riverhead\n",
            "High School on Long Island\n",
            "Jordan Fulcoly, Wayne Drexel, Tyler Carroll and Connor Carroll were\n",
            "suspended for one day. Four of the pupils were suspended for one day\n",
            "because 'Tebowing' craze blocking hallway. Four students at Riverhead\n",
            "High School on Long Island,\n",
            "Jordan Fulcoly, Wayne Drexel, Tyler Carroll and Connor Carroll were\n",
            "suspended for one day. Four of the pupils were suspended for one day\n",
            "because 'Tebowing' craze blocking hallway. Four students at Riverhead\n",
            "High School on Long Island, New\n",
            "Jordan Fulcoly, Wayne Drexel, Tyler Carroll and Connor Carroll were\n",
            "suspended for one day. Four of the pupils were suspended for one day\n",
            "because 'Tebowing' craze blocking hallway. Four students at Riverhead\n",
            "High School on Long Island, New York\n",
            "Jordan Fulcoly, Wayne Drexel, Tyler Carroll and Connor Carroll were\n",
            "suspended for one day. Four of the pupils were suspended for one day\n",
            "because 'Tebowing' craze blocking hallway. Four students at Riverhead\n",
            "High School on Long Island, New York,\n",
            "Jordan Fulcoly, Wayne Drexel, Tyler Carroll and Connor Carroll were\n",
            "suspended for one day. Four of the pupils were suspended for one day\n",
            "because 'Tebowing' craze blocking hallway. Four students at Riverhead\n",
            "High School on Long Island, New York, have\n",
            "Jordan Fulcoly, Wayne Drexel, Tyler Carroll and Connor Carroll were\n",
            "suspended for one day. Four of the pupils were suspended for one day\n",
            "because 'Tebowing' craze blocking hallway. Four students at Riverhead\n",
            "High School on Long Island, New York, have been\n",
            "Jordan Fulcoly, Wayne Drexel, Tyler Carroll and Connor Carroll were\n",
            "suspended for one day. Four of the pupils were suspended for one day\n",
            "because 'Tebowing' craze blocking hallway. Four students at Riverhead\n",
            "High School on Long Island, New York, have been suspended\n",
            "Jordan Fulcoly, Wayne Drexel, Tyler Carroll and Connor Carroll were\n",
            "suspended for one day. Four of the pupils were suspended for one day\n",
            "because 'Tebowing' craze blocking hallway. Four students at Riverhead\n",
            "High School on Long Island, New York, have been suspended for\n",
            "Jordan Fulcoly, Wayne Drexel, Tyler Carroll and Connor Carroll were\n",
            "suspended for one day. Four of the pupils were suspended for one day\n",
            "because 'Tebowing' craze blocking hallway. Four students at Riverhead\n",
            "High School on Long Island, New York, have been suspended for one\n",
            "Jordan Fulcoly, Wayne Drexel, Tyler Carroll and Connor Carroll were\n",
            "suspended for one day. Four of the pupils were suspended for one day\n",
            "because 'Tebowing' craze blocking hallway. Four students at Riverhead\n",
            "High School on Long Island, New York, have been suspended for one day\n",
            "Jordan Fulcoly, Wayne Drexel, Tyler Carroll and Connor Carroll were\n",
            "suspended for one day. Four of the pupils were suspended for one day\n",
            "because 'Tebowing' craze blocking hallway. Four students at Riverhead\n",
            "High School on Long Island, New York, have been suspended for one day.\n",
            "Jordan Fulcoly, Wayne Drexel, Tyler Carroll and Connor Carroll were\n",
            "suspended for one day. Four of the pupils were suspended for one day\n",
            "because 'Tebowing' craze blocking hallway. Four students at Riverhead\n",
            "High School on Long Island, New York, have been suspended for one\n",
            "day.<EOS>\n",
            "Jordan Fulcoly, Wayne Drexel, Tyler Carroll and Connor Carroll were\n",
            "suspended for one day. Four of the pupils were suspended for one day\n",
            "because 'Tebowing' craze blocking hallway. Four students at Riverhead\n",
            "High School on Long Island, New York, have been suspended for one\n",
            "day.<EOS>\n"
          ],
          "name": "stdout"
        }
      ]
    },
    {
      "cell_type": "code",
      "metadata": {
        "colab": {
          "base_uri": "https://localhost:8080/"
        },
        "id": "T0BLlVNzpWAe",
        "outputId": "27d84654-015b-449c-f32b-558a0e7dc37d"
      },
      "source": [
        "article = \"\"\"President Donald Trump's administration has introduced executive orders against a range of Chinese firms arguing they could share data with the Chinese government.\n",
        "\n",
        "China's new export laws are \"a reaction to this escalation of the tech war and it's China looking to cover its own advantages\", said Alex Capri, visiting professor at the National University of Singapore.\n",
        "\"\"\"\n",
        "print(wrapper.fill(article), '\\n')\n",
        "print(greedy_decode(article, model))"
      ],
      "execution_count": null,
      "outputs": [
        {
          "output_type": "stream",
          "text": [
            "President Donald Trump's administration has introduced executive\n",
            "orders against a range of Chinese firms arguing they could share data\n",
            "with the Chinese government.  China's new export laws are \"a reaction\n",
            "to this escalation of the tech war and it's China looking to cover its\n",
            "own advantages\", said Alex Capri, visiting professor at the National\n",
            "University of Singapore. \n",
            "\n",
            "Input tokens: [699, 4877, 2505, 7, 5, 1945, 23, 1734, 2462, 2979, 214, 28, 598, 527, 1296, 6260, 16509, 41, 143, 1075, 274, 1248, 213, 1296, 266, 4172, 27439, 6774, 7583, 27439, 6774, 1628, 842, 7, 5, 82, 9891, 1544, 1435, 669, 27634, 4, 28, 3212, 320, 824, 16940, 204, 527, 213, 7187, 489, 186, 103, 7, 5, 842, 996, 320, 1284, 50, 221, 10805, 27634, 2, 127, 6131, 4888, 1685, 2, 4956, 3707, 809, 213, 276, 167, 527, 3012, 4172, 27439, 6774, 1628, 1, 0]\n",
            "Gov\n",
            "Gov'\n",
            "Gov's\n",
            "Gov's Jin\n",
            "Gov's Jin\n",
            "Gov's Jin'\n",
            "Gov's Jin's\n",
            "Gov's Jin's administration\n",
            "Gov's Jin's administration has\n",
            "Gov's Jin's administration has introduced\n",
            "Gov's Jin's administration has introduced executive\n",
            "Gov's Jin's administration has introduced executive orders\n",
            "Gov's Jin's administration has introduced executive orders against\n",
            "Gov's Jin's administration has introduced executive orders against a\n",
            "Gov's Jin's administration has introduced executive orders against a\n",
            "range\n",
            "Gov's Jin's administration has introduced executive orders against a\n",
            "range of\n",
            "Gov's Jin's administration has introduced executive orders against a\n",
            "range of Chinese\n",
            "Gov's Jin's administration has introduced executive orders against a\n",
            "range of Chinese firms\n",
            "Gov's Jin's administration has introduced executive orders against a\n",
            "range of Chinese firms arguing\n",
            "Gov's Jin's administration has introduced executive orders against a\n",
            "range of Chinese firms arguing they\n",
            "Gov's Jin's administration has introduced executive orders against a\n",
            "range of Chinese firms arguing they could\n",
            "Gov's Jin's administration has introduced executive orders against a\n",
            "range of Chinese firms arguing they could share\n",
            "Gov's Jin's administration has introduced executive orders against a\n",
            "range of Chinese firms arguing they could share data\n",
            "Gov's Jin's administration has introduced executive orders against a\n",
            "range of Chinese firms arguing they could share data with\n",
            "Gov's Jin's administration has introduced executive orders against a\n",
            "range of Chinese firms arguing they could share data with the\n",
            "Gov's Jin's administration has introduced executive orders against a\n",
            "range of Chinese firms arguing they could share data with the Chinese\n",
            "Gov's Jin's administration has introduced executive orders against a\n",
            "range of Chinese firms arguing they could share data with the Chinese\n",
            "government\n",
            "Gov's Jin's administration has introduced executive orders against a\n",
            "range of Chinese firms arguing they could share data with the Chinese\n",
            "government.\n",
            "Gov's Jin's administration has introduced executive orders against a\n",
            "range of Chinese firms arguing they could share data with the Chinese\n",
            "government. The\n",
            "Gov's Jin's administration has introduced executive orders against a\n",
            "range of Chinese firms arguing they could share data with the Chinese\n",
            "government. The Chinese\n",
            "Gov's Jin's administration has introduced executive orders against a\n",
            "range of Chinese firms arguing they could share data with the Chinese\n",
            "government. The Chinese government\n",
            "Gov's Jin's administration has introduced executive orders against a\n",
            "range of Chinese firms arguing they could share data with the Chinese\n",
            "government. The Chinese government wants\n",
            "Gov's Jin's administration has introduced executive orders against a\n",
            "range of Chinese firms arguing they could share data with the Chinese\n",
            "government. The Chinese government wants to\n",
            "Gov's Jin's administration has introduced executive orders against a\n",
            "range of Chinese firms arguing they could share data with the Chinese\n",
            "government. The Chinese government wants to share\n",
            "Gov's Jin's administration has introduced executive orders against a\n",
            "range of Chinese firms arguing they could share data with the Chinese\n",
            "government. The Chinese government wants to share data\n",
            "Gov's Jin's administration has introduced executive orders against a\n",
            "range of Chinese firms arguing they could share data with the Chinese\n",
            "government. The Chinese government wants to share data with\n",
            "Gov's Jin's administration has introduced executive orders against a\n",
            "range of Chinese firms arguing they could share data with the Chinese\n",
            "government. The Chinese government wants to share data with the\n",
            "Gov's Jin's administration has introduced executive orders against a\n",
            "range of Chinese firms arguing they could share data with the Chinese\n",
            "government. The Chinese government wants to share data with the\n",
            "Chinese\n",
            "Gov's Jin's administration has introduced executive orders against a\n",
            "range of Chinese firms arguing they could share data with the Chinese\n",
            "government. The Chinese government wants to share data with the\n",
            "Chinese government\n",
            "Gov's Jin's administration has introduced executive orders against a\n",
            "range of Chinese firms arguing they could share data with the Chinese\n",
            "government. The Chinese government wants to share data with the\n",
            "Chinese government.\n",
            "Gov's Jin's administration has introduced executive orders against a\n",
            "range of Chinese firms arguing they could share data with the Chinese\n",
            "government. The Chinese government wants to share data with the\n",
            "Chinese government. The\n",
            "Gov's Jin's administration has introduced executive orders against a\n",
            "range of Chinese firms arguing they could share data with the Chinese\n",
            "government. The Chinese government wants to share data with the\n",
            "Chinese government. The Chinese\n",
            "Gov's Jin's administration has introduced executive orders against a\n",
            "range of Chinese firms arguing they could share data with the Chinese\n",
            "government. The Chinese government wants to share data with the\n",
            "Chinese government. The Chinese government\n",
            "Gov's Jin's administration has introduced executive orders against a\n",
            "range of Chinese firms arguing they could share data with the Chinese\n",
            "government. The Chinese government wants to share data with the\n",
            "Chinese government. The Chinese government wants\n",
            "Gov's Jin's administration has introduced executive orders against a\n",
            "range of Chinese firms arguing they could share data with the Chinese\n",
            "government. The Chinese government wants to share data with the\n",
            "Chinese government. The Chinese government wants to\n",
            "Gov's Jin's administration has introduced executive orders against a\n",
            "range of Chinese firms arguing they could share data with the Chinese\n",
            "government. The Chinese government wants to share data with the\n",
            "Chinese government. The Chinese government wants to share\n",
            "Gov's Jin's administration has introduced executive orders against a\n",
            "range of Chinese firms arguing they could share data with the Chinese\n",
            "government. The Chinese government wants to share data with the\n",
            "Chinese government. The Chinese government wants to share data\n",
            "Gov's Jin's administration has introduced executive orders against a\n",
            "range of Chinese firms arguing they could share data with the Chinese\n",
            "government. The Chinese government wants to share data with the\n",
            "Chinese government. The Chinese government wants to share data with\n",
            "Gov's Jin's administration has introduced executive orders against a\n",
            "range of Chinese firms arguing they could share data with the Chinese\n",
            "government. The Chinese government wants to share data with the\n",
            "Chinese government. The Chinese government wants to share data with\n",
            "the\n",
            "Gov's Jin's administration has introduced executive orders against a\n",
            "range of Chinese firms arguing they could share data with the Chinese\n",
            "government. The Chinese government wants to share data with the\n",
            "Chinese government. The Chinese government wants to share data with\n",
            "the Chinese\n",
            "Gov's Jin's administration has introduced executive orders against a\n",
            "range of Chinese firms arguing they could share data with the Chinese\n",
            "government. The Chinese government wants to share data with the\n",
            "Chinese government. The Chinese government wants to share data with\n",
            "the Chinese government\n",
            "Gov's Jin's administration has introduced executive orders against a\n",
            "range of Chinese firms arguing they could share data with the Chinese\n",
            "government. The Chinese government wants to share data with the\n",
            "Chinese government. The Chinese government wants to share data with\n",
            "the Chinese government.\n",
            "Gov's Jin's administration has introduced executive orders against a\n",
            "range of Chinese firms arguing they could share data with the Chinese\n",
            "government. The Chinese government wants to share data with the\n",
            "Chinese government. The Chinese government wants to share data with\n",
            "the Chinese government.<EOS>\n",
            "Gov's Jin's administration has introduced executive orders against a\n",
            "range of Chinese firms arguing they could share data with the Chinese\n",
            "government. The Chinese government wants to share data with the\n",
            "Chinese government. The Chinese government wants to share data with\n",
            "the Chinese government.<EOS>\n"
          ],
          "name": "stdout"
        }
      ]
    },
    {
      "cell_type": "code",
      "metadata": {
        "colab": {
          "base_uri": "https://localhost:8080/"
        },
        "id": "9ubSSkWbqPyp",
        "outputId": "c68d9c74-8802-402f-d547-7cc63de17ea0"
      },
      "source": [
        "article = \"\"\"\n",
        "A Wisconsin hospital pharmacist was arrested on Thursday (Dec 31) on suspicion of sabotaging more than 500 doses of coronavirus vaccine by deliberately removing them from refrigeration to spoil, police and medical authorities said.\n",
        "\n",
        "The pharmacist, an employee of Aurora Medical Center in Grafton, Wisconsin, at the time that 57 vials of vaccine were found left out of cold storage earlier this week, has since been fired but has not been publicly identified, officials said.\n",
        "\n",
        "Each vial contains 10 doses. Nearly 60 of the doses in question were administered before hospital officials determined the medication had been left unrefrigerated long enough to render the vaccine ineffective. The remaining 500-plus doses were then discarded.\n",
        "\n",
        "Moderna Inc, maker of the vaccine, has assured the hospital that receiving an injection of any of the doses removed from refrigeration poses no safety issue, other than leaving the recipient unprotected from Covid infection, said Dr. Jeff Bahr, Aurora Health Care Medical Group president.\n",
        "\"\"\"\n",
        "print(wrapper.fill(article), '\\n')\n",
        "print(greedy_decode(article, model))"
      ],
      "execution_count": null,
      "outputs": [
        {
          "output_type": "stream",
          "text": [
            " A Wisconsin hospital pharmacist was arrested on Thursday (Dec 31) on\n",
            "suspicion of sabotaging more than 500 doses of coronavirus vaccine by\n",
            "deliberately removing them from refrigeration to spoil, police and\n",
            "medical authorities said.  The pharmacist, an employee of Aurora\n",
            "Medical Center in Grafton, Wisconsin, at the time that 57 vials of\n",
            "vaccine were found left out of cold storage earlier this week, has\n",
            "since been fired but has not been publicly identified, officials said.\n",
            "Each vial contains 10 doses. Nearly 60 of the doses in question were\n",
            "administered before hospital officials determined the medication had\n",
            "been left unrefrigerated long enough to render the vaccine\n",
            "ineffective. The remaining 500-plus doses were then discarded.\n",
            "Moderna Inc, maker of the vaccine, has assured the hospital that\n",
            "receiving an injection of any of the doses removed from refrigeration\n",
            "poses no safety issue, other than leaving the recipient unprotected\n",
            "from Covid infection, said Dr. Jeff Bahr, Aurora Health Care Medical\n",
            "Group president. \n",
            "\n",
            "Input tokens: [27439, 6774, 1628, 27, 3367, 2642, 20760, 958, 1353, 4662, 78, 3112, 8, 4013, 815, 12, 78, 24693, 527, 10280, 8463, 2304, 44, 74, 1273, 21456, 527, 19853, 9011, 8710, 20399, 4, 691, 19266, 14146, 105, 1838, 11698, 26888, 361, 320, 13574, 4, 2, 864, 186, 1351, 1882, 127, 4172, 27439, 6774, 7583, 27439, 6774, 1628, 9, 20760, 958, 2, 163, 5263, 527, 9187, 6582, 3357, 636, 132, 2483, 5596, 78, 2, 3367, 2, 809, 213, 55, 285, 2577, 14655, 902, 527, 20399, 4, 25, 233, 346, 64, 527, 3206, 3539, 1121, 824, 719, 2, 23, 254, 46, 5753, 35, 23, 19, 46, 7718, 1317, 2, 1631, 127, 4172, 27439, 6774, 7583, 27439, 6774, 1628, 1888, 26562, 1727, 137, 21456, 3, 19832, 989, 527, 213, 21456, 132, 883, 25, 9396, 171, 2642, 1631, 1671, 213, 21020, 40, 46, 346, 8846, 3937, 5568, 1173, 209, 811, 320, 23263, 213, 20399, 4, 14213, 11753, 3, 9, 2267, 1273, 6, 2450, 21456, 25, 146, 25576, 17, 4172, 27439, 6774, 7583, 27439, 6774, 1628, 26300, 619, 1686, 2, 6991, 527, 213, 20399, 4, 2, 23, 17421, 213, 2642, 285, 3666, 163, 13566, 527, 116, 527, 213, 21456, 2497, 1838, 11698, 26888, 361, 22175, 92, 1646, 739, 2, 54, 74, 2252, 213, 10576, 22956, 21294, 17, 1838, 16089, 854, 5890, 2, 127, 633, 3, 7158, 9263, 58, 2, 9187, 6582, 1404, 3968, 3357, 1051, 1155, 4172, 27439, 6774, 1628, 1, 0]\n",
            "The\n",
            "The pharmac\n",
            "The pharmacist\n",
            "The pharmacist,\n",
            "The pharmacist, an\n",
            "The pharmacist, an employee\n",
            "The pharmacist, an employee of\n",
            "The pharmacist, an employee of Aur\n",
            "The pharmacist, an employee of Aurora\n",
            "The pharmacist, an employee of Aurora Medical\n",
            "The pharmacist, an employee of Aurora Medical Center\n",
            "The pharmacist, an employee of Aurora Medical Center in\n",
            "The pharmacist, an employee of Aurora Medical Center in Gra\n",
            "The pharmacist, an employee of Aurora Medical Center in Graft\n",
            "The pharmacist, an employee of Aurora Medical Center in Grafton\n",
            "The pharmacist, an employee of Aurora Medical Center in Grafton,\n",
            "The pharmacist, an employee of Aurora Medical Center in Grafton,\n",
            "Wisconsin\n",
            "The pharmacist, an employee of Aurora Medical Center in Grafton,\n",
            "Wisconsin,\n",
            "The pharmacist, an employee of Aurora Medical Center in Grafton,\n",
            "Wisconsin, has\n",
            "The pharmacist, an employee of Aurora Medical Center in Grafton,\n",
            "Wisconsin, has since\n",
            "The pharmacist, an employee of Aurora Medical Center in Grafton,\n",
            "Wisconsin, has since been\n",
            "The pharmacist, an employee of Aurora Medical Center in Grafton,\n",
            "Wisconsin, has since been fired\n",
            "The pharmacist, an employee of Aurora Medical Center in Grafton,\n",
            "Wisconsin, has since been fired.\n",
            "The pharmacist, an employee of Aurora Medical Center in Grafton,\n",
            "Wisconsin, has since been fired. The\n",
            "The pharmacist, an employee of Aurora Medical Center in Grafton,\n",
            "Wisconsin, has since been fired. The remaining\n",
            "The pharmacist, an employee of Aurora Medical Center in Grafton,\n",
            "Wisconsin, has since been fired. The remaining 500\n",
            "The pharmacist, an employee of Aurora Medical Center in Grafton,\n",
            "Wisconsin, has since been fired. The remaining 500 doses\n",
            "The pharmacist, an employee of Aurora Medical Center in Grafton,\n",
            "Wisconsin, has since been fired. The remaining 500 doses were\n",
            "The pharmacist, an employee of Aurora Medical Center in Grafton,\n",
            "Wisconsin, has since been fired. The remaining 500 doses were discard\n",
            "The pharmacist, an employee of Aurora Medical Center in Grafton,\n",
            "Wisconsin, has since been fired. The remaining 500 doses were\n",
            "discarded\n",
            "The pharmacist, an employee of Aurora Medical Center in Grafton,\n",
            "Wisconsin, has since been fired. The remaining 500 doses were\n",
            "discarded,\n",
            "The pharmacist, an employee of Aurora Medical Center in Grafton,\n",
            "Wisconsin, has since been fired. The remaining 500 doses were\n",
            "discarded, the\n",
            "The pharmacist, an employee of Aurora Medical Center in Grafton,\n",
            "Wisconsin, has since been fired. The remaining 500 doses were\n",
            "discarded, the pharmac\n",
            "The pharmacist, an employee of Aurora Medical Center in Grafton,\n",
            "Wisconsin, has since been fired. The remaining 500 doses were\n",
            "discarded, the pharmacist\n",
            "The pharmacist, an employee of Aurora Medical Center in Grafton,\n",
            "Wisconsin, has since been fired. The remaining 500 doses were\n",
            "discarded, the pharmacist said\n",
            "The pharmacist, an employee of Aurora Medical Center in Grafton,\n",
            "Wisconsin, has since been fired. The remaining 500 doses were\n",
            "discarded, the pharmacist said.\n",
            "The pharmacist, an employee of Aurora Medical Center in Grafton,\n",
            "Wisconsin, has since been fired. The remaining 500 doses were\n",
            "discarded, the pharmacist said. The\n",
            "The pharmacist, an employee of Aurora Medical Center in Grafton,\n",
            "Wisconsin, has since been fired. The remaining 500 doses were\n",
            "discarded, the pharmacist said. The remaining\n",
            "The pharmacist, an employee of Aurora Medical Center in Grafton,\n",
            "Wisconsin, has since been fired. The remaining 500 doses were\n",
            "discarded, the pharmacist said. The remaining 500\n",
            "The pharmacist, an employee of Aurora Medical Center in Grafton,\n",
            "Wisconsin, has since been fired. The remaining 500 doses were\n",
            "discarded, the pharmacist said. The remaining 500 doses\n",
            "The pharmacist, an employee of Aurora Medical Center in Grafton,\n",
            "Wisconsin, has since been fired. The remaining 500 doses were\n",
            "discarded, the pharmacist said. The remaining 500 doses were\n",
            "The pharmacist, an employee of Aurora Medical Center in Grafton,\n",
            "Wisconsin, has since been fired. The remaining 500 doses were\n",
            "discarded, the pharmacist said. The remaining 500 doses were discard\n",
            "The pharmacist, an employee of Aurora Medical Center in Grafton,\n",
            "Wisconsin, has since been fired. The remaining 500 doses were\n",
            "discarded, the pharmacist said. The remaining 500 doses were discarded\n",
            "The pharmacist, an employee of Aurora Medical Center in Grafton,\n",
            "Wisconsin, has since been fired. The remaining 500 doses were\n",
            "discarded, the pharmacist said. The remaining 500 doses were discarded\n",
            "before\n",
            "The pharmacist, an employee of Aurora Medical Center in Grafton,\n",
            "Wisconsin, has since been fired. The remaining 500 doses were\n",
            "discarded, the pharmacist said. The remaining 500 doses were discarded\n",
            "before hospital\n",
            "The pharmacist, an employee of Aurora Medical Center in Grafton,\n",
            "Wisconsin, has since been fired. The remaining 500 doses were\n",
            "discarded, the pharmacist said. The remaining 500 doses were discarded\n",
            "before hospital officials\n",
            "The pharmacist, an employee of Aurora Medical Center in Grafton,\n",
            "Wisconsin, has since been fired. The remaining 500 doses were\n",
            "discarded, the pharmacist said. The remaining 500 doses were discarded\n",
            "before hospital officials determined\n",
            "The pharmacist, an employee of Aurora Medical Center in Grafton,\n",
            "Wisconsin, has since been fired. The remaining 500 doses were\n",
            "discarded, the pharmacist said. The remaining 500 doses were discarded\n",
            "before hospital officials determined the\n",
            "The pharmacist, an employee of Aurora Medical Center in Grafton,\n",
            "Wisconsin, has since been fired. The remaining 500 doses were\n",
            "discarded, the pharmacist said. The remaining 500 doses were discarded\n",
            "before hospital officials determined the medication\n",
            "The pharmacist, an employee of Aurora Medical Center in Grafton,\n",
            "Wisconsin, has since been fired. The remaining 500 doses were\n",
            "discarded, the pharmacist said. The remaining 500 doses were discarded\n",
            "before hospital officials determined the medication had\n",
            "The pharmacist, an employee of Aurora Medical Center in Grafton,\n",
            "Wisconsin, has since been fired. The remaining 500 doses were\n",
            "discarded, the pharmacist said. The remaining 500 doses were discarded\n",
            "before hospital officials determined the medication had been\n",
            "The pharmacist, an employee of Aurora Medical Center in Grafton,\n",
            "Wisconsin, has since been fired. The remaining 500 doses were\n",
            "discarded, the pharmacist said. The remaining 500 doses were discarded\n",
            "before hospital officials determined the medication had been left\n",
            "The pharmacist, an employee of Aurora Medical Center in Grafton,\n",
            "Wisconsin, has since been fired. The remaining 500 doses were\n",
            "discarded, the pharmacist said. The remaining 500 doses were discarded\n",
            "before hospital officials determined the medication had been left unre\n",
            "The pharmacist, an employee of Aurora Medical Center in Grafton,\n",
            "Wisconsin, has since been fired. The remaining 500 doses were\n",
            "discarded, the pharmacist said. The remaining 500 doses were discarded\n",
            "before hospital officials determined the medication had been left\n",
            "unrefri\n",
            "The pharmacist, an employee of Aurora Medical Center in Grafton,\n",
            "Wisconsin, has since been fired. The remaining 500 doses were\n",
            "discarded, the pharmacist said. The remaining 500 doses were discarded\n",
            "before hospital officials determined the medication had been left\n",
            "unrefriger\n",
            "The pharmacist, an employee of Aurora Medical Center in Grafton,\n",
            "Wisconsin, has since been fired. The remaining 500 doses were\n",
            "discarded, the pharmacist said. The remaining 500 doses were discarded\n",
            "before hospital officials determined the medication had been left\n",
            "unrefrigerated\n",
            "The pharmacist, an employee of Aurora Medical Center in Grafton,\n",
            "Wisconsin, has since been fired. The remaining 500 doses were\n",
            "discarded, the pharmacist said. The remaining 500 doses were discarded\n",
            "before hospital officials determined the medication had been left\n",
            "unrefrigerated long\n",
            "The pharmacist, an employee of Aurora Medical Center in Grafton,\n",
            "Wisconsin, has since been fired. The remaining 500 doses were\n",
            "discarded, the pharmacist said. The remaining 500 doses were discarded\n",
            "before hospital officials determined the medication had been left\n",
            "unrefrigerated long enough\n",
            "The pharmacist, an employee of Aurora Medical Center in Grafton,\n",
            "Wisconsin, has since been fired. The remaining 500 doses were\n",
            "discarded, the pharmacist said. The remaining 500 doses were discarded\n",
            "before hospital officials determined the medication had been left\n",
            "unrefrigerated long enough to\n",
            "The pharmacist, an employee of Aurora Medical Center in Grafton,\n",
            "Wisconsin, has since been fired. The remaining 500 doses were\n",
            "discarded, the pharmacist said. The remaining 500 doses were discarded\n",
            "before hospital officials determined the medication had been left\n",
            "unrefrigerated long enough to render\n",
            "The pharmacist, an employee of Aurora Medical Center in Grafton,\n",
            "Wisconsin, has since been fired. The remaining 500 doses were\n",
            "discarded, the pharmacist said. The remaining 500 doses were discarded\n",
            "before hospital officials determined the medication had been left\n",
            "unrefrigerated long enough to render the\n",
            "The pharmacist, an employee of Aurora Medical Center in Grafton,\n",
            "Wisconsin, has since been fired. The remaining 500 doses were\n",
            "discarded, the pharmacist said. The remaining 500 doses were discarded\n",
            "before hospital officials determined the medication had been left\n",
            "unrefrigerated long enough to render the vaccine\n",
            "The pharmacist, an employee of Aurora Medical Center in Grafton,\n",
            "Wisconsin, has since been fired. The remaining 500 doses were\n",
            "discarded, the pharmacist said. The remaining 500 doses were discarded\n",
            "before hospital officials determined the medication had been left\n",
            "unrefrigerated long enough to render the vaccine\n",
            "The pharmacist, an employee of Aurora Medical Center in Grafton,\n",
            "Wisconsin, has since been fired. The remaining 500 doses were\n",
            "discarded, the pharmacist said. The remaining 500 doses were discarded\n",
            "before hospital officials determined the medication had been left\n",
            "unrefrigerated long enough to render the vaccine ineff\n",
            "The pharmacist, an employee of Aurora Medical Center in Grafton,\n",
            "Wisconsin, has since been fired. The remaining 500 doses were\n",
            "discarded, the pharmacist said. The remaining 500 doses were discarded\n",
            "before hospital officials determined the medication had been left\n",
            "unrefrigerated long enough to render the vaccine ineffective\n",
            "The pharmacist, an employee of Aurora Medical Center in Grafton,\n",
            "Wisconsin, has since been fired. The remaining 500 doses were\n",
            "discarded, the pharmacist said. The remaining 500 doses were discarded\n",
            "before hospital officials determined the medication had been left\n",
            "unrefrigerated long enough to render the vaccine ineffective.\n",
            "The pharmacist, an employee of Aurora Medical Center in Grafton,\n",
            "Wisconsin, has since been fired. The remaining 500 doses were\n",
            "discarded, the pharmacist said. The remaining 500 doses were discarded\n",
            "before hospital officials determined the medication had been left\n",
            "unrefrigerated long enough to render the vaccine ineffective.<EOS>\n",
            "The pharmacist, an employee of Aurora Medical Center in Grafton,\n",
            "Wisconsin, has since been fired. The remaining 500 doses were\n",
            "discarded, the pharmacist said. The remaining 500 doses were discarded\n",
            "before hospital officials determined the medication had been left\n",
            "unrefrigerated long enough to render the vaccine ineffective.<EOS>\n"
          ],
          "name": "stdout"
        }
      ]
    }
  ]
}